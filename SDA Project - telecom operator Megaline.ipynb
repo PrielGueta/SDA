{
 "cells": [
  {
   "cell_type": "markdown",
   "id": "90bebe50",
   "metadata": {},
   "source": [
    "# We work as an analyst for the telecom operator Megaline. The company offers its clients two prepaid plans, Surf and Ultimate. The commercial department wants to know which of the plans brings in more revenue in order to adjust the advertising budget.\n",
    "\n",
    "## We are going to carry out a preliminary analysis of the plans based on 500 Megaline clients: who the clients are, where they're from, which plan they use, and the number of calls they made and text messages they sent in 2018. <br>We will analyze clients' behavior and determine which prepaid plan brings in more revenue."
   ]
  },
  {
   "cell_type": "markdown",
   "id": "abbfebb7",
   "metadata": {},
   "source": [
    "### Tables Of Contents <a class=\"anchor\" id=\"table_of_contents\"></a>\n",
    "\n",
    "* [Prepare The Data](#chapter1)\n",
    "    * [Import Libraries](#section_1_1)\n",
    "    * [Open data file](#section_1_2)\n",
    "    * [Overview](#section_1_3)\n",
    "    * [Dealing with missing values](#section_1_4)\n",
    "    * [Convert dtypes](#section_1_5)\n",
    "    * [For each user - find call duration, # of sms and data usage per month](#section_1_6)\n",
    "    * [Calculate Revenue from each user](#section_1_7)\n",
    "    \n",
    "* [Data Analysis](#chapter2)\n",
    "    * [Central tendency of usage](#section_2_1)\n",
    "    * [Test the hypothese](#section_2_2)\n",
    "\n",
    "* [Overall conclusion](#chapter3)\n"
   ]
  },
  {
   "cell_type": "markdown",
   "id": "f23505d0",
   "metadata": {},
   "source": [
    "## Prepare The Data: <a class=\"anchor\" id=\"chapter1\">"
   ]
  },
  {
   "cell_type": "markdown",
   "id": "1bbd9ab9",
   "metadata": {},
   "source": [
    "### Import libraries:<a class=\"anchor\" id=\"section_1_1\">"
   ]
  },
  {
   "cell_type": "code",
   "execution_count": 1,
   "id": "691f9143",
   "metadata": {},
   "outputs": [],
   "source": [
    "import pandas as pd\n",
    "import numpy as np\n",
    "import matplotlib.pyplot as plt\n",
    "from math import factorial\n",
    "from scipy import stats as st\n",
    "import seaborn as sns\n",
    "from scipy.stats import mannwhitneyu"
   ]
  },
  {
   "cell_type": "markdown",
   "id": "a0452a19",
   "metadata": {},
   "source": [
    "### Open data files: <a class=\"anchor\" id=\"section_1_2\">"
   ]
  },
  {
   "cell_type": "code",
   "execution_count": 2,
   "id": "443d2ba3",
   "metadata": {},
   "outputs": [],
   "source": [
    "try:\n",
    "    df_users = pd.read_csv('C:/Users/priel/Downloads/megaline_users.csv')\n",
    "    df_calls = pd.read_csv('C:/Users/priel/Downloads/megaline_calls.csv')\n",
    "    df_data = pd.read_csv('C:/Users/priel/Downloads/megaline_internet.csv')\n",
    "    df_sms = pd.read_csv('C:/Users/priel/Downloads/megaline_messages.csv')    \n",
    "    df_plans = pd.read_csv('C:/Users/priel/Downloads/megaline_plans.csv')\n",
    "    \n",
    "except: \n",
    "    df_users = pd.read_csv('/datasets/megaline_users.csv')\n",
    "    df_calls= pd.read_csv('/datasets/megaline_calls.csv')\n",
    "    df_data = pd.read_csv('/datasets/megaline_internet.csv')\n",
    "    df_sms = pd.read_csv('/datasets/megaline_messages.csv')\n",
    "    df_plans = pd.read_csv('/datasets/megaline_plans.csv')"
   ]
  },
  {
   "cell_type": "markdown",
   "id": "cacbb949",
   "metadata": {},
   "source": [
    "#### [Go back to the Table of Contents](#table_of_contents)"
   ]
  },
  {
   "cell_type": "markdown",
   "id": "349f9f47",
   "metadata": {},
   "source": [
    "### Overview: <a class=\"anchor\" id=\"section_1_3\">"
   ]
  },
  {
   "cell_type": "markdown",
   "id": "78af7b14",
   "metadata": {},
   "source": [
    "#### Starting with df_users:"
   ]
  },
  {
   "cell_type": "code",
   "execution_count": 3,
   "id": "c2200be1",
   "metadata": {},
   "outputs": [
    {
     "data": {
      "text/html": [
       "<div>\n",
       "<style scoped>\n",
       "    .dataframe tbody tr th:only-of-type {\n",
       "        vertical-align: middle;\n",
       "    }\n",
       "\n",
       "    .dataframe tbody tr th {\n",
       "        vertical-align: top;\n",
       "    }\n",
       "\n",
       "    .dataframe thead th {\n",
       "        text-align: right;\n",
       "    }\n",
       "</style>\n",
       "<table border=\"1\" class=\"dataframe\">\n",
       "  <thead>\n",
       "    <tr style=\"text-align: right;\">\n",
       "      <th></th>\n",
       "      <th>user_id</th>\n",
       "      <th>first_name</th>\n",
       "      <th>last_name</th>\n",
       "      <th>age</th>\n",
       "      <th>city</th>\n",
       "      <th>reg_date</th>\n",
       "      <th>plan</th>\n",
       "      <th>churn_date</th>\n",
       "    </tr>\n",
       "  </thead>\n",
       "  <tbody>\n",
       "    <tr>\n",
       "      <td>425</td>\n",
       "      <td>1425</td>\n",
       "      <td>Latrisha</td>\n",
       "      <td>Larsen</td>\n",
       "      <td>19</td>\n",
       "      <td>Las Vegas-Henderson-Paradise, NV MSA</td>\n",
       "      <td>2018-09-20</td>\n",
       "      <td>surf</td>\n",
       "      <td>NaN</td>\n",
       "    </tr>\n",
       "    <tr>\n",
       "      <td>64</td>\n",
       "      <td>1064</td>\n",
       "      <td>Gerardo</td>\n",
       "      <td>Ashley</td>\n",
       "      <td>46</td>\n",
       "      <td>New York-Newark-Jersey City, NY-NJ-PA MSA</td>\n",
       "      <td>2018-06-03</td>\n",
       "      <td>surf</td>\n",
       "      <td>NaN</td>\n",
       "    </tr>\n",
       "    <tr>\n",
       "      <td>152</td>\n",
       "      <td>1152</td>\n",
       "      <td>Merrill</td>\n",
       "      <td>Hogan</td>\n",
       "      <td>35</td>\n",
       "      <td>Orlando-Kissimmee-Sanford, FL MSA</td>\n",
       "      <td>2018-11-01</td>\n",
       "      <td>surf</td>\n",
       "      <td>NaN</td>\n",
       "    </tr>\n",
       "    <tr>\n",
       "      <td>333</td>\n",
       "      <td>1333</td>\n",
       "      <td>Macy</td>\n",
       "      <td>David</td>\n",
       "      <td>57</td>\n",
       "      <td>Los Angeles-Long Beach-Anaheim, CA MSA</td>\n",
       "      <td>2018-11-24</td>\n",
       "      <td>ultimate</td>\n",
       "      <td>NaN</td>\n",
       "    </tr>\n",
       "    <tr>\n",
       "      <td>83</td>\n",
       "      <td>1083</td>\n",
       "      <td>Lyndia</td>\n",
       "      <td>Acevedo</td>\n",
       "      <td>65</td>\n",
       "      <td>Los Angeles-Long Beach-Anaheim, CA MSA</td>\n",
       "      <td>2018-10-26</td>\n",
       "      <td>surf</td>\n",
       "      <td>2018-12-18</td>\n",
       "    </tr>\n",
       "  </tbody>\n",
       "</table>\n",
       "</div>"
      ],
      "text/plain": [
       "     user_id first_name last_name  age  \\\n",
       "425     1425   Latrisha    Larsen   19   \n",
       "64      1064    Gerardo    Ashley   46   \n",
       "152     1152    Merrill     Hogan   35   \n",
       "333     1333       Macy     David   57   \n",
       "83      1083     Lyndia   Acevedo   65   \n",
       "\n",
       "                                          city    reg_date      plan  \\\n",
       "425       Las Vegas-Henderson-Paradise, NV MSA  2018-09-20      surf   \n",
       "64   New York-Newark-Jersey City, NY-NJ-PA MSA  2018-06-03      surf   \n",
       "152          Orlando-Kissimmee-Sanford, FL MSA  2018-11-01      surf   \n",
       "333     Los Angeles-Long Beach-Anaheim, CA MSA  2018-11-24  ultimate   \n",
       "83      Los Angeles-Long Beach-Anaheim, CA MSA  2018-10-26      surf   \n",
       "\n",
       "     churn_date  \n",
       "425         NaN  \n",
       "64          NaN  \n",
       "152         NaN  \n",
       "333         NaN  \n",
       "83   2018-12-18  "
      ]
     },
     "execution_count": 3,
     "metadata": {},
     "output_type": "execute_result"
    }
   ],
   "source": [
    "df_users.sample(5)"
   ]
  },
  {
   "cell_type": "code",
   "execution_count": 4,
   "id": "7cce184b",
   "metadata": {},
   "outputs": [
    {
     "name": "stdout",
     "output_type": "stream",
     "text": [
      "<class 'pandas.core.frame.DataFrame'>\n",
      "RangeIndex: 500 entries, 0 to 499\n",
      "Data columns (total 8 columns):\n",
      "user_id       500 non-null int64\n",
      "first_name    500 non-null object\n",
      "last_name     500 non-null object\n",
      "age           500 non-null int64\n",
      "city          500 non-null object\n",
      "reg_date      500 non-null object\n",
      "plan          500 non-null object\n",
      "churn_date    34 non-null object\n",
      "dtypes: int64(2), object(6)\n",
      "memory usage: 31.4+ KB\n"
     ]
    }
   ],
   "source": [
    "df_users.info()"
   ]
  },
  {
   "cell_type": "code",
   "execution_count": 5,
   "id": "becf0126",
   "metadata": {},
   "outputs": [
    {
     "data": {
      "text/plain": [
       "user_id       0.000\n",
       "first_name    0.000\n",
       "last_name     0.000\n",
       "age           0.000\n",
       "city          0.000\n",
       "reg_date      0.000\n",
       "plan          0.000\n",
       "churn_date    0.932\n",
       "dtype: float64"
      ]
     },
     "execution_count": 5,
     "metadata": {},
     "output_type": "execute_result"
    }
   ],
   "source": [
    "df_users.isna().sum()/len(df_users)"
   ]
  },
  {
   "cell_type": "markdown",
   "id": "ecfefc94",
   "metadata": {},
   "source": [
    "###### Errors found in df_users:\n",
    "* reg_date and churn_date are object, and should be datetime.\n",
    "* churn_date have 466 missing values**(93%)**, meaning that 34 users have stopped the service on a given date.\n",
    "* first name and last name are two columns, we can consider joining them togather.(or drop them, since we dont need them for analysis)"
   ]
  },
  {
   "cell_type": "markdown",
   "id": "239849c5",
   "metadata": {},
   "source": [
    "#### Moving to df_calls:"
   ]
  },
  {
   "cell_type": "code",
   "execution_count": 6,
   "id": "749d5256",
   "metadata": {},
   "outputs": [
    {
     "data": {
      "text/html": [
       "<div>\n",
       "<style scoped>\n",
       "    .dataframe tbody tr th:only-of-type {\n",
       "        vertical-align: middle;\n",
       "    }\n",
       "\n",
       "    .dataframe tbody tr th {\n",
       "        vertical-align: top;\n",
       "    }\n",
       "\n",
       "    .dataframe thead th {\n",
       "        text-align: right;\n",
       "    }\n",
       "</style>\n",
       "<table border=\"1\" class=\"dataframe\">\n",
       "  <thead>\n",
       "    <tr style=\"text-align: right;\">\n",
       "      <th></th>\n",
       "      <th>id</th>\n",
       "      <th>user_id</th>\n",
       "      <th>call_date</th>\n",
       "      <th>duration</th>\n",
       "    </tr>\n",
       "  </thead>\n",
       "  <tbody>\n",
       "    <tr>\n",
       "      <td>79824</td>\n",
       "      <td>1285_352</td>\n",
       "      <td>1285</td>\n",
       "      <td>2018-12-16</td>\n",
       "      <td>8.00</td>\n",
       "    </tr>\n",
       "    <tr>\n",
       "      <td>12957</td>\n",
       "      <td>1056_100</td>\n",
       "      <td>1056</td>\n",
       "      <td>2018-12-18</td>\n",
       "      <td>2.86</td>\n",
       "    </tr>\n",
       "    <tr>\n",
       "      <td>9900</td>\n",
       "      <td>1044_174</td>\n",
       "      <td>1044</td>\n",
       "      <td>2018-10-13</td>\n",
       "      <td>12.79</td>\n",
       "    </tr>\n",
       "    <tr>\n",
       "      <td>424</td>\n",
       "      <td>1003_34</td>\n",
       "      <td>1003</td>\n",
       "      <td>2018-12-27</td>\n",
       "      <td>0.00</td>\n",
       "    </tr>\n",
       "    <tr>\n",
       "      <td>77996</td>\n",
       "      <td>1279_124</td>\n",
       "      <td>1279</td>\n",
       "      <td>2018-11-10</td>\n",
       "      <td>7.14</td>\n",
       "    </tr>\n",
       "  </tbody>\n",
       "</table>\n",
       "</div>"
      ],
      "text/plain": [
       "             id  user_id   call_date  duration\n",
       "79824  1285_352     1285  2018-12-16      8.00\n",
       "12957  1056_100     1056  2018-12-18      2.86\n",
       "9900   1044_174     1044  2018-10-13     12.79\n",
       "424     1003_34     1003  2018-12-27      0.00\n",
       "77996  1279_124     1279  2018-11-10      7.14"
      ]
     },
     "execution_count": 6,
     "metadata": {},
     "output_type": "execute_result"
    }
   ],
   "source": [
    "df_calls.sample(5)"
   ]
  },
  {
   "cell_type": "code",
   "execution_count": 7,
   "id": "d8c3f6fa",
   "metadata": {},
   "outputs": [
    {
     "data": {
      "text/plain": [
       "0"
      ]
     },
     "execution_count": 7,
     "metadata": {},
     "output_type": "execute_result"
    }
   ],
   "source": [
    "df_calls['id'].duplicated().sum()"
   ]
  },
  {
   "cell_type": "code",
   "execution_count": 8,
   "id": "0edf3622",
   "metadata": {},
   "outputs": [
    {
     "name": "stdout",
     "output_type": "stream",
     "text": [
      "<class 'pandas.core.frame.DataFrame'>\n",
      "RangeIndex: 137735 entries, 0 to 137734\n",
      "Data columns (total 4 columns):\n",
      "id           137735 non-null object\n",
      "user_id      137735 non-null int64\n",
      "call_date    137735 non-null object\n",
      "duration     137735 non-null float64\n",
      "dtypes: float64(1), int64(1), object(2)\n",
      "memory usage: 4.2+ MB\n"
     ]
    }
   ],
   "source": [
    "df_calls.info()"
   ]
  },
  {
   "cell_type": "markdown",
   "id": "d8725127",
   "metadata": {},
   "source": [
    "##### Errors found in df_calls:\n",
    "* call_date is object, should be datetime."
   ]
  },
  {
   "cell_type": "markdown",
   "id": "93f90cad",
   "metadata": {},
   "source": [
    "#### Moving to df_data:"
   ]
  },
  {
   "cell_type": "code",
   "execution_count": 9,
   "id": "732c8874",
   "metadata": {},
   "outputs": [
    {
     "data": {
      "text/html": [
       "<div>\n",
       "<style scoped>\n",
       "    .dataframe tbody tr th:only-of-type {\n",
       "        vertical-align: middle;\n",
       "    }\n",
       "\n",
       "    .dataframe tbody tr th {\n",
       "        vertical-align: top;\n",
       "    }\n",
       "\n",
       "    .dataframe thead th {\n",
       "        text-align: right;\n",
       "    }\n",
       "</style>\n",
       "<table border=\"1\" class=\"dataframe\">\n",
       "  <thead>\n",
       "    <tr style=\"text-align: right;\">\n",
       "      <th></th>\n",
       "      <th>id</th>\n",
       "      <th>user_id</th>\n",
       "      <th>session_date</th>\n",
       "      <th>mb_used</th>\n",
       "    </tr>\n",
       "  </thead>\n",
       "  <tbody>\n",
       "    <tr>\n",
       "      <td>39830</td>\n",
       "      <td>1179_161</td>\n",
       "      <td>1179</td>\n",
       "      <td>2018-10-22</td>\n",
       "      <td>245.20</td>\n",
       "    </tr>\n",
       "    <tr>\n",
       "      <td>71289</td>\n",
       "      <td>1332_262</td>\n",
       "      <td>1332</td>\n",
       "      <td>2018-09-23</td>\n",
       "      <td>97.43</td>\n",
       "    </tr>\n",
       "    <tr>\n",
       "      <td>11073</td>\n",
       "      <td>1055_78</td>\n",
       "      <td>1055</td>\n",
       "      <td>2018-08-05</td>\n",
       "      <td>377.59</td>\n",
       "    </tr>\n",
       "    <tr>\n",
       "      <td>50878</td>\n",
       "      <td>1227_40</td>\n",
       "      <td>1227</td>\n",
       "      <td>2018-12-24</td>\n",
       "      <td>555.30</td>\n",
       "    </tr>\n",
       "    <tr>\n",
       "      <td>12988</td>\n",
       "      <td>1061_485</td>\n",
       "      <td>1061</td>\n",
       "      <td>2018-10-23</td>\n",
       "      <td>88.23</td>\n",
       "    </tr>\n",
       "  </tbody>\n",
       "</table>\n",
       "</div>"
      ],
      "text/plain": [
       "             id  user_id session_date  mb_used\n",
       "39830  1179_161     1179   2018-10-22   245.20\n",
       "71289  1332_262     1332   2018-09-23    97.43\n",
       "11073   1055_78     1055   2018-08-05   377.59\n",
       "50878   1227_40     1227   2018-12-24   555.30\n",
       "12988  1061_485     1061   2018-10-23    88.23"
      ]
     },
     "execution_count": 9,
     "metadata": {},
     "output_type": "execute_result"
    }
   ],
   "source": [
    "df_data.sample(5)"
   ]
  },
  {
   "cell_type": "code",
   "execution_count": 10,
   "id": "3af4c13a",
   "metadata": {},
   "outputs": [
    {
     "data": {
      "text/plain": [
       "0"
      ]
     },
     "execution_count": 10,
     "metadata": {},
     "output_type": "execute_result"
    }
   ],
   "source": [
    "df_data['id'].duplicated().sum()"
   ]
  },
  {
   "cell_type": "code",
   "execution_count": 11,
   "id": "e348bdf1",
   "metadata": {},
   "outputs": [
    {
     "name": "stdout",
     "output_type": "stream",
     "text": [
      "<class 'pandas.core.frame.DataFrame'>\n",
      "RangeIndex: 104825 entries, 0 to 104824\n",
      "Data columns (total 4 columns):\n",
      "id              104825 non-null object\n",
      "user_id         104825 non-null int64\n",
      "session_date    104825 non-null object\n",
      "mb_used         104825 non-null float64\n",
      "dtypes: float64(1), int64(1), object(2)\n",
      "memory usage: 3.2+ MB\n"
     ]
    }
   ],
   "source": [
    "df_data.info()"
   ]
  },
  {
   "cell_type": "markdown",
   "id": "fca84816",
   "metadata": {},
   "source": [
    "##### Error found in df_data:\n",
    "* session_date is object, should be datetime."
   ]
  },
  {
   "cell_type": "markdown",
   "id": "aab5f5bb",
   "metadata": {},
   "source": [
    "#### Moving to df_sms:"
   ]
  },
  {
   "cell_type": "code",
   "execution_count": 12,
   "id": "45a99a6f",
   "metadata": {},
   "outputs": [
    {
     "data": {
      "text/html": [
       "<div>\n",
       "<style scoped>\n",
       "    .dataframe tbody tr th:only-of-type {\n",
       "        vertical-align: middle;\n",
       "    }\n",
       "\n",
       "    .dataframe tbody tr th {\n",
       "        vertical-align: top;\n",
       "    }\n",
       "\n",
       "    .dataframe thead th {\n",
       "        text-align: right;\n",
       "    }\n",
       "</style>\n",
       "<table border=\"1\" class=\"dataframe\">\n",
       "  <thead>\n",
       "    <tr style=\"text-align: right;\">\n",
       "      <th></th>\n",
       "      <th>id</th>\n",
       "      <th>user_id</th>\n",
       "      <th>message_date</th>\n",
       "    </tr>\n",
       "  </thead>\n",
       "  <tbody>\n",
       "    <tr>\n",
       "      <td>2523</td>\n",
       "      <td>1028_442</td>\n",
       "      <td>1028</td>\n",
       "      <td>2018-11-17</td>\n",
       "    </tr>\n",
       "    <tr>\n",
       "      <td>44937</td>\n",
       "      <td>1302_42</td>\n",
       "      <td>1302</td>\n",
       "      <td>2018-09-29</td>\n",
       "    </tr>\n",
       "    <tr>\n",
       "      <td>52860</td>\n",
       "      <td>1337_104</td>\n",
       "      <td>1337</td>\n",
       "      <td>2018-12-28</td>\n",
       "    </tr>\n",
       "    <tr>\n",
       "      <td>74634</td>\n",
       "      <td>1482_47</td>\n",
       "      <td>1482</td>\n",
       "      <td>2018-11-04</td>\n",
       "    </tr>\n",
       "    <tr>\n",
       "      <td>72780</td>\n",
       "      <td>1470_408</td>\n",
       "      <td>1470</td>\n",
       "      <td>2018-07-15</td>\n",
       "    </tr>\n",
       "  </tbody>\n",
       "</table>\n",
       "</div>"
      ],
      "text/plain": [
       "             id  user_id message_date\n",
       "2523   1028_442     1028   2018-11-17\n",
       "44937   1302_42     1302   2018-09-29\n",
       "52860  1337_104     1337   2018-12-28\n",
       "74634   1482_47     1482   2018-11-04\n",
       "72780  1470_408     1470   2018-07-15"
      ]
     },
     "execution_count": 12,
     "metadata": {},
     "output_type": "execute_result"
    }
   ],
   "source": [
    "df_sms.sample(5)"
   ]
  },
  {
   "cell_type": "code",
   "execution_count": 13,
   "id": "6625513e",
   "metadata": {},
   "outputs": [
    {
     "data": {
      "text/plain": [
       "0"
      ]
     },
     "execution_count": 13,
     "metadata": {},
     "output_type": "execute_result"
    }
   ],
   "source": [
    "df_sms['id'].duplicated().sum()"
   ]
  },
  {
   "cell_type": "code",
   "execution_count": 14,
   "id": "c5f066d3",
   "metadata": {},
   "outputs": [
    {
     "name": "stdout",
     "output_type": "stream",
     "text": [
      "<class 'pandas.core.frame.DataFrame'>\n",
      "RangeIndex: 76051 entries, 0 to 76050\n",
      "Data columns (total 3 columns):\n",
      "id              76051 non-null object\n",
      "user_id         76051 non-null int64\n",
      "message_date    76051 non-null object\n",
      "dtypes: int64(1), object(2)\n",
      "memory usage: 1.7+ MB\n"
     ]
    }
   ],
   "source": [
    "df_sms.info()"
   ]
  },
  {
   "cell_type": "markdown",
   "id": "6338ca63",
   "metadata": {},
   "source": [
    "##### Error found in df_sms:\n",
    "* message_date is object, should be datetime."
   ]
  },
  {
   "cell_type": "markdown",
   "id": "91cea30d",
   "metadata": {},
   "source": [
    "#### Moving to df_plans:"
   ]
  },
  {
   "cell_type": "code",
   "execution_count": 15,
   "id": "5cf9b8d3",
   "metadata": {},
   "outputs": [
    {
     "data": {
      "text/html": [
       "<div>\n",
       "<style scoped>\n",
       "    .dataframe tbody tr th:only-of-type {\n",
       "        vertical-align: middle;\n",
       "    }\n",
       "\n",
       "    .dataframe tbody tr th {\n",
       "        vertical-align: top;\n",
       "    }\n",
       "\n",
       "    .dataframe thead th {\n",
       "        text-align: right;\n",
       "    }\n",
       "</style>\n",
       "<table border=\"1\" class=\"dataframe\">\n",
       "  <thead>\n",
       "    <tr style=\"text-align: right;\">\n",
       "      <th></th>\n",
       "      <th>messages_included</th>\n",
       "      <th>mb_per_month_included</th>\n",
       "      <th>minutes_included</th>\n",
       "      <th>usd_monthly_pay</th>\n",
       "      <th>usd_per_gb</th>\n",
       "      <th>usd_per_message</th>\n",
       "      <th>usd_per_minute</th>\n",
       "      <th>plan_name</th>\n",
       "    </tr>\n",
       "  </thead>\n",
       "  <tbody>\n",
       "    <tr>\n",
       "      <td>0</td>\n",
       "      <td>50</td>\n",
       "      <td>15360</td>\n",
       "      <td>500</td>\n",
       "      <td>20</td>\n",
       "      <td>10</td>\n",
       "      <td>0.03</td>\n",
       "      <td>0.03</td>\n",
       "      <td>surf</td>\n",
       "    </tr>\n",
       "    <tr>\n",
       "      <td>1</td>\n",
       "      <td>1000</td>\n",
       "      <td>30720</td>\n",
       "      <td>3000</td>\n",
       "      <td>70</td>\n",
       "      <td>7</td>\n",
       "      <td>0.01</td>\n",
       "      <td>0.01</td>\n",
       "      <td>ultimate</td>\n",
       "    </tr>\n",
       "  </tbody>\n",
       "</table>\n",
       "</div>"
      ],
      "text/plain": [
       "   messages_included  mb_per_month_included  minutes_included  \\\n",
       "0                 50                  15360               500   \n",
       "1               1000                  30720              3000   \n",
       "\n",
       "   usd_monthly_pay  usd_per_gb  usd_per_message  usd_per_minute plan_name  \n",
       "0               20          10             0.03            0.03      surf  \n",
       "1               70           7             0.01            0.01  ultimate  "
      ]
     },
     "execution_count": 15,
     "metadata": {},
     "output_type": "execute_result"
    }
   ],
   "source": [
    "df_plans"
   ]
  },
  {
   "cell_type": "code",
   "execution_count": 16,
   "id": "803c3435",
   "metadata": {},
   "outputs": [
    {
     "name": "stdout",
     "output_type": "stream",
     "text": [
      "<class 'pandas.core.frame.DataFrame'>\n",
      "RangeIndex: 2 entries, 0 to 1\n",
      "Data columns (total 8 columns):\n",
      "messages_included        2 non-null int64\n",
      "mb_per_month_included    2 non-null int64\n",
      "minutes_included         2 non-null int64\n",
      "usd_monthly_pay          2 non-null int64\n",
      "usd_per_gb               2 non-null int64\n",
      "usd_per_message          2 non-null float64\n",
      "usd_per_minute           2 non-null float64\n",
      "plan_name                2 non-null object\n",
      "dtypes: float64(2), int64(5), object(1)\n",
      "memory usage: 256.0+ bytes\n"
     ]
    }
   ],
   "source": [
    "df_plans.info()"
   ]
  },
  {
   "cell_type": "markdown",
   "id": "26c91699",
   "metadata": {},
   "source": [
    "##### No errors found in df_plans."
   ]
  },
  {
   "cell_type": "markdown",
   "id": "92102e37",
   "metadata": {},
   "source": [
    "#### Errors found through out our data sets:\n",
    "* number of columns to convert dtypes - object -> datetime:\n",
    "   * reg_date and churn_date from df_users\n",
    "   * call_date from df_calls\n",
    "   * session_date from df_data\n",
    "   * message_date from df_sms\n",
    "* churn_date has more than 93% missing values (**MNAR**). column description is - the date the user stopped using the service (if the value is missing, the calling plan was being used when this data was retrieved)"
   ]
  },
  {
   "cell_type": "markdown",
   "id": "fdcf8b47",
   "metadata": {},
   "source": [
    "#### [Go back to the Table of Contents](#table_of_contents)  "
   ]
  },
  {
   "cell_type": "markdown",
   "id": "08d322ab",
   "metadata": {},
   "source": [
    "### Dealing with missing values: <a class=\"anchor\" id=\"section_1_4\">"
   ]
  },
  {
   "cell_type": "markdown",
   "id": "bf58e21b",
   "metadata": {},
   "source": [
    "##### Since missing values in the churn_date column means that the user have not stopped the service when the data was collected, it means that the proper value to fill the NaN is with the date of the end of 2018."
   ]
  },
  {
   "cell_type": "code",
   "execution_count": 17,
   "id": "7df42043",
   "metadata": {},
   "outputs": [],
   "source": [
    "df_users['churn_date'].fillna(value= '2018-12-31', inplace=True)"
   ]
  },
  {
   "cell_type": "code",
   "execution_count": 18,
   "id": "f8962ecf",
   "metadata": {},
   "outputs": [
    {
     "data": {
      "text/plain": [
       "2018-12-31    468\n",
       "2018-12-18      3\n",
       "2018-11-14      2\n",
       "2018-12-19      2\n",
       "2018-12-22      1\n",
       "2018-12-30      1\n",
       "2018-11-16      1\n",
       "2018-11-30      1\n",
       "2018-09-17      1\n",
       "2018-10-03      1\n",
       "2018-11-11      1\n",
       "2018-10-13      1\n",
       "2018-09-18      1\n",
       "2018-08-16      1\n",
       "2018-11-21      1\n",
       "2018-12-27      1\n",
       "2018-10-22      1\n",
       "2018-12-12      1\n",
       "2018-09-07      1\n",
       "2018-11-29      1\n",
       "2018-12-15      1\n",
       "2018-08-19      1\n",
       "2018-12-10      1\n",
       "2018-11-24      1\n",
       "2018-11-18      1\n",
       "2018-12-26      1\n",
       "2018-07-31      1\n",
       "2018-09-01      1\n",
       "2018-10-07      1\n",
       "Name: churn_date, dtype: int64"
      ]
     },
     "execution_count": 18,
     "metadata": {},
     "output_type": "execute_result"
    }
   ],
   "source": [
    "#checking\n",
    "df_users['churn_date'].value_counts()"
   ]
  },
  {
   "cell_type": "markdown",
   "id": "1f89d625",
   "metadata": {},
   "source": [
    "#### [Go back to the Table of Contents](#table_of_contents)  "
   ]
  },
  {
   "cell_type": "markdown",
   "id": "108495b3",
   "metadata": {},
   "source": [
    "### Convert data types <a class=\"anchor\" id=\"section_1_5\">"
   ]
  },
  {
   "cell_type": "code",
   "execution_count": 19,
   "id": "a643b780",
   "metadata": {},
   "outputs": [],
   "source": [
    "# convert reg_date to datetime\n",
    "df_users['reg_date'] = pd.to_datetime(df_users['reg_date'])"
   ]
  },
  {
   "cell_type": "code",
   "execution_count": 20,
   "id": "2000d2a5",
   "metadata": {},
   "outputs": [],
   "source": [
    "# convert churn_date to datetime\n",
    "df_users['churn_date'] = pd.to_datetime(df_users['churn_date'])"
   ]
  },
  {
   "cell_type": "code",
   "execution_count": 21,
   "id": "86f18975",
   "metadata": {},
   "outputs": [
    {
     "name": "stdout",
     "output_type": "stream",
     "text": [
      "<class 'pandas.core.frame.DataFrame'>\n",
      "RangeIndex: 500 entries, 0 to 499\n",
      "Data columns (total 8 columns):\n",
      "user_id       500 non-null int64\n",
      "first_name    500 non-null object\n",
      "last_name     500 non-null object\n",
      "age           500 non-null int64\n",
      "city          500 non-null object\n",
      "reg_date      500 non-null datetime64[ns]\n",
      "plan          500 non-null object\n",
      "churn_date    500 non-null datetime64[ns]\n",
      "dtypes: datetime64[ns](2), int64(2), object(4)\n",
      "memory usage: 31.4+ KB\n"
     ]
    }
   ],
   "source": [
    "#checking\n",
    "df_users.info()"
   ]
  },
  {
   "cell_type": "code",
   "execution_count": 22,
   "id": "4177c1e5",
   "metadata": {},
   "outputs": [],
   "source": [
    "# convert call_date to datetime\n",
    "df_calls['call_date'] = pd.to_datetime(df_calls['call_date'])"
   ]
  },
  {
   "cell_type": "code",
   "execution_count": 23,
   "id": "56361b75",
   "metadata": {},
   "outputs": [
    {
     "name": "stdout",
     "output_type": "stream",
     "text": [
      "<class 'pandas.core.frame.DataFrame'>\n",
      "RangeIndex: 137735 entries, 0 to 137734\n",
      "Data columns (total 4 columns):\n",
      "id           137735 non-null object\n",
      "user_id      137735 non-null int64\n",
      "call_date    137735 non-null datetime64[ns]\n",
      "duration     137735 non-null float64\n",
      "dtypes: datetime64[ns](1), float64(1), int64(1), object(1)\n",
      "memory usage: 4.2+ MB\n"
     ]
    }
   ],
   "source": [
    "#checking\n",
    "df_calls.info()"
   ]
  },
  {
   "cell_type": "code",
   "execution_count": 24,
   "id": "a9a0a52c",
   "metadata": {},
   "outputs": [],
   "source": [
    "# convert session_date to datetime\n",
    "df_data['session_date'] = pd.to_datetime(df_data['session_date'])"
   ]
  },
  {
   "cell_type": "code",
   "execution_count": 25,
   "id": "de65ae91",
   "metadata": {},
   "outputs": [
    {
     "name": "stdout",
     "output_type": "stream",
     "text": [
      "<class 'pandas.core.frame.DataFrame'>\n",
      "RangeIndex: 104825 entries, 0 to 104824\n",
      "Data columns (total 4 columns):\n",
      "id              104825 non-null object\n",
      "user_id         104825 non-null int64\n",
      "session_date    104825 non-null datetime64[ns]\n",
      "mb_used         104825 non-null float64\n",
      "dtypes: datetime64[ns](1), float64(1), int64(1), object(1)\n",
      "memory usage: 3.2+ MB\n"
     ]
    }
   ],
   "source": [
    "#checking\n",
    "df_data.info()"
   ]
  },
  {
   "cell_type": "code",
   "execution_count": 26,
   "id": "66e38d32",
   "metadata": {},
   "outputs": [],
   "source": [
    "# convert message_date to datetime\n",
    "df_sms['message_date'] = pd.to_datetime(df_sms['message_date'])"
   ]
  },
  {
   "cell_type": "code",
   "execution_count": 27,
   "id": "6fb253f6",
   "metadata": {},
   "outputs": [
    {
     "name": "stdout",
     "output_type": "stream",
     "text": [
      "<class 'pandas.core.frame.DataFrame'>\n",
      "RangeIndex: 76051 entries, 0 to 76050\n",
      "Data columns (total 3 columns):\n",
      "id              76051 non-null object\n",
      "user_id         76051 non-null int64\n",
      "message_date    76051 non-null datetime64[ns]\n",
      "dtypes: datetime64[ns](1), int64(1), object(1)\n",
      "memory usage: 1.7+ MB\n"
     ]
    }
   ],
   "source": [
    "#checking\n",
    "df_sms.info()"
   ]
  },
  {
   "cell_type": "markdown",
   "id": "b4631e78",
   "metadata": {},
   "source": [
    "#### [Go back to the Table of Contents](#table_of_contents)  "
   ]
  },
  {
   "cell_type": "markdown",
   "id": "9de47907",
   "metadata": {},
   "source": [
    "### For each user - we will find # of calls & minutes, sms, data usage and revenue: <a class=\"anchor\" id=\"section_1_6\">"
   ]
  },
  {
   "cell_type": "markdown",
   "id": "577fe4f2",
   "metadata": {},
   "source": [
    "#### The Logical process for this task is as follow:\n",
    "##### Construct new columns to df_users of days_used and months_used which will give us the number of days a user is using the service.\n",
    "##### Extract the month for every useage date and construct a month column for each dataset, this will help find the monthly usage per user\n",
    "##### Round the minutes of individual calls made upwards (because that's how Megaline calculates minutes)\n",
    "##### Sum the usage of each service by month.\n",
    "##### Round data usage upwards each month:\n",
    "* For calls we will sum the rounded number of minutes \n",
    "* For sms we will count the number of sms sent each month per user\n",
    "* For internet usage we will sum the amount of mb used per month, than we will round it up by GB(just as Megaline do)"
   ]
  },
  {
   "cell_type": "code",
   "execution_count": 28,
   "id": "7ca2cdf0",
   "metadata": {},
   "outputs": [],
   "source": [
    "# construct new days_used column in df_users\n",
    "df_users['days_used'] = (df_users['churn_date'] - df_users['reg_date']).dt.days"
   ]
  },
  {
   "cell_type": "code",
   "execution_count": 29,
   "id": "89ff505b",
   "metadata": {},
   "outputs": [
    {
     "data": {
      "text/html": [
       "<div>\n",
       "<style scoped>\n",
       "    .dataframe tbody tr th:only-of-type {\n",
       "        vertical-align: middle;\n",
       "    }\n",
       "\n",
       "    .dataframe tbody tr th {\n",
       "        vertical-align: top;\n",
       "    }\n",
       "\n",
       "    .dataframe thead th {\n",
       "        text-align: right;\n",
       "    }\n",
       "</style>\n",
       "<table border=\"1\" class=\"dataframe\">\n",
       "  <thead>\n",
       "    <tr style=\"text-align: right;\">\n",
       "      <th></th>\n",
       "      <th>user_id</th>\n",
       "      <th>first_name</th>\n",
       "      <th>last_name</th>\n",
       "      <th>age</th>\n",
       "      <th>city</th>\n",
       "      <th>reg_date</th>\n",
       "      <th>plan</th>\n",
       "      <th>churn_date</th>\n",
       "      <th>days_used</th>\n",
       "    </tr>\n",
       "  </thead>\n",
       "  <tbody>\n",
       "    <tr>\n",
       "      <td>0</td>\n",
       "      <td>1000</td>\n",
       "      <td>Anamaria</td>\n",
       "      <td>Bauer</td>\n",
       "      <td>45</td>\n",
       "      <td>Atlanta-Sandy Springs-Roswell, GA MSA</td>\n",
       "      <td>2018-12-24</td>\n",
       "      <td>ultimate</td>\n",
       "      <td>2018-12-31</td>\n",
       "      <td>7</td>\n",
       "    </tr>\n",
       "    <tr>\n",
       "      <td>1</td>\n",
       "      <td>1001</td>\n",
       "      <td>Mickey</td>\n",
       "      <td>Wilkerson</td>\n",
       "      <td>28</td>\n",
       "      <td>Seattle-Tacoma-Bellevue, WA MSA</td>\n",
       "      <td>2018-08-13</td>\n",
       "      <td>surf</td>\n",
       "      <td>2018-12-31</td>\n",
       "      <td>140</td>\n",
       "    </tr>\n",
       "    <tr>\n",
       "      <td>2</td>\n",
       "      <td>1002</td>\n",
       "      <td>Carlee</td>\n",
       "      <td>Hoffman</td>\n",
       "      <td>36</td>\n",
       "      <td>Las Vegas-Henderson-Paradise, NV MSA</td>\n",
       "      <td>2018-10-21</td>\n",
       "      <td>surf</td>\n",
       "      <td>2018-12-31</td>\n",
       "      <td>71</td>\n",
       "    </tr>\n",
       "    <tr>\n",
       "      <td>3</td>\n",
       "      <td>1003</td>\n",
       "      <td>Reynaldo</td>\n",
       "      <td>Jenkins</td>\n",
       "      <td>52</td>\n",
       "      <td>Tulsa, OK MSA</td>\n",
       "      <td>2018-01-28</td>\n",
       "      <td>surf</td>\n",
       "      <td>2018-12-31</td>\n",
       "      <td>337</td>\n",
       "    </tr>\n",
       "    <tr>\n",
       "      <td>4</td>\n",
       "      <td>1004</td>\n",
       "      <td>Leonila</td>\n",
       "      <td>Thompson</td>\n",
       "      <td>40</td>\n",
       "      <td>Seattle-Tacoma-Bellevue, WA MSA</td>\n",
       "      <td>2018-05-23</td>\n",
       "      <td>surf</td>\n",
       "      <td>2018-12-31</td>\n",
       "      <td>222</td>\n",
       "    </tr>\n",
       "  </tbody>\n",
       "</table>\n",
       "</div>"
      ],
      "text/plain": [
       "   user_id first_name  last_name  age                                   city  \\\n",
       "0     1000   Anamaria      Bauer   45  Atlanta-Sandy Springs-Roswell, GA MSA   \n",
       "1     1001     Mickey  Wilkerson   28        Seattle-Tacoma-Bellevue, WA MSA   \n",
       "2     1002     Carlee    Hoffman   36   Las Vegas-Henderson-Paradise, NV MSA   \n",
       "3     1003   Reynaldo    Jenkins   52                          Tulsa, OK MSA   \n",
       "4     1004    Leonila   Thompson   40        Seattle-Tacoma-Bellevue, WA MSA   \n",
       "\n",
       "    reg_date      plan churn_date  days_used  \n",
       "0 2018-12-24  ultimate 2018-12-31          7  \n",
       "1 2018-08-13      surf 2018-12-31        140  \n",
       "2 2018-10-21      surf 2018-12-31         71  \n",
       "3 2018-01-28      surf 2018-12-31        337  \n",
       "4 2018-05-23      surf 2018-12-31        222  "
      ]
     },
     "execution_count": 29,
     "metadata": {},
     "output_type": "execute_result"
    }
   ],
   "source": [
    "#checking\n",
    "df_users.head()"
   ]
  },
  {
   "cell_type": "code",
   "execution_count": 30,
   "id": "ff092848",
   "metadata": {},
   "outputs": [],
   "source": [
    "# construct months_used out of days_used\n",
    "df_users['months_used'] = df_users['days_used']/30"
   ]
  },
  {
   "cell_type": "code",
   "execution_count": 31,
   "id": "b3d21627",
   "metadata": {},
   "outputs": [
    {
     "data": {
      "text/html": [
       "<div>\n",
       "<style scoped>\n",
       "    .dataframe tbody tr th:only-of-type {\n",
       "        vertical-align: middle;\n",
       "    }\n",
       "\n",
       "    .dataframe tbody tr th {\n",
       "        vertical-align: top;\n",
       "    }\n",
       "\n",
       "    .dataframe thead th {\n",
       "        text-align: right;\n",
       "    }\n",
       "</style>\n",
       "<table border=\"1\" class=\"dataframe\">\n",
       "  <thead>\n",
       "    <tr style=\"text-align: right;\">\n",
       "      <th></th>\n",
       "      <th>user_id</th>\n",
       "      <th>first_name</th>\n",
       "      <th>last_name</th>\n",
       "      <th>age</th>\n",
       "      <th>city</th>\n",
       "      <th>reg_date</th>\n",
       "      <th>plan</th>\n",
       "      <th>churn_date</th>\n",
       "      <th>days_used</th>\n",
       "      <th>months_used</th>\n",
       "    </tr>\n",
       "  </thead>\n",
       "  <tbody>\n",
       "    <tr>\n",
       "      <td>0</td>\n",
       "      <td>1000</td>\n",
       "      <td>Anamaria</td>\n",
       "      <td>Bauer</td>\n",
       "      <td>45</td>\n",
       "      <td>Atlanta-Sandy Springs-Roswell, GA MSA</td>\n",
       "      <td>2018-12-24</td>\n",
       "      <td>ultimate</td>\n",
       "      <td>2018-12-31</td>\n",
       "      <td>7</td>\n",
       "      <td>0.233333</td>\n",
       "    </tr>\n",
       "    <tr>\n",
       "      <td>1</td>\n",
       "      <td>1001</td>\n",
       "      <td>Mickey</td>\n",
       "      <td>Wilkerson</td>\n",
       "      <td>28</td>\n",
       "      <td>Seattle-Tacoma-Bellevue, WA MSA</td>\n",
       "      <td>2018-08-13</td>\n",
       "      <td>surf</td>\n",
       "      <td>2018-12-31</td>\n",
       "      <td>140</td>\n",
       "      <td>4.666667</td>\n",
       "    </tr>\n",
       "    <tr>\n",
       "      <td>2</td>\n",
       "      <td>1002</td>\n",
       "      <td>Carlee</td>\n",
       "      <td>Hoffman</td>\n",
       "      <td>36</td>\n",
       "      <td>Las Vegas-Henderson-Paradise, NV MSA</td>\n",
       "      <td>2018-10-21</td>\n",
       "      <td>surf</td>\n",
       "      <td>2018-12-31</td>\n",
       "      <td>71</td>\n",
       "      <td>2.366667</td>\n",
       "    </tr>\n",
       "    <tr>\n",
       "      <td>3</td>\n",
       "      <td>1003</td>\n",
       "      <td>Reynaldo</td>\n",
       "      <td>Jenkins</td>\n",
       "      <td>52</td>\n",
       "      <td>Tulsa, OK MSA</td>\n",
       "      <td>2018-01-28</td>\n",
       "      <td>surf</td>\n",
       "      <td>2018-12-31</td>\n",
       "      <td>337</td>\n",
       "      <td>11.233333</td>\n",
       "    </tr>\n",
       "    <tr>\n",
       "      <td>4</td>\n",
       "      <td>1004</td>\n",
       "      <td>Leonila</td>\n",
       "      <td>Thompson</td>\n",
       "      <td>40</td>\n",
       "      <td>Seattle-Tacoma-Bellevue, WA MSA</td>\n",
       "      <td>2018-05-23</td>\n",
       "      <td>surf</td>\n",
       "      <td>2018-12-31</td>\n",
       "      <td>222</td>\n",
       "      <td>7.400000</td>\n",
       "    </tr>\n",
       "  </tbody>\n",
       "</table>\n",
       "</div>"
      ],
      "text/plain": [
       "   user_id first_name  last_name  age                                   city  \\\n",
       "0     1000   Anamaria      Bauer   45  Atlanta-Sandy Springs-Roswell, GA MSA   \n",
       "1     1001     Mickey  Wilkerson   28        Seattle-Tacoma-Bellevue, WA MSA   \n",
       "2     1002     Carlee    Hoffman   36   Las Vegas-Henderson-Paradise, NV MSA   \n",
       "3     1003   Reynaldo    Jenkins   52                          Tulsa, OK MSA   \n",
       "4     1004    Leonila   Thompson   40        Seattle-Tacoma-Bellevue, WA MSA   \n",
       "\n",
       "    reg_date      plan churn_date  days_used  months_used  \n",
       "0 2018-12-24  ultimate 2018-12-31          7     0.233333  \n",
       "1 2018-08-13      surf 2018-12-31        140     4.666667  \n",
       "2 2018-10-21      surf 2018-12-31         71     2.366667  \n",
       "3 2018-01-28      surf 2018-12-31        337    11.233333  \n",
       "4 2018-05-23      surf 2018-12-31        222     7.400000  "
      ]
     },
     "execution_count": 31,
     "metadata": {},
     "output_type": "execute_result"
    }
   ],
   "source": [
    "#checking\n",
    "df_users.head()"
   ]
  },
  {
   "cell_type": "code",
   "execution_count": 32,
   "id": "20a63873",
   "metadata": {},
   "outputs": [
    {
     "data": {
      "text/plain": [
       "36"
      ]
     },
     "execution_count": 32,
     "metadata": {},
     "output_type": "execute_result"
    }
   ],
   "source": [
    "len(df_users.loc[df_users['months_used']<1])"
   ]
  },
  {
   "cell_type": "markdown",
   "id": "2b99e0b8",
   "metadata": {},
   "source": [
    "**We have 36 users that used the service for less than one month, we can consider dropping those rows.**"
   ]
  },
  {
   "cell_type": "markdown",
   "id": "8f3bdc3c",
   "metadata": {},
   "source": [
    "##### Construct new columns of month for each dataset to help find the monthly usage:"
   ]
  },
  {
   "cell_type": "code",
   "execution_count": 33,
   "id": "e9c05d89",
   "metadata": {},
   "outputs": [],
   "source": [
    "df_calls['month'] = pd.DatetimeIndex(df_calls['call_date']).month"
   ]
  },
  {
   "cell_type": "code",
   "execution_count": 34,
   "id": "bfbb00c5",
   "metadata": {},
   "outputs": [],
   "source": [
    "df_sms['month'] = pd.DatetimeIndex(df_sms['message_date']).month"
   ]
  },
  {
   "cell_type": "code",
   "execution_count": 35,
   "id": "c54d8d8d",
   "metadata": {},
   "outputs": [],
   "source": [
    "df_data['month'] = pd.DatetimeIndex(df_data['session_date']).month"
   ]
  },
  {
   "cell_type": "code",
   "execution_count": 36,
   "id": "15fc3ebc",
   "metadata": {},
   "outputs": [
    {
     "data": {
      "text/html": [
       "<div>\n",
       "<style scoped>\n",
       "    .dataframe tbody tr th:only-of-type {\n",
       "        vertical-align: middle;\n",
       "    }\n",
       "\n",
       "    .dataframe tbody tr th {\n",
       "        vertical-align: top;\n",
       "    }\n",
       "\n",
       "    .dataframe thead th {\n",
       "        text-align: right;\n",
       "    }\n",
       "</style>\n",
       "<table border=\"1\" class=\"dataframe\">\n",
       "  <thead>\n",
       "    <tr style=\"text-align: right;\">\n",
       "      <th></th>\n",
       "      <th>id</th>\n",
       "      <th>user_id</th>\n",
       "      <th>call_date</th>\n",
       "      <th>duration</th>\n",
       "      <th>month</th>\n",
       "    </tr>\n",
       "  </thead>\n",
       "  <tbody>\n",
       "    <tr>\n",
       "      <td>0</td>\n",
       "      <td>1000_93</td>\n",
       "      <td>1000</td>\n",
       "      <td>2018-12-27</td>\n",
       "      <td>8.52</td>\n",
       "      <td>12</td>\n",
       "    </tr>\n",
       "    <tr>\n",
       "      <td>1</td>\n",
       "      <td>1000_145</td>\n",
       "      <td>1000</td>\n",
       "      <td>2018-12-27</td>\n",
       "      <td>13.66</td>\n",
       "      <td>12</td>\n",
       "    </tr>\n",
       "    <tr>\n",
       "      <td>2</td>\n",
       "      <td>1000_247</td>\n",
       "      <td>1000</td>\n",
       "      <td>2018-12-27</td>\n",
       "      <td>14.48</td>\n",
       "      <td>12</td>\n",
       "    </tr>\n",
       "    <tr>\n",
       "      <td>3</td>\n",
       "      <td>1000_309</td>\n",
       "      <td>1000</td>\n",
       "      <td>2018-12-28</td>\n",
       "      <td>5.76</td>\n",
       "      <td>12</td>\n",
       "    </tr>\n",
       "    <tr>\n",
       "      <td>4</td>\n",
       "      <td>1000_380</td>\n",
       "      <td>1000</td>\n",
       "      <td>2018-12-30</td>\n",
       "      <td>4.22</td>\n",
       "      <td>12</td>\n",
       "    </tr>\n",
       "  </tbody>\n",
       "</table>\n",
       "</div>"
      ],
      "text/plain": [
       "         id  user_id  call_date  duration  month\n",
       "0   1000_93     1000 2018-12-27      8.52     12\n",
       "1  1000_145     1000 2018-12-27     13.66     12\n",
       "2  1000_247     1000 2018-12-27     14.48     12\n",
       "3  1000_309     1000 2018-12-28      5.76     12\n",
       "4  1000_380     1000 2018-12-30      4.22     12"
      ]
     },
     "execution_count": 36,
     "metadata": {},
     "output_type": "execute_result"
    }
   ],
   "source": [
    "#checking\n",
    "df_calls.head()"
   ]
  },
  {
   "cell_type": "code",
   "execution_count": 37,
   "id": "7f8e030e",
   "metadata": {},
   "outputs": [
    {
     "data": {
      "text/html": [
       "<div>\n",
       "<style scoped>\n",
       "    .dataframe tbody tr th:only-of-type {\n",
       "        vertical-align: middle;\n",
       "    }\n",
       "\n",
       "    .dataframe tbody tr th {\n",
       "        vertical-align: top;\n",
       "    }\n",
       "\n",
       "    .dataframe thead th {\n",
       "        text-align: right;\n",
       "    }\n",
       "</style>\n",
       "<table border=\"1\" class=\"dataframe\">\n",
       "  <thead>\n",
       "    <tr style=\"text-align: right;\">\n",
       "      <th></th>\n",
       "      <th>id</th>\n",
       "      <th>user_id</th>\n",
       "      <th>message_date</th>\n",
       "      <th>month</th>\n",
       "    </tr>\n",
       "  </thead>\n",
       "  <tbody>\n",
       "    <tr>\n",
       "      <td>0</td>\n",
       "      <td>1000_125</td>\n",
       "      <td>1000</td>\n",
       "      <td>2018-12-27</td>\n",
       "      <td>12</td>\n",
       "    </tr>\n",
       "    <tr>\n",
       "      <td>1</td>\n",
       "      <td>1000_160</td>\n",
       "      <td>1000</td>\n",
       "      <td>2018-12-31</td>\n",
       "      <td>12</td>\n",
       "    </tr>\n",
       "    <tr>\n",
       "      <td>2</td>\n",
       "      <td>1000_223</td>\n",
       "      <td>1000</td>\n",
       "      <td>2018-12-31</td>\n",
       "      <td>12</td>\n",
       "    </tr>\n",
       "    <tr>\n",
       "      <td>3</td>\n",
       "      <td>1000_251</td>\n",
       "      <td>1000</td>\n",
       "      <td>2018-12-27</td>\n",
       "      <td>12</td>\n",
       "    </tr>\n",
       "    <tr>\n",
       "      <td>4</td>\n",
       "      <td>1000_255</td>\n",
       "      <td>1000</td>\n",
       "      <td>2018-12-26</td>\n",
       "      <td>12</td>\n",
       "    </tr>\n",
       "  </tbody>\n",
       "</table>\n",
       "</div>"
      ],
      "text/plain": [
       "         id  user_id message_date  month\n",
       "0  1000_125     1000   2018-12-27     12\n",
       "1  1000_160     1000   2018-12-31     12\n",
       "2  1000_223     1000   2018-12-31     12\n",
       "3  1000_251     1000   2018-12-27     12\n",
       "4  1000_255     1000   2018-12-26     12"
      ]
     },
     "execution_count": 37,
     "metadata": {},
     "output_type": "execute_result"
    }
   ],
   "source": [
    "#checking\n",
    "df_sms.head()"
   ]
  },
  {
   "cell_type": "code",
   "execution_count": 38,
   "id": "f2b98f4f",
   "metadata": {},
   "outputs": [
    {
     "data": {
      "text/html": [
       "<div>\n",
       "<style scoped>\n",
       "    .dataframe tbody tr th:only-of-type {\n",
       "        vertical-align: middle;\n",
       "    }\n",
       "\n",
       "    .dataframe tbody tr th {\n",
       "        vertical-align: top;\n",
       "    }\n",
       "\n",
       "    .dataframe thead th {\n",
       "        text-align: right;\n",
       "    }\n",
       "</style>\n",
       "<table border=\"1\" class=\"dataframe\">\n",
       "  <thead>\n",
       "    <tr style=\"text-align: right;\">\n",
       "      <th></th>\n",
       "      <th>id</th>\n",
       "      <th>user_id</th>\n",
       "      <th>session_date</th>\n",
       "      <th>mb_used</th>\n",
       "      <th>month</th>\n",
       "    </tr>\n",
       "  </thead>\n",
       "  <tbody>\n",
       "    <tr>\n",
       "      <td>0</td>\n",
       "      <td>1000_13</td>\n",
       "      <td>1000</td>\n",
       "      <td>2018-12-29</td>\n",
       "      <td>89.86</td>\n",
       "      <td>12</td>\n",
       "    </tr>\n",
       "    <tr>\n",
       "      <td>1</td>\n",
       "      <td>1000_204</td>\n",
       "      <td>1000</td>\n",
       "      <td>2018-12-31</td>\n",
       "      <td>0.00</td>\n",
       "      <td>12</td>\n",
       "    </tr>\n",
       "    <tr>\n",
       "      <td>2</td>\n",
       "      <td>1000_379</td>\n",
       "      <td>1000</td>\n",
       "      <td>2018-12-28</td>\n",
       "      <td>660.40</td>\n",
       "      <td>12</td>\n",
       "    </tr>\n",
       "    <tr>\n",
       "      <td>3</td>\n",
       "      <td>1000_413</td>\n",
       "      <td>1000</td>\n",
       "      <td>2018-12-26</td>\n",
       "      <td>270.99</td>\n",
       "      <td>12</td>\n",
       "    </tr>\n",
       "    <tr>\n",
       "      <td>4</td>\n",
       "      <td>1000_442</td>\n",
       "      <td>1000</td>\n",
       "      <td>2018-12-27</td>\n",
       "      <td>880.22</td>\n",
       "      <td>12</td>\n",
       "    </tr>\n",
       "  </tbody>\n",
       "</table>\n",
       "</div>"
      ],
      "text/plain": [
       "         id  user_id session_date  mb_used  month\n",
       "0   1000_13     1000   2018-12-29    89.86     12\n",
       "1  1000_204     1000   2018-12-31     0.00     12\n",
       "2  1000_379     1000   2018-12-28   660.40     12\n",
       "3  1000_413     1000   2018-12-26   270.99     12\n",
       "4  1000_442     1000   2018-12-27   880.22     12"
      ]
     },
     "execution_count": 38,
     "metadata": {},
     "output_type": "execute_result"
    }
   ],
   "source": [
    "#checking\n",
    "df_data.head()"
   ]
  },
  {
   "cell_type": "markdown",
   "id": "1622906d",
   "metadata": {},
   "source": [
    "#### Next, rounding individual calls duration up (just as Megaline do):"
   ]
  },
  {
   "cell_type": "code",
   "execution_count": 39,
   "id": "d7f2e0d1",
   "metadata": {},
   "outputs": [],
   "source": [
    "df_calls['duration'] = np.ceil(df_calls['duration'])"
   ]
  },
  {
   "cell_type": "code",
   "execution_count": 40,
   "id": "364f6e55",
   "metadata": {},
   "outputs": [
    {
     "data": {
      "text/plain": [
       "0.0     26834\n",
       "6.0      7848\n",
       "5.0      7778\n",
       "7.0      7769\n",
       "8.0      7718\n",
       "4.0      7434\n",
       "9.0      7357\n",
       "3.0      6942\n",
       "10.0     6918\n",
       "2.0      6446\n",
       "11.0     6407\n",
       "1.0      5795\n",
       "12.0     5750\n",
       "13.0     5070\n",
       "14.0     4402\n",
       "15.0     3889\n",
       "16.0     3011\n",
       "17.0     2461\n",
       "18.0     1992\n",
       "19.0     1604\n",
       "20.0     1243\n",
       "21.0      910\n",
       "22.0      671\n",
       "23.0      461\n",
       "24.0      324\n",
       "25.0      235\n",
       "26.0      157\n",
       "27.0      118\n",
       "28.0       62\n",
       "29.0       58\n",
       "30.0       27\n",
       "31.0       18\n",
       "32.0       13\n",
       "33.0        6\n",
       "36.0        3\n",
       "34.0        2\n",
       "38.0        1\n",
       "37.0        1\n",
       "Name: duration, dtype: int64"
      ]
     },
     "execution_count": 40,
     "metadata": {},
     "output_type": "execute_result"
    }
   ],
   "source": [
    "#checking\n",
    "df_calls['duration'].value_counts()"
   ]
  },
  {
   "cell_type": "markdown",
   "id": "9703ad28",
   "metadata": {},
   "source": [
    "**We have a lot of zeros in duration and mb_used columns. let's check their portion and try to find out why this has happaned**"
   ]
  },
  {
   "cell_type": "code",
   "execution_count": 41,
   "id": "72de4e81",
   "metadata": {},
   "outputs": [
    {
     "data": {
      "text/plain": [
       "'Number of zeros in duration column, in the calls table:'"
      ]
     },
     "metadata": {},
     "output_type": "display_data"
    },
    {
     "data": {
      "text/plain": [
       "26834"
      ]
     },
     "metadata": {},
     "output_type": "display_data"
    }
   ],
   "source": [
    "#using count() method to check number of zero in the column\n",
    "display('Number of zeros in duration column, in the calls table:')\n",
    "display(df_calls[df_calls['duration']==0]['id'].count())"
   ]
  },
  {
   "cell_type": "code",
   "execution_count": 42,
   "id": "f230196b",
   "metadata": {},
   "outputs": [
    {
     "data": {
      "text/plain": [
       "'Number of zeros in mb_used column, in the data table:'"
      ]
     },
     "metadata": {},
     "output_type": "display_data"
    },
    {
     "data": {
      "text/plain": [
       "13747"
      ]
     },
     "metadata": {},
     "output_type": "display_data"
    }
   ],
   "source": [
    "#using count() method to check number of zero in the column\n",
    "display('Number of zeros in mb_used column, in the data table:')\n",
    "display(df_data[df_data['mb_used']==0]['id'].count())"
   ]
  },
  {
   "cell_type": "markdown",
   "id": "973a0c8e",
   "metadata": {},
   "source": [
    "**Let's check their portion in the column**"
   ]
  },
  {
   "cell_type": "code",
   "execution_count": 43,
   "id": "1cdc124d",
   "metadata": {},
   "outputs": [
    {
     "data": {
      "text/plain": [
       "'Portion of zeros in duration column, in the calls table:'"
      ]
     },
     "metadata": {},
     "output_type": "display_data"
    },
    {
     "data": {
      "text/plain": [
       "'19.5%'"
      ]
     },
     "metadata": {},
     "output_type": "display_data"
    }
   ],
   "source": [
    "#using count() and len() method to check portion of zero in the column\n",
    "display('Portion of zeros in duration column, in the calls table:')\n",
    "display('{:.1%}'.format(df_calls[df_calls['duration']==0]['id'].count()/len(df_calls)))"
   ]
  },
  {
   "cell_type": "code",
   "execution_count": 44,
   "id": "e468e3aa",
   "metadata": {},
   "outputs": [
    {
     "data": {
      "text/plain": [
       "'Portion of zeros in mb_used column, in the data table:'"
      ]
     },
     "metadata": {},
     "output_type": "display_data"
    },
    {
     "data": {
      "text/plain": [
       "'13.1%'"
      ]
     },
     "metadata": {},
     "output_type": "display_data"
    }
   ],
   "source": [
    "#using count() and len() method to check portion of zero in the column\n",
    "display('Portion of zeros in mb_used column, in the data table:')\n",
    "display('{:.1%}'.format(df_data[df_data['mb_used']==0]['id'].count()/len(df_data)))"
   ]
  },
  {
   "cell_type": "markdown",
   "id": "f6337996",
   "metadata": {},
   "source": [
    "OK, the numbers are pretty high, though it still is possible that 19.5% of calls will be missed and therefor will be zero seconds. it is also possible that users sometimes dont consume data.\n",
    "<br>let's check how many users have zero in the duration and mb_used column."
   ]
  },
  {
   "cell_type": "code",
   "execution_count": 45,
   "id": "302064ec",
   "metadata": {},
   "outputs": [
    {
     "data": {
      "text/plain": [
       "'Number of users with zero in the duration column:'"
      ]
     },
     "metadata": {},
     "output_type": "display_data"
    },
    {
     "data": {
      "text/plain": [
       "478"
      ]
     },
     "metadata": {},
     "output_type": "display_data"
    }
   ],
   "source": [
    "display('Number of users with zero in the duration column:',\n",
    "        (df_calls[df_calls['duration']==0]['user_id'].value_counts().count()))"
   ]
  },
  {
   "cell_type": "code",
   "execution_count": 46,
   "id": "cedd3d95",
   "metadata": {},
   "outputs": [
    {
     "data": {
      "text/plain": [
       "'Number of users with zero in the mb_used column:'"
      ]
     },
     "metadata": {},
     "output_type": "display_data"
    },
    {
     "data": {
      "text/plain": [
       "477"
      ]
     },
     "metadata": {},
     "output_type": "display_data"
    }
   ],
   "source": [
    "display('Number of users with zero in the mb_used column:',\n",
    "        (df_data[df_data['mb_used']==0]['user_id'].value_counts().count()))"
   ]
  },
  {
   "cell_type": "markdown",
   "id": "17069941",
   "metadata": {},
   "source": [
    "**So, we found out that most users have entries with 0 in the duration and mb_used columns, not that weird.\n",
    "how will it affect the result of the precessing and the analysis?\n",
    "we are going to sum all the calls a user made in a month, so a zero value won't change anything in the precess, i think we can continue**"
   ]
  },
  {
   "cell_type": "markdown",
   "id": "9a0ad9e2",
   "metadata": {},
   "source": [
    "##### Next I'll find the usage units number per user, starting with calls made - using .pivot_table function:"
   ]
  },
  {
   "cell_type": "code",
   "execution_count": 47,
   "id": "163feaf5",
   "metadata": {},
   "outputs": [],
   "source": [
    "#creating pivot table grouping the duration by user_id and month, aggfunc count and sum to get number of calls and duration:\n",
    "df_calls_per_user = df_calls.pivot_table(index=['user_id', 'month'], values='duration', aggfunc=['count', 'sum']).reset_index()"
   ]
  },
  {
   "cell_type": "code",
   "execution_count": 48,
   "id": "dee5cd3c",
   "metadata": {},
   "outputs": [],
   "source": [
    "#changing columns name\n",
    "df_calls_per_user.columns = ['user_id', 'month', 'num_calls', 'duration']"
   ]
  },
  {
   "cell_type": "markdown",
   "id": "5ccf1dca",
   "metadata": {},
   "source": [
    "##### The table below shows us the total duration of calls each month after rounding up each call, for each user:"
   ]
  },
  {
   "cell_type": "code",
   "execution_count": 49,
   "id": "7416c0b1",
   "metadata": {},
   "outputs": [
    {
     "data": {
      "text/html": [
       "<div>\n",
       "<style scoped>\n",
       "    .dataframe tbody tr th:only-of-type {\n",
       "        vertical-align: middle;\n",
       "    }\n",
       "\n",
       "    .dataframe tbody tr th {\n",
       "        vertical-align: top;\n",
       "    }\n",
       "\n",
       "    .dataframe thead th {\n",
       "        text-align: right;\n",
       "    }\n",
       "</style>\n",
       "<table border=\"1\" class=\"dataframe\">\n",
       "  <thead>\n",
       "    <tr style=\"text-align: right;\">\n",
       "      <th></th>\n",
       "      <th>user_id</th>\n",
       "      <th>month</th>\n",
       "      <th>num_calls</th>\n",
       "      <th>duration</th>\n",
       "    </tr>\n",
       "  </thead>\n",
       "  <tbody>\n",
       "    <tr>\n",
       "      <td>0</td>\n",
       "      <td>1000</td>\n",
       "      <td>12</td>\n",
       "      <td>16</td>\n",
       "      <td>124.0</td>\n",
       "    </tr>\n",
       "    <tr>\n",
       "      <td>1</td>\n",
       "      <td>1001</td>\n",
       "      <td>8</td>\n",
       "      <td>27</td>\n",
       "      <td>182.0</td>\n",
       "    </tr>\n",
       "    <tr>\n",
       "      <td>2</td>\n",
       "      <td>1001</td>\n",
       "      <td>9</td>\n",
       "      <td>49</td>\n",
       "      <td>315.0</td>\n",
       "    </tr>\n",
       "    <tr>\n",
       "      <td>3</td>\n",
       "      <td>1001</td>\n",
       "      <td>10</td>\n",
       "      <td>65</td>\n",
       "      <td>393.0</td>\n",
       "    </tr>\n",
       "    <tr>\n",
       "      <td>4</td>\n",
       "      <td>1001</td>\n",
       "      <td>11</td>\n",
       "      <td>64</td>\n",
       "      <td>426.0</td>\n",
       "    </tr>\n",
       "    <tr>\n",
       "      <td>...</td>\n",
       "      <td>...</td>\n",
       "      <td>...</td>\n",
       "      <td>...</td>\n",
       "      <td>...</td>\n",
       "    </tr>\n",
       "    <tr>\n",
       "      <td>2253</td>\n",
       "      <td>1498</td>\n",
       "      <td>12</td>\n",
       "      <td>39</td>\n",
       "      <td>339.0</td>\n",
       "    </tr>\n",
       "    <tr>\n",
       "      <td>2254</td>\n",
       "      <td>1499</td>\n",
       "      <td>9</td>\n",
       "      <td>41</td>\n",
       "      <td>346.0</td>\n",
       "    </tr>\n",
       "    <tr>\n",
       "      <td>2255</td>\n",
       "      <td>1499</td>\n",
       "      <td>10</td>\n",
       "      <td>53</td>\n",
       "      <td>385.0</td>\n",
       "    </tr>\n",
       "    <tr>\n",
       "      <td>2256</td>\n",
       "      <td>1499</td>\n",
       "      <td>11</td>\n",
       "      <td>45</td>\n",
       "      <td>308.0</td>\n",
       "    </tr>\n",
       "    <tr>\n",
       "      <td>2257</td>\n",
       "      <td>1499</td>\n",
       "      <td>12</td>\n",
       "      <td>65</td>\n",
       "      <td>496.0</td>\n",
       "    </tr>\n",
       "  </tbody>\n",
       "</table>\n",
       "<p>2258 rows × 4 columns</p>\n",
       "</div>"
      ],
      "text/plain": [
       "      user_id  month  num_calls  duration\n",
       "0        1000     12         16     124.0\n",
       "1        1001      8         27     182.0\n",
       "2        1001      9         49     315.0\n",
       "3        1001     10         65     393.0\n",
       "4        1001     11         64     426.0\n",
       "...       ...    ...        ...       ...\n",
       "2253     1498     12         39     339.0\n",
       "2254     1499      9         41     346.0\n",
       "2255     1499     10         53     385.0\n",
       "2256     1499     11         45     308.0\n",
       "2257     1499     12         65     496.0\n",
       "\n",
       "[2258 rows x 4 columns]"
      ]
     },
     "execution_count": 49,
     "metadata": {},
     "output_type": "execute_result"
    }
   ],
   "source": [
    "df_calls_per_user"
   ]
  },
  {
   "cell_type": "markdown",
   "id": "0843a205",
   "metadata": {},
   "source": [
    "##### Moving on to number of messages sent by each user:"
   ]
  },
  {
   "cell_type": "code",
   "execution_count": 50,
   "id": "e65e0764",
   "metadata": {},
   "outputs": [],
   "source": [
    "# Grouping sms_sent by user_id and month:\n",
    "df_sms_per_user = df_sms.groupby(['user_id', 'month'])['id'].count()"
   ]
  },
  {
   "cell_type": "code",
   "execution_count": 51,
   "id": "bb46e95e",
   "metadata": {},
   "outputs": [],
   "source": [
    "# Turning the series to dataframe:\n",
    "df_sms_per_user = df_sms_per_user.to_frame()"
   ]
  },
  {
   "cell_type": "code",
   "execution_count": 52,
   "id": "21aa585a",
   "metadata": {},
   "outputs": [],
   "source": [
    "# changing column name from id to sms_sent:\n",
    "df_sms_per_user.columns = ['sms_sent']"
   ]
  },
  {
   "cell_type": "markdown",
   "id": "e437cf12",
   "metadata": {},
   "source": [
    "##### The table below shows the number of sms sent for each user:"
   ]
  },
  {
   "cell_type": "code",
   "execution_count": 53,
   "id": "125c9797",
   "metadata": {},
   "outputs": [
    {
     "data": {
      "text/html": [
       "<div>\n",
       "<style scoped>\n",
       "    .dataframe tbody tr th:only-of-type {\n",
       "        vertical-align: middle;\n",
       "    }\n",
       "\n",
       "    .dataframe tbody tr th {\n",
       "        vertical-align: top;\n",
       "    }\n",
       "\n",
       "    .dataframe thead th {\n",
       "        text-align: right;\n",
       "    }\n",
       "</style>\n",
       "<table border=\"1\" class=\"dataframe\">\n",
       "  <thead>\n",
       "    <tr style=\"text-align: right;\">\n",
       "      <th></th>\n",
       "      <th></th>\n",
       "      <th>sms_sent</th>\n",
       "    </tr>\n",
       "    <tr>\n",
       "      <th>user_id</th>\n",
       "      <th>month</th>\n",
       "      <th></th>\n",
       "    </tr>\n",
       "  </thead>\n",
       "  <tbody>\n",
       "    <tr>\n",
       "      <td>1000</td>\n",
       "      <td>12</td>\n",
       "      <td>11</td>\n",
       "    </tr>\n",
       "    <tr>\n",
       "      <td rowspan=\"4\" valign=\"top\">1001</td>\n",
       "      <td>8</td>\n",
       "      <td>30</td>\n",
       "    </tr>\n",
       "    <tr>\n",
       "      <td>9</td>\n",
       "      <td>44</td>\n",
       "    </tr>\n",
       "    <tr>\n",
       "      <td>10</td>\n",
       "      <td>53</td>\n",
       "    </tr>\n",
       "    <tr>\n",
       "      <td>11</td>\n",
       "      <td>36</td>\n",
       "    </tr>\n",
       "    <tr>\n",
       "      <td>...</td>\n",
       "      <td>...</td>\n",
       "      <td>...</td>\n",
       "    </tr>\n",
       "    <tr>\n",
       "      <td rowspan=\"4\" valign=\"top\">1496</td>\n",
       "      <td>9</td>\n",
       "      <td>21</td>\n",
       "    </tr>\n",
       "    <tr>\n",
       "      <td>10</td>\n",
       "      <td>18</td>\n",
       "    </tr>\n",
       "    <tr>\n",
       "      <td>11</td>\n",
       "      <td>13</td>\n",
       "    </tr>\n",
       "    <tr>\n",
       "      <td>12</td>\n",
       "      <td>11</td>\n",
       "    </tr>\n",
       "    <tr>\n",
       "      <td>1497</td>\n",
       "      <td>12</td>\n",
       "      <td>50</td>\n",
       "    </tr>\n",
       "  </tbody>\n",
       "</table>\n",
       "<p>1806 rows × 1 columns</p>\n",
       "</div>"
      ],
      "text/plain": [
       "               sms_sent\n",
       "user_id month          \n",
       "1000    12           11\n",
       "1001    8            30\n",
       "        9            44\n",
       "        10           53\n",
       "        11           36\n",
       "...                 ...\n",
       "1496    9            21\n",
       "        10           18\n",
       "        11           13\n",
       "        12           11\n",
       "1497    12           50\n",
       "\n",
       "[1806 rows x 1 columns]"
      ]
     },
     "execution_count": 53,
     "metadata": {},
     "output_type": "execute_result"
    }
   ],
   "source": [
    "df_sms_per_user"
   ]
  },
  {
   "cell_type": "markdown",
   "id": "c93a16b1",
   "metadata": {},
   "source": [
    "##### Moving to internet usage per user:"
   ]
  },
  {
   "cell_type": "markdown",
   "id": "f47c1e2f",
   "metadata": {},
   "source": [
    "**Reminder - Megaline rounds up usage at the end of the month**"
   ]
  },
  {
   "cell_type": "code",
   "execution_count": 54,
   "id": "f567bfcf",
   "metadata": {},
   "outputs": [],
   "source": [
    "# Grouping mb_used by user_id and month:\n",
    "df_data_per_user = df_data.groupby(['user_id', 'month'])['mb_used'].sum()"
   ]
  },
  {
   "cell_type": "code",
   "execution_count": 55,
   "id": "1dca1b3c",
   "metadata": {},
   "outputs": [],
   "source": [
    "# Turning series to dataframe:\n",
    "df_data_per_user = df_data_per_user.to_frame()"
   ]
  },
  {
   "cell_type": "code",
   "execution_count": 56,
   "id": "aa00bbe9",
   "metadata": {},
   "outputs": [],
   "source": [
    "#Constructing new column of GB_used:\n",
    "df_data_per_user['GB_used'] = df_data_per_user['mb_used'] / 1024"
   ]
  },
  {
   "cell_type": "code",
   "execution_count": 57,
   "id": "f71ca19b",
   "metadata": {},
   "outputs": [],
   "source": [
    "#Rounding each month's GB usage upwards:\n",
    "df_data_per_user['GB_used'] = np.ceil(df_data_per_user['GB_used'])"
   ]
  },
  {
   "cell_type": "markdown",
   "id": "6942bfaa",
   "metadata": {},
   "source": [
    "##### The table below shows the usage of data for each user per month:"
   ]
  },
  {
   "cell_type": "code",
   "execution_count": 58,
   "id": "8ecaf1a0",
   "metadata": {},
   "outputs": [
    {
     "data": {
      "text/html": [
       "<div>\n",
       "<style scoped>\n",
       "    .dataframe tbody tr th:only-of-type {\n",
       "        vertical-align: middle;\n",
       "    }\n",
       "\n",
       "    .dataframe tbody tr th {\n",
       "        vertical-align: top;\n",
       "    }\n",
       "\n",
       "    .dataframe thead th {\n",
       "        text-align: right;\n",
       "    }\n",
       "</style>\n",
       "<table border=\"1\" class=\"dataframe\">\n",
       "  <thead>\n",
       "    <tr style=\"text-align: right;\">\n",
       "      <th></th>\n",
       "      <th></th>\n",
       "      <th>mb_used</th>\n",
       "      <th>GB_used</th>\n",
       "    </tr>\n",
       "    <tr>\n",
       "      <th>user_id</th>\n",
       "      <th>month</th>\n",
       "      <th></th>\n",
       "      <th></th>\n",
       "    </tr>\n",
       "  </thead>\n",
       "  <tbody>\n",
       "    <tr>\n",
       "      <td>1000</td>\n",
       "      <td>12</td>\n",
       "      <td>1901.47</td>\n",
       "      <td>2.0</td>\n",
       "    </tr>\n",
       "    <tr>\n",
       "      <td rowspan=\"4\" valign=\"top\">1001</td>\n",
       "      <td>8</td>\n",
       "      <td>6919.15</td>\n",
       "      <td>7.0</td>\n",
       "    </tr>\n",
       "    <tr>\n",
       "      <td>9</td>\n",
       "      <td>13314.82</td>\n",
       "      <td>14.0</td>\n",
       "    </tr>\n",
       "    <tr>\n",
       "      <td>10</td>\n",
       "      <td>22330.49</td>\n",
       "      <td>22.0</td>\n",
       "    </tr>\n",
       "    <tr>\n",
       "      <td>11</td>\n",
       "      <td>18504.30</td>\n",
       "      <td>19.0</td>\n",
       "    </tr>\n",
       "    <tr>\n",
       "      <td>...</td>\n",
       "      <td>...</td>\n",
       "      <td>...</td>\n",
       "      <td>...</td>\n",
       "    </tr>\n",
       "    <tr>\n",
       "      <td>1498</td>\n",
       "      <td>12</td>\n",
       "      <td>23137.69</td>\n",
       "      <td>23.0</td>\n",
       "    </tr>\n",
       "    <tr>\n",
       "      <td rowspan=\"4\" valign=\"top\">1499</td>\n",
       "      <td>9</td>\n",
       "      <td>12984.76</td>\n",
       "      <td>13.0</td>\n",
       "    </tr>\n",
       "    <tr>\n",
       "      <td>10</td>\n",
       "      <td>19492.43</td>\n",
       "      <td>20.0</td>\n",
       "    </tr>\n",
       "    <tr>\n",
       "      <td>11</td>\n",
       "      <td>16813.83</td>\n",
       "      <td>17.0</td>\n",
       "    </tr>\n",
       "    <tr>\n",
       "      <td>12</td>\n",
       "      <td>22059.21</td>\n",
       "      <td>22.0</td>\n",
       "    </tr>\n",
       "  </tbody>\n",
       "</table>\n",
       "<p>2277 rows × 2 columns</p>\n",
       "</div>"
      ],
      "text/plain": [
       "                mb_used  GB_used\n",
       "user_id month                   \n",
       "1000    12      1901.47      2.0\n",
       "1001    8       6919.15      7.0\n",
       "        9      13314.82     14.0\n",
       "        10     22330.49     22.0\n",
       "        11     18504.30     19.0\n",
       "...                 ...      ...\n",
       "1498    12     23137.69     23.0\n",
       "1499    9      12984.76     13.0\n",
       "        10     19492.43     20.0\n",
       "        11     16813.83     17.0\n",
       "        12     22059.21     22.0\n",
       "\n",
       "[2277 rows x 2 columns]"
      ]
     },
     "execution_count": 58,
     "metadata": {},
     "output_type": "execute_result"
    }
   ],
   "source": [
    "df_data_per_user"
   ]
  },
  {
   "cell_type": "markdown",
   "id": "1a5f4ae9",
   "metadata": {},
   "source": [
    "##### Now that we have the duration of calls made, sms sent and data used by each user,  lets combine this information to one table.\n",
    "##### Before i start merging i want to make sure i dont have any unnecesary columns."
   ]
  },
  {
   "cell_type": "code",
   "execution_count": 59,
   "id": "b90ab0fd",
   "metadata": {},
   "outputs": [
    {
     "data": {
      "text/html": [
       "<div>\n",
       "<style scoped>\n",
       "    .dataframe tbody tr th:only-of-type {\n",
       "        vertical-align: middle;\n",
       "    }\n",
       "\n",
       "    .dataframe tbody tr th {\n",
       "        vertical-align: top;\n",
       "    }\n",
       "\n",
       "    .dataframe thead th {\n",
       "        text-align: right;\n",
       "    }\n",
       "</style>\n",
       "<table border=\"1\" class=\"dataframe\">\n",
       "  <thead>\n",
       "    <tr style=\"text-align: right;\">\n",
       "      <th></th>\n",
       "      <th>user_id</th>\n",
       "      <th>month</th>\n",
       "      <th>num_calls</th>\n",
       "      <th>duration</th>\n",
       "    </tr>\n",
       "  </thead>\n",
       "  <tbody>\n",
       "    <tr>\n",
       "      <td>0</td>\n",
       "      <td>1000</td>\n",
       "      <td>12</td>\n",
       "      <td>16</td>\n",
       "      <td>124.0</td>\n",
       "    </tr>\n",
       "    <tr>\n",
       "      <td>1</td>\n",
       "      <td>1001</td>\n",
       "      <td>8</td>\n",
       "      <td>27</td>\n",
       "      <td>182.0</td>\n",
       "    </tr>\n",
       "    <tr>\n",
       "      <td>2</td>\n",
       "      <td>1001</td>\n",
       "      <td>9</td>\n",
       "      <td>49</td>\n",
       "      <td>315.0</td>\n",
       "    </tr>\n",
       "    <tr>\n",
       "      <td>3</td>\n",
       "      <td>1001</td>\n",
       "      <td>10</td>\n",
       "      <td>65</td>\n",
       "      <td>393.0</td>\n",
       "    </tr>\n",
       "    <tr>\n",
       "      <td>4</td>\n",
       "      <td>1001</td>\n",
       "      <td>11</td>\n",
       "      <td>64</td>\n",
       "      <td>426.0</td>\n",
       "    </tr>\n",
       "  </tbody>\n",
       "</table>\n",
       "</div>"
      ],
      "text/plain": [
       "   user_id  month  num_calls  duration\n",
       "0     1000     12         16     124.0\n",
       "1     1001      8         27     182.0\n",
       "2     1001      9         49     315.0\n",
       "3     1001     10         65     393.0\n",
       "4     1001     11         64     426.0"
      ]
     },
     "execution_count": 59,
     "metadata": {},
     "output_type": "execute_result"
    }
   ],
   "source": [
    "df_calls_per_user.head()"
   ]
  },
  {
   "cell_type": "markdown",
   "id": "8e507826",
   "metadata": {},
   "source": [
    "No unnecesary columns here"
   ]
  },
  {
   "cell_type": "code",
   "execution_count": 60,
   "id": "0f345aa3",
   "metadata": {},
   "outputs": [
    {
     "data": {
      "text/html": [
       "<div>\n",
       "<style scoped>\n",
       "    .dataframe tbody tr th:only-of-type {\n",
       "        vertical-align: middle;\n",
       "    }\n",
       "\n",
       "    .dataframe tbody tr th {\n",
       "        vertical-align: top;\n",
       "    }\n",
       "\n",
       "    .dataframe thead th {\n",
       "        text-align: right;\n",
       "    }\n",
       "</style>\n",
       "<table border=\"1\" class=\"dataframe\">\n",
       "  <thead>\n",
       "    <tr style=\"text-align: right;\">\n",
       "      <th></th>\n",
       "      <th></th>\n",
       "      <th>sms_sent</th>\n",
       "    </tr>\n",
       "    <tr>\n",
       "      <th>user_id</th>\n",
       "      <th>month</th>\n",
       "      <th></th>\n",
       "    </tr>\n",
       "  </thead>\n",
       "  <tbody>\n",
       "    <tr>\n",
       "      <td>1000</td>\n",
       "      <td>12</td>\n",
       "      <td>11</td>\n",
       "    </tr>\n",
       "    <tr>\n",
       "      <td rowspan=\"4\" valign=\"top\">1001</td>\n",
       "      <td>8</td>\n",
       "      <td>30</td>\n",
       "    </tr>\n",
       "    <tr>\n",
       "      <td>9</td>\n",
       "      <td>44</td>\n",
       "    </tr>\n",
       "    <tr>\n",
       "      <td>10</td>\n",
       "      <td>53</td>\n",
       "    </tr>\n",
       "    <tr>\n",
       "      <td>11</td>\n",
       "      <td>36</td>\n",
       "    </tr>\n",
       "  </tbody>\n",
       "</table>\n",
       "</div>"
      ],
      "text/plain": [
       "               sms_sent\n",
       "user_id month          \n",
       "1000    12           11\n",
       "1001    8            30\n",
       "        9            44\n",
       "        10           53\n",
       "        11           36"
      ]
     },
     "execution_count": 60,
     "metadata": {},
     "output_type": "execute_result"
    }
   ],
   "source": [
    "df_sms_per_user.head()"
   ]
  },
  {
   "cell_type": "markdown",
   "id": "f408deb4",
   "metadata": {},
   "source": [
    "No unnecesary columns here too"
   ]
  },
  {
   "cell_type": "code",
   "execution_count": 61,
   "id": "dcc2c6f7",
   "metadata": {},
   "outputs": [
    {
     "data": {
      "text/html": [
       "<div>\n",
       "<style scoped>\n",
       "    .dataframe tbody tr th:only-of-type {\n",
       "        vertical-align: middle;\n",
       "    }\n",
       "\n",
       "    .dataframe tbody tr th {\n",
       "        vertical-align: top;\n",
       "    }\n",
       "\n",
       "    .dataframe thead th {\n",
       "        text-align: right;\n",
       "    }\n",
       "</style>\n",
       "<table border=\"1\" class=\"dataframe\">\n",
       "  <thead>\n",
       "    <tr style=\"text-align: right;\">\n",
       "      <th></th>\n",
       "      <th></th>\n",
       "      <th>mb_used</th>\n",
       "      <th>GB_used</th>\n",
       "    </tr>\n",
       "    <tr>\n",
       "      <th>user_id</th>\n",
       "      <th>month</th>\n",
       "      <th></th>\n",
       "      <th></th>\n",
       "    </tr>\n",
       "  </thead>\n",
       "  <tbody>\n",
       "    <tr>\n",
       "      <td>1000</td>\n",
       "      <td>12</td>\n",
       "      <td>1901.47</td>\n",
       "      <td>2.0</td>\n",
       "    </tr>\n",
       "    <tr>\n",
       "      <td rowspan=\"4\" valign=\"top\">1001</td>\n",
       "      <td>8</td>\n",
       "      <td>6919.15</td>\n",
       "      <td>7.0</td>\n",
       "    </tr>\n",
       "    <tr>\n",
       "      <td>9</td>\n",
       "      <td>13314.82</td>\n",
       "      <td>14.0</td>\n",
       "    </tr>\n",
       "    <tr>\n",
       "      <td>10</td>\n",
       "      <td>22330.49</td>\n",
       "      <td>22.0</td>\n",
       "    </tr>\n",
       "    <tr>\n",
       "      <td>11</td>\n",
       "      <td>18504.30</td>\n",
       "      <td>19.0</td>\n",
       "    </tr>\n",
       "  </tbody>\n",
       "</table>\n",
       "</div>"
      ],
      "text/plain": [
       "                mb_used  GB_used\n",
       "user_id month                   \n",
       "1000    12      1901.47      2.0\n",
       "1001    8       6919.15      7.0\n",
       "        9      13314.82     14.0\n",
       "        10     22330.49     22.0\n",
       "        11     18504.30     19.0"
      ]
     },
     "execution_count": 61,
     "metadata": {},
     "output_type": "execute_result"
    }
   ],
   "source": [
    "df_data_per_user.head()"
   ]
  },
  {
   "cell_type": "markdown",
   "id": "ef359e2b",
   "metadata": {},
   "source": [
    "I dont need the mb_used column since we are calculating revenue from the rounded GB, i will drop the column now."
   ]
  },
  {
   "cell_type": "code",
   "execution_count": 62,
   "id": "fc2f0fe7",
   "metadata": {},
   "outputs": [],
   "source": [
    "df_data_per_user = df_data_per_user.drop('mb_used', axis=1)"
   ]
  },
  {
   "cell_type": "code",
   "execution_count": 63,
   "id": "625e5f6a",
   "metadata": {},
   "outputs": [
    {
     "data": {
      "text/html": [
       "<div>\n",
       "<style scoped>\n",
       "    .dataframe tbody tr th:only-of-type {\n",
       "        vertical-align: middle;\n",
       "    }\n",
       "\n",
       "    .dataframe tbody tr th {\n",
       "        vertical-align: top;\n",
       "    }\n",
       "\n",
       "    .dataframe thead th {\n",
       "        text-align: right;\n",
       "    }\n",
       "</style>\n",
       "<table border=\"1\" class=\"dataframe\">\n",
       "  <thead>\n",
       "    <tr style=\"text-align: right;\">\n",
       "      <th></th>\n",
       "      <th></th>\n",
       "      <th>GB_used</th>\n",
       "    </tr>\n",
       "    <tr>\n",
       "      <th>user_id</th>\n",
       "      <th>month</th>\n",
       "      <th></th>\n",
       "    </tr>\n",
       "  </thead>\n",
       "  <tbody>\n",
       "    <tr>\n",
       "      <td>1000</td>\n",
       "      <td>12</td>\n",
       "      <td>2.0</td>\n",
       "    </tr>\n",
       "    <tr>\n",
       "      <td rowspan=\"4\" valign=\"top\">1001</td>\n",
       "      <td>8</td>\n",
       "      <td>7.0</td>\n",
       "    </tr>\n",
       "    <tr>\n",
       "      <td>9</td>\n",
       "      <td>14.0</td>\n",
       "    </tr>\n",
       "    <tr>\n",
       "      <td>10</td>\n",
       "      <td>22.0</td>\n",
       "    </tr>\n",
       "    <tr>\n",
       "      <td>11</td>\n",
       "      <td>19.0</td>\n",
       "    </tr>\n",
       "  </tbody>\n",
       "</table>\n",
       "</div>"
      ],
      "text/plain": [
       "               GB_used\n",
       "user_id month         \n",
       "1000    12         2.0\n",
       "1001    8          7.0\n",
       "        9         14.0\n",
       "        10        22.0\n",
       "        11        19.0"
      ]
     },
     "execution_count": 63,
     "metadata": {},
     "output_type": "execute_result"
    }
   ],
   "source": [
    "#checking\n",
    "df_data_per_user.head()"
   ]
  },
  {
   "cell_type": "code",
   "execution_count": 64,
   "id": "2187daf2",
   "metadata": {},
   "outputs": [
    {
     "data": {
      "text/html": [
       "<div>\n",
       "<style scoped>\n",
       "    .dataframe tbody tr th:only-of-type {\n",
       "        vertical-align: middle;\n",
       "    }\n",
       "\n",
       "    .dataframe tbody tr th {\n",
       "        vertical-align: top;\n",
       "    }\n",
       "\n",
       "    .dataframe thead th {\n",
       "        text-align: right;\n",
       "    }\n",
       "</style>\n",
       "<table border=\"1\" class=\"dataframe\">\n",
       "  <thead>\n",
       "    <tr style=\"text-align: right;\">\n",
       "      <th></th>\n",
       "      <th>user_id</th>\n",
       "      <th>first_name</th>\n",
       "      <th>last_name</th>\n",
       "      <th>age</th>\n",
       "      <th>city</th>\n",
       "      <th>reg_date</th>\n",
       "      <th>plan</th>\n",
       "      <th>churn_date</th>\n",
       "      <th>days_used</th>\n",
       "      <th>months_used</th>\n",
       "    </tr>\n",
       "  </thead>\n",
       "  <tbody>\n",
       "    <tr>\n",
       "      <td>0</td>\n",
       "      <td>1000</td>\n",
       "      <td>Anamaria</td>\n",
       "      <td>Bauer</td>\n",
       "      <td>45</td>\n",
       "      <td>Atlanta-Sandy Springs-Roswell, GA MSA</td>\n",
       "      <td>2018-12-24</td>\n",
       "      <td>ultimate</td>\n",
       "      <td>2018-12-31</td>\n",
       "      <td>7</td>\n",
       "      <td>0.233333</td>\n",
       "    </tr>\n",
       "    <tr>\n",
       "      <td>1</td>\n",
       "      <td>1001</td>\n",
       "      <td>Mickey</td>\n",
       "      <td>Wilkerson</td>\n",
       "      <td>28</td>\n",
       "      <td>Seattle-Tacoma-Bellevue, WA MSA</td>\n",
       "      <td>2018-08-13</td>\n",
       "      <td>surf</td>\n",
       "      <td>2018-12-31</td>\n",
       "      <td>140</td>\n",
       "      <td>4.666667</td>\n",
       "    </tr>\n",
       "    <tr>\n",
       "      <td>2</td>\n",
       "      <td>1002</td>\n",
       "      <td>Carlee</td>\n",
       "      <td>Hoffman</td>\n",
       "      <td>36</td>\n",
       "      <td>Las Vegas-Henderson-Paradise, NV MSA</td>\n",
       "      <td>2018-10-21</td>\n",
       "      <td>surf</td>\n",
       "      <td>2018-12-31</td>\n",
       "      <td>71</td>\n",
       "      <td>2.366667</td>\n",
       "    </tr>\n",
       "    <tr>\n",
       "      <td>3</td>\n",
       "      <td>1003</td>\n",
       "      <td>Reynaldo</td>\n",
       "      <td>Jenkins</td>\n",
       "      <td>52</td>\n",
       "      <td>Tulsa, OK MSA</td>\n",
       "      <td>2018-01-28</td>\n",
       "      <td>surf</td>\n",
       "      <td>2018-12-31</td>\n",
       "      <td>337</td>\n",
       "      <td>11.233333</td>\n",
       "    </tr>\n",
       "    <tr>\n",
       "      <td>4</td>\n",
       "      <td>1004</td>\n",
       "      <td>Leonila</td>\n",
       "      <td>Thompson</td>\n",
       "      <td>40</td>\n",
       "      <td>Seattle-Tacoma-Bellevue, WA MSA</td>\n",
       "      <td>2018-05-23</td>\n",
       "      <td>surf</td>\n",
       "      <td>2018-12-31</td>\n",
       "      <td>222</td>\n",
       "      <td>7.400000</td>\n",
       "    </tr>\n",
       "  </tbody>\n",
       "</table>\n",
       "</div>"
      ],
      "text/plain": [
       "   user_id first_name  last_name  age                                   city  \\\n",
       "0     1000   Anamaria      Bauer   45  Atlanta-Sandy Springs-Roswell, GA MSA   \n",
       "1     1001     Mickey  Wilkerson   28        Seattle-Tacoma-Bellevue, WA MSA   \n",
       "2     1002     Carlee    Hoffman   36   Las Vegas-Henderson-Paradise, NV MSA   \n",
       "3     1003   Reynaldo    Jenkins   52                          Tulsa, OK MSA   \n",
       "4     1004    Leonila   Thompson   40        Seattle-Tacoma-Bellevue, WA MSA   \n",
       "\n",
       "    reg_date      plan churn_date  days_used  months_used  \n",
       "0 2018-12-24  ultimate 2018-12-31          7     0.233333  \n",
       "1 2018-08-13      surf 2018-12-31        140     4.666667  \n",
       "2 2018-10-21      surf 2018-12-31         71     2.366667  \n",
       "3 2018-01-28      surf 2018-12-31        337    11.233333  \n",
       "4 2018-05-23      surf 2018-12-31        222     7.400000  "
      ]
     },
     "execution_count": 64,
     "metadata": {},
     "output_type": "execute_result"
    }
   ],
   "source": [
    "df_users.head()"
   ]
  },
  {
   "cell_type": "markdown",
   "id": "ed786497",
   "metadata": {},
   "source": [
    "I don't need the first and last name columns, age column, reg and churn dates and days_used"
   ]
  },
  {
   "cell_type": "code",
   "execution_count": 65,
   "id": "fb4288e4",
   "metadata": {},
   "outputs": [],
   "source": [
    "df_users.drop(['first_name', 'last_name', 'age', 'reg_date', 'churn_date', 'days_used'], axis=1, inplace=True)"
   ]
  },
  {
   "cell_type": "code",
   "execution_count": 66,
   "id": "43800c1b",
   "metadata": {},
   "outputs": [
    {
     "data": {
      "text/html": [
       "<div>\n",
       "<style scoped>\n",
       "    .dataframe tbody tr th:only-of-type {\n",
       "        vertical-align: middle;\n",
       "    }\n",
       "\n",
       "    .dataframe tbody tr th {\n",
       "        vertical-align: top;\n",
       "    }\n",
       "\n",
       "    .dataframe thead th {\n",
       "        text-align: right;\n",
       "    }\n",
       "</style>\n",
       "<table border=\"1\" class=\"dataframe\">\n",
       "  <thead>\n",
       "    <tr style=\"text-align: right;\">\n",
       "      <th></th>\n",
       "      <th>user_id</th>\n",
       "      <th>city</th>\n",
       "      <th>plan</th>\n",
       "      <th>months_used</th>\n",
       "    </tr>\n",
       "  </thead>\n",
       "  <tbody>\n",
       "    <tr>\n",
       "      <td>0</td>\n",
       "      <td>1000</td>\n",
       "      <td>Atlanta-Sandy Springs-Roswell, GA MSA</td>\n",
       "      <td>ultimate</td>\n",
       "      <td>0.233333</td>\n",
       "    </tr>\n",
       "    <tr>\n",
       "      <td>1</td>\n",
       "      <td>1001</td>\n",
       "      <td>Seattle-Tacoma-Bellevue, WA MSA</td>\n",
       "      <td>surf</td>\n",
       "      <td>4.666667</td>\n",
       "    </tr>\n",
       "    <tr>\n",
       "      <td>2</td>\n",
       "      <td>1002</td>\n",
       "      <td>Las Vegas-Henderson-Paradise, NV MSA</td>\n",
       "      <td>surf</td>\n",
       "      <td>2.366667</td>\n",
       "    </tr>\n",
       "    <tr>\n",
       "      <td>3</td>\n",
       "      <td>1003</td>\n",
       "      <td>Tulsa, OK MSA</td>\n",
       "      <td>surf</td>\n",
       "      <td>11.233333</td>\n",
       "    </tr>\n",
       "    <tr>\n",
       "      <td>4</td>\n",
       "      <td>1004</td>\n",
       "      <td>Seattle-Tacoma-Bellevue, WA MSA</td>\n",
       "      <td>surf</td>\n",
       "      <td>7.400000</td>\n",
       "    </tr>\n",
       "  </tbody>\n",
       "</table>\n",
       "</div>"
      ],
      "text/plain": [
       "   user_id                                   city      plan  months_used\n",
       "0     1000  Atlanta-Sandy Springs-Roswell, GA MSA  ultimate     0.233333\n",
       "1     1001        Seattle-Tacoma-Bellevue, WA MSA      surf     4.666667\n",
       "2     1002   Las Vegas-Henderson-Paradise, NV MSA      surf     2.366667\n",
       "3     1003                          Tulsa, OK MSA      surf    11.233333\n",
       "4     1004        Seattle-Tacoma-Bellevue, WA MSA      surf     7.400000"
      ]
     },
     "execution_count": 66,
     "metadata": {},
     "output_type": "execute_result"
    }
   ],
   "source": [
    "df_users.head()"
   ]
  },
  {
   "cell_type": "markdown",
   "id": "20ccd5b9",
   "metadata": {},
   "source": [
    "##### Now we will merge all data to one orgenized table"
   ]
  },
  {
   "cell_type": "markdown",
   "id": "cb48b5d3",
   "metadata": {},
   "source": [
    "##### I choose to merge the tables one by one and use reset_index to be sure my data is orgenized:"
   ]
  },
  {
   "cell_type": "code",
   "execution_count": 67,
   "id": "b74e7016",
   "metadata": {},
   "outputs": [],
   "source": [
    "# Merging calls per user with sms per user\n",
    "final_first = pd.merge(df_calls_per_user, df_sms_per_user, on=['user_id', 'month'], how='outer').reset_index()"
   ]
  },
  {
   "cell_type": "code",
   "execution_count": 68,
   "id": "e1a025c4",
   "metadata": {},
   "outputs": [
    {
     "data": {
      "text/html": [
       "<div>\n",
       "<style scoped>\n",
       "    .dataframe tbody tr th:only-of-type {\n",
       "        vertical-align: middle;\n",
       "    }\n",
       "\n",
       "    .dataframe tbody tr th {\n",
       "        vertical-align: top;\n",
       "    }\n",
       "\n",
       "    .dataframe thead th {\n",
       "        text-align: right;\n",
       "    }\n",
       "</style>\n",
       "<table border=\"1\" class=\"dataframe\">\n",
       "  <thead>\n",
       "    <tr style=\"text-align: right;\">\n",
       "      <th></th>\n",
       "      <th>index</th>\n",
       "      <th>user_id</th>\n",
       "      <th>month</th>\n",
       "      <th>num_calls</th>\n",
       "      <th>duration</th>\n",
       "      <th>sms_sent</th>\n",
       "    </tr>\n",
       "  </thead>\n",
       "  <tbody>\n",
       "    <tr>\n",
       "      <td>0</td>\n",
       "      <td>0</td>\n",
       "      <td>1000</td>\n",
       "      <td>12</td>\n",
       "      <td>16.0</td>\n",
       "      <td>124.0</td>\n",
       "      <td>11.0</td>\n",
       "    </tr>\n",
       "    <tr>\n",
       "      <td>1</td>\n",
       "      <td>1</td>\n",
       "      <td>1001</td>\n",
       "      <td>8</td>\n",
       "      <td>27.0</td>\n",
       "      <td>182.0</td>\n",
       "      <td>30.0</td>\n",
       "    </tr>\n",
       "    <tr>\n",
       "      <td>2</td>\n",
       "      <td>2</td>\n",
       "      <td>1001</td>\n",
       "      <td>9</td>\n",
       "      <td>49.0</td>\n",
       "      <td>315.0</td>\n",
       "      <td>44.0</td>\n",
       "    </tr>\n",
       "    <tr>\n",
       "      <td>3</td>\n",
       "      <td>3</td>\n",
       "      <td>1001</td>\n",
       "      <td>10</td>\n",
       "      <td>65.0</td>\n",
       "      <td>393.0</td>\n",
       "      <td>53.0</td>\n",
       "    </tr>\n",
       "    <tr>\n",
       "      <td>4</td>\n",
       "      <td>4</td>\n",
       "      <td>1001</td>\n",
       "      <td>11</td>\n",
       "      <td>64.0</td>\n",
       "      <td>426.0</td>\n",
       "      <td>36.0</td>\n",
       "    </tr>\n",
       "  </tbody>\n",
       "</table>\n",
       "</div>"
      ],
      "text/plain": [
       "   index  user_id  month  num_calls  duration  sms_sent\n",
       "0      0     1000     12       16.0     124.0      11.0\n",
       "1      1     1001      8       27.0     182.0      30.0\n",
       "2      2     1001      9       49.0     315.0      44.0\n",
       "3      3     1001     10       65.0     393.0      53.0\n",
       "4      4     1001     11       64.0     426.0      36.0"
      ]
     },
     "execution_count": 68,
     "metadata": {},
     "output_type": "execute_result"
    }
   ],
   "source": [
    "#checking\n",
    "final_first.head()"
   ]
  },
  {
   "cell_type": "code",
   "execution_count": 69,
   "id": "014b9d1e",
   "metadata": {},
   "outputs": [],
   "source": [
    "# Merging the data per user to the merged table of calls and sms\n",
    "final_sec = pd.merge(final_first, df_data_per_user, on=['user_id', 'month'], how='outer')"
   ]
  },
  {
   "cell_type": "code",
   "execution_count": 70,
   "id": "fccf0527",
   "metadata": {},
   "outputs": [
    {
     "data": {
      "text/html": [
       "<div>\n",
       "<style scoped>\n",
       "    .dataframe tbody tr th:only-of-type {\n",
       "        vertical-align: middle;\n",
       "    }\n",
       "\n",
       "    .dataframe tbody tr th {\n",
       "        vertical-align: top;\n",
       "    }\n",
       "\n",
       "    .dataframe thead th {\n",
       "        text-align: right;\n",
       "    }\n",
       "</style>\n",
       "<table border=\"1\" class=\"dataframe\">\n",
       "  <thead>\n",
       "    <tr style=\"text-align: right;\">\n",
       "      <th></th>\n",
       "      <th>index</th>\n",
       "      <th>user_id</th>\n",
       "      <th>month</th>\n",
       "      <th>num_calls</th>\n",
       "      <th>duration</th>\n",
       "      <th>sms_sent</th>\n",
       "      <th>GB_used</th>\n",
       "    </tr>\n",
       "  </thead>\n",
       "  <tbody>\n",
       "    <tr>\n",
       "      <td>0</td>\n",
       "      <td>0.0</td>\n",
       "      <td>1000</td>\n",
       "      <td>12</td>\n",
       "      <td>16.0</td>\n",
       "      <td>124.0</td>\n",
       "      <td>11.0</td>\n",
       "      <td>2.0</td>\n",
       "    </tr>\n",
       "    <tr>\n",
       "      <td>1</td>\n",
       "      <td>1.0</td>\n",
       "      <td>1001</td>\n",
       "      <td>8</td>\n",
       "      <td>27.0</td>\n",
       "      <td>182.0</td>\n",
       "      <td>30.0</td>\n",
       "      <td>7.0</td>\n",
       "    </tr>\n",
       "    <tr>\n",
       "      <td>2</td>\n",
       "      <td>2.0</td>\n",
       "      <td>1001</td>\n",
       "      <td>9</td>\n",
       "      <td>49.0</td>\n",
       "      <td>315.0</td>\n",
       "      <td>44.0</td>\n",
       "      <td>14.0</td>\n",
       "    </tr>\n",
       "    <tr>\n",
       "      <td>3</td>\n",
       "      <td>3.0</td>\n",
       "      <td>1001</td>\n",
       "      <td>10</td>\n",
       "      <td>65.0</td>\n",
       "      <td>393.0</td>\n",
       "      <td>53.0</td>\n",
       "      <td>22.0</td>\n",
       "    </tr>\n",
       "    <tr>\n",
       "      <td>4</td>\n",
       "      <td>4.0</td>\n",
       "      <td>1001</td>\n",
       "      <td>11</td>\n",
       "      <td>64.0</td>\n",
       "      <td>426.0</td>\n",
       "      <td>36.0</td>\n",
       "      <td>19.0</td>\n",
       "    </tr>\n",
       "  </tbody>\n",
       "</table>\n",
       "</div>"
      ],
      "text/plain": [
       "   index  user_id  month  num_calls  duration  sms_sent  GB_used\n",
       "0    0.0     1000     12       16.0     124.0      11.0      2.0\n",
       "1    1.0     1001      8       27.0     182.0      30.0      7.0\n",
       "2    2.0     1001      9       49.0     315.0      44.0     14.0\n",
       "3    3.0     1001     10       65.0     393.0      53.0     22.0\n",
       "4    4.0     1001     11       64.0     426.0      36.0     19.0"
      ]
     },
     "execution_count": 70,
     "metadata": {},
     "output_type": "execute_result"
    }
   ],
   "source": [
    "#checking\n",
    "final_sec.head()"
   ]
  },
  {
   "cell_type": "code",
   "execution_count": 71,
   "id": "03af9e2f",
   "metadata": {},
   "outputs": [],
   "source": [
    "# Adding the users info to the table\n",
    "final_data = pd.merge(final_sec, df_users, how='left', on='user_id')"
   ]
  },
  {
   "cell_type": "code",
   "execution_count": 72,
   "id": "ae5c754b",
   "metadata": {},
   "outputs": [
    {
     "data": {
      "text/html": [
       "<div>\n",
       "<style scoped>\n",
       "    .dataframe tbody tr th:only-of-type {\n",
       "        vertical-align: middle;\n",
       "    }\n",
       "\n",
       "    .dataframe tbody tr th {\n",
       "        vertical-align: top;\n",
       "    }\n",
       "\n",
       "    .dataframe thead th {\n",
       "        text-align: right;\n",
       "    }\n",
       "</style>\n",
       "<table border=\"1\" class=\"dataframe\">\n",
       "  <thead>\n",
       "    <tr style=\"text-align: right;\">\n",
       "      <th></th>\n",
       "      <th>index</th>\n",
       "      <th>user_id</th>\n",
       "      <th>month</th>\n",
       "      <th>num_calls</th>\n",
       "      <th>duration</th>\n",
       "      <th>sms_sent</th>\n",
       "      <th>GB_used</th>\n",
       "      <th>city</th>\n",
       "      <th>plan</th>\n",
       "      <th>months_used</th>\n",
       "    </tr>\n",
       "  </thead>\n",
       "  <tbody>\n",
       "    <tr>\n",
       "      <td>0</td>\n",
       "      <td>0.0</td>\n",
       "      <td>1000</td>\n",
       "      <td>12</td>\n",
       "      <td>16.0</td>\n",
       "      <td>124.0</td>\n",
       "      <td>11.0</td>\n",
       "      <td>2.0</td>\n",
       "      <td>Atlanta-Sandy Springs-Roswell, GA MSA</td>\n",
       "      <td>ultimate</td>\n",
       "      <td>0.233333</td>\n",
       "    </tr>\n",
       "    <tr>\n",
       "      <td>1</td>\n",
       "      <td>1.0</td>\n",
       "      <td>1001</td>\n",
       "      <td>8</td>\n",
       "      <td>27.0</td>\n",
       "      <td>182.0</td>\n",
       "      <td>30.0</td>\n",
       "      <td>7.0</td>\n",
       "      <td>Seattle-Tacoma-Bellevue, WA MSA</td>\n",
       "      <td>surf</td>\n",
       "      <td>4.666667</td>\n",
       "    </tr>\n",
       "    <tr>\n",
       "      <td>2</td>\n",
       "      <td>2.0</td>\n",
       "      <td>1001</td>\n",
       "      <td>9</td>\n",
       "      <td>49.0</td>\n",
       "      <td>315.0</td>\n",
       "      <td>44.0</td>\n",
       "      <td>14.0</td>\n",
       "      <td>Seattle-Tacoma-Bellevue, WA MSA</td>\n",
       "      <td>surf</td>\n",
       "      <td>4.666667</td>\n",
       "    </tr>\n",
       "    <tr>\n",
       "      <td>3</td>\n",
       "      <td>3.0</td>\n",
       "      <td>1001</td>\n",
       "      <td>10</td>\n",
       "      <td>65.0</td>\n",
       "      <td>393.0</td>\n",
       "      <td>53.0</td>\n",
       "      <td>22.0</td>\n",
       "      <td>Seattle-Tacoma-Bellevue, WA MSA</td>\n",
       "      <td>surf</td>\n",
       "      <td>4.666667</td>\n",
       "    </tr>\n",
       "    <tr>\n",
       "      <td>4</td>\n",
       "      <td>4.0</td>\n",
       "      <td>1001</td>\n",
       "      <td>11</td>\n",
       "      <td>64.0</td>\n",
       "      <td>426.0</td>\n",
       "      <td>36.0</td>\n",
       "      <td>19.0</td>\n",
       "      <td>Seattle-Tacoma-Bellevue, WA MSA</td>\n",
       "      <td>surf</td>\n",
       "      <td>4.666667</td>\n",
       "    </tr>\n",
       "  </tbody>\n",
       "</table>\n",
       "</div>"
      ],
      "text/plain": [
       "   index  user_id  month  num_calls  duration  sms_sent  GB_used  \\\n",
       "0    0.0     1000     12       16.0     124.0      11.0      2.0   \n",
       "1    1.0     1001      8       27.0     182.0      30.0      7.0   \n",
       "2    2.0     1001      9       49.0     315.0      44.0     14.0   \n",
       "3    3.0     1001     10       65.0     393.0      53.0     22.0   \n",
       "4    4.0     1001     11       64.0     426.0      36.0     19.0   \n",
       "\n",
       "                                    city      plan  months_used  \n",
       "0  Atlanta-Sandy Springs-Roswell, GA MSA  ultimate     0.233333  \n",
       "1        Seattle-Tacoma-Bellevue, WA MSA      surf     4.666667  \n",
       "2        Seattle-Tacoma-Bellevue, WA MSA      surf     4.666667  \n",
       "3        Seattle-Tacoma-Bellevue, WA MSA      surf     4.666667  \n",
       "4        Seattle-Tacoma-Bellevue, WA MSA      surf     4.666667  "
      ]
     },
     "execution_count": 72,
     "metadata": {},
     "output_type": "execute_result"
    }
   ],
   "source": [
    "#checking\n",
    "final_data.head()"
   ]
  },
  {
   "cell_type": "code",
   "execution_count": 73,
   "id": "7243d9a7",
   "metadata": {},
   "outputs": [],
   "source": [
    "#dropping the 'index' column that was created\n",
    "final_data.drop('index', axis=1, inplace=True)"
   ]
  },
  {
   "cell_type": "code",
   "execution_count": 74,
   "id": "84c56931",
   "metadata": {},
   "outputs": [
    {
     "name": "stdout",
     "output_type": "stream",
     "text": [
      "<class 'pandas.core.frame.DataFrame'>\n",
      "Int64Index: 2293 entries, 0 to 2292\n",
      "Data columns (total 9 columns):\n",
      "user_id        2293 non-null int64\n",
      "month          2293 non-null int64\n",
      "num_calls      2258 non-null float64\n",
      "duration       2258 non-null float64\n",
      "sms_sent       1806 non-null float64\n",
      "GB_used        2277 non-null float64\n",
      "city           2293 non-null object\n",
      "plan           2293 non-null object\n",
      "months_used    2293 non-null float64\n",
      "dtypes: float64(5), int64(2), object(2)\n",
      "memory usage: 179.1+ KB\n"
     ]
    }
   ],
   "source": [
    "#checking my final data info\n",
    "final_data.info()"
   ]
  },
  {
   "cell_type": "code",
   "execution_count": 75,
   "id": "8bba9aea",
   "metadata": {},
   "outputs": [
    {
     "data": {
      "text/plain": [
       "490"
      ]
     },
     "execution_count": 75,
     "metadata": {},
     "output_type": "execute_result"
    }
   ],
   "source": [
    "#checking number of unique id's in the new data frame\n",
    "final_data['user_id'].value_counts().count()"
   ]
  },
  {
   "cell_type": "markdown",
   "id": "8fbb422d",
   "metadata": {},
   "source": [
    "* **We have some missing values (MNAR) those observations indicates that the user did not use the service in matter**\n",
    "* **duration, num_calls, sms_sent and GB_used should be changed - float -> int:**"
   ]
  },
  {
   "cell_type": "code",
   "execution_count": 76,
   "id": "7ed1ed31",
   "metadata": {},
   "outputs": [
    {
     "data": {
      "text/plain": [
       "user_id          0\n",
       "month            0\n",
       "num_calls       35\n",
       "duration        35\n",
       "sms_sent       487\n",
       "GB_used         16\n",
       "city             0\n",
       "plan             0\n",
       "months_used      0\n",
       "dtype: int64"
      ]
     },
     "execution_count": 76,
     "metadata": {},
     "output_type": "execute_result"
    }
   ],
   "source": [
    "final_data.isnull().sum()"
   ]
  },
  {
   "cell_type": "code",
   "execution_count": 77,
   "id": "9631fe1e",
   "metadata": {},
   "outputs": [],
   "source": [
    "# Missing values indicates user not using a specific service, filling missing values with zero is logical\n",
    "final_data.fillna(0, inplace=True)"
   ]
  },
  {
   "cell_type": "code",
   "execution_count": 78,
   "id": "9dca8d69",
   "metadata": {},
   "outputs": [
    {
     "data": {
      "text/plain": [
       "user_id        0\n",
       "month          0\n",
       "num_calls      0\n",
       "duration       0\n",
       "sms_sent       0\n",
       "GB_used        0\n",
       "city           0\n",
       "plan           0\n",
       "months_used    0\n",
       "dtype: int64"
      ]
     },
     "execution_count": 78,
     "metadata": {},
     "output_type": "execute_result"
    }
   ],
   "source": [
    "#checking\n",
    "final_data.isnull().sum()"
   ]
  },
  {
   "cell_type": "code",
   "execution_count": 79,
   "id": "ee826479",
   "metadata": {},
   "outputs": [],
   "source": [
    "# Converting duratoin column to int\n",
    "final_data['duration'] = final_data['duration'].astype('int')"
   ]
  },
  {
   "cell_type": "code",
   "execution_count": 80,
   "id": "d229e78a",
   "metadata": {},
   "outputs": [],
   "source": [
    "# Converting num_calls column to int\n",
    "final_data['num_calls'] = final_data['num_calls'].astype('int')"
   ]
  },
  {
   "cell_type": "code",
   "execution_count": 81,
   "id": "f7ec1a48",
   "metadata": {},
   "outputs": [],
   "source": [
    "# Converting sms_sent column to int\n",
    "final_data['sms_sent'] = final_data['sms_sent'].astype('int')"
   ]
  },
  {
   "cell_type": "code",
   "execution_count": 82,
   "id": "0a6dc387",
   "metadata": {},
   "outputs": [],
   "source": [
    "# Converting GB_used column to int\n",
    "final_data['GB_used'] = final_data['GB_used'].astype('int')"
   ]
  },
  {
   "cell_type": "code",
   "execution_count": 83,
   "id": "4cfc3cc6",
   "metadata": {},
   "outputs": [
    {
     "name": "stdout",
     "output_type": "stream",
     "text": [
      "<class 'pandas.core.frame.DataFrame'>\n",
      "Int64Index: 2293 entries, 0 to 2292\n",
      "Data columns (total 9 columns):\n",
      "user_id        2293 non-null int64\n",
      "month          2293 non-null int64\n",
      "num_calls      2293 non-null int64\n",
      "duration       2293 non-null int64\n",
      "sms_sent       2293 non-null int64\n",
      "GB_used        2293 non-null int64\n",
      "city           2293 non-null object\n",
      "plan           2293 non-null object\n",
      "months_used    2293 non-null float64\n",
      "dtypes: float64(1), int64(6), object(2)\n",
      "memory usage: 179.1+ KB\n"
     ]
    }
   ],
   "source": [
    "#checking\n",
    "final_data.info()"
   ]
  },
  {
   "cell_type": "code",
   "execution_count": 84,
   "id": "565924fb",
   "metadata": {},
   "outputs": [
    {
     "data": {
      "text/html": [
       "<div>\n",
       "<style scoped>\n",
       "    .dataframe tbody tr th:only-of-type {\n",
       "        vertical-align: middle;\n",
       "    }\n",
       "\n",
       "    .dataframe tbody tr th {\n",
       "        vertical-align: top;\n",
       "    }\n",
       "\n",
       "    .dataframe thead th {\n",
       "        text-align: right;\n",
       "    }\n",
       "</style>\n",
       "<table border=\"1\" class=\"dataframe\">\n",
       "  <thead>\n",
       "    <tr style=\"text-align: right;\">\n",
       "      <th></th>\n",
       "      <th>user_id</th>\n",
       "      <th>month</th>\n",
       "      <th>num_calls</th>\n",
       "      <th>duration</th>\n",
       "      <th>sms_sent</th>\n",
       "      <th>GB_used</th>\n",
       "      <th>months_used</th>\n",
       "    </tr>\n",
       "  </thead>\n",
       "  <tbody>\n",
       "    <tr>\n",
       "      <td>count</td>\n",
       "      <td>2293.000000</td>\n",
       "      <td>2293.000000</td>\n",
       "      <td>2293.000000</td>\n",
       "      <td>2293.000000</td>\n",
       "      <td>2293.000000</td>\n",
       "      <td>2293.000000</td>\n",
       "      <td>2293.000000</td>\n",
       "    </tr>\n",
       "    <tr>\n",
       "      <td>mean</td>\n",
       "      <td>1246.075883</td>\n",
       "      <td>9.172700</td>\n",
       "      <td>60.067597</td>\n",
       "      <td>429.283471</td>\n",
       "      <td>33.166594</td>\n",
       "      <td>16.870475</td>\n",
       "      <td>7.602442</td>\n",
       "    </tr>\n",
       "    <tr>\n",
       "      <td>std</td>\n",
       "      <td>143.051927</td>\n",
       "      <td>2.496386</td>\n",
       "      <td>32.402563</td>\n",
       "      <td>236.320077</td>\n",
       "      <td>34.070085</td>\n",
       "      <td>7.796174</td>\n",
       "      <td>3.013417</td>\n",
       "    </tr>\n",
       "    <tr>\n",
       "      <td>min</td>\n",
       "      <td>1000.000000</td>\n",
       "      <td>1.000000</td>\n",
       "      <td>0.000000</td>\n",
       "      <td>0.000000</td>\n",
       "      <td>0.000000</td>\n",
       "      <td>0.000000</td>\n",
       "      <td>0.033333</td>\n",
       "    </tr>\n",
       "    <tr>\n",
       "      <td>25%</td>\n",
       "      <td>1122.000000</td>\n",
       "      <td>8.000000</td>\n",
       "      <td>38.000000</td>\n",
       "      <td>265.000000</td>\n",
       "      <td>3.000000</td>\n",
       "      <td>12.000000</td>\n",
       "      <td>5.433333</td>\n",
       "    </tr>\n",
       "    <tr>\n",
       "      <td>50%</td>\n",
       "      <td>1245.000000</td>\n",
       "      <td>10.000000</td>\n",
       "      <td>60.000000</td>\n",
       "      <td>425.000000</td>\n",
       "      <td>26.000000</td>\n",
       "      <td>17.000000</td>\n",
       "      <td>7.866667</td>\n",
       "    </tr>\n",
       "    <tr>\n",
       "      <td>75%</td>\n",
       "      <td>1368.000000</td>\n",
       "      <td>11.000000</td>\n",
       "      <td>79.000000</td>\n",
       "      <td>572.000000</td>\n",
       "      <td>51.000000</td>\n",
       "      <td>21.000000</td>\n",
       "      <td>10.266667</td>\n",
       "    </tr>\n",
       "    <tr>\n",
       "      <td>max</td>\n",
       "      <td>1499.000000</td>\n",
       "      <td>12.000000</td>\n",
       "      <td>205.000000</td>\n",
       "      <td>1510.000000</td>\n",
       "      <td>266.000000</td>\n",
       "      <td>70.000000</td>\n",
       "      <td>12.133333</td>\n",
       "    </tr>\n",
       "  </tbody>\n",
       "</table>\n",
       "</div>"
      ],
      "text/plain": [
       "           user_id        month    num_calls     duration     sms_sent  \\\n",
       "count  2293.000000  2293.000000  2293.000000  2293.000000  2293.000000   \n",
       "mean   1246.075883     9.172700    60.067597   429.283471    33.166594   \n",
       "std     143.051927     2.496386    32.402563   236.320077    34.070085   \n",
       "min    1000.000000     1.000000     0.000000     0.000000     0.000000   \n",
       "25%    1122.000000     8.000000    38.000000   265.000000     3.000000   \n",
       "50%    1245.000000    10.000000    60.000000   425.000000    26.000000   \n",
       "75%    1368.000000    11.000000    79.000000   572.000000    51.000000   \n",
       "max    1499.000000    12.000000   205.000000  1510.000000   266.000000   \n",
       "\n",
       "           GB_used  months_used  \n",
       "count  2293.000000  2293.000000  \n",
       "mean     16.870475     7.602442  \n",
       "std       7.796174     3.013417  \n",
       "min       0.000000     0.033333  \n",
       "25%      12.000000     5.433333  \n",
       "50%      17.000000     7.866667  \n",
       "75%      21.000000    10.266667  \n",
       "max      70.000000    12.133333  "
      ]
     },
     "execution_count": 84,
     "metadata": {},
     "output_type": "execute_result"
    }
   ],
   "source": [
    "final_data.describe()"
   ]
  },
  {
   "cell_type": "markdown",
   "id": "c8f761cf",
   "metadata": {},
   "source": [
    "### Calculate the revenue from each user:<a class=\"anchor\" id=\"section_1_7\">"
   ]
  },
  {
   "cell_type": "markdown",
   "id": "8eeb4b7c",
   "metadata": {},
   "source": [
    "#### [Go back to the Table of Contents](#table_of_contents)  "
   ]
  },
  {
   "cell_type": "markdown",
   "id": "da249835",
   "metadata": {},
   "source": [
    "the process to find the revenue is - \n",
    "* if the user exceeded usage limit - multiply the extra usage by the fare of the plan\n",
    "* sum all the extra fare and the monthly charge for the plan"
   ]
  },
  {
   "cell_type": "code",
   "execution_count": 85,
   "id": "00651dda",
   "metadata": {},
   "outputs": [],
   "source": [
    "# a function to find monthly revenue from each user\n",
    "def find_rev(row): \n",
    "    plan = row['plan']\n",
    "    duration = row['duration']\n",
    "    sms = row['sms_sent']\n",
    "    GB = row['GB_used']\n",
    "    \n",
    "    if plan == 'surf' :\n",
    "        monthly_charge = 20.0\n",
    "        if duration > 500.0 :\n",
    "            cost_minutes = 0.03 * (duration-500)\n",
    "        else :\n",
    "            cost_minutes = 0.0\n",
    "        if sms > 50.0 :\n",
    "            cost_message = 0.03 * (sms-50)\n",
    "        else :\n",
    "            cost_message = 0.0       \n",
    "        if GB > 15.0 :\n",
    "            cost_GB = 10.0 * (GB-15)\n",
    "        else :\n",
    "            cost_GB = 0.0      \n",
    "    else :\n",
    "        monthly_charge = 70.0\n",
    "        if duration > 3000.0 :\n",
    "            cost_minutes = 0.01 * (duration-3000)\n",
    "        else :\n",
    "            cost_minutes = 0.0\n",
    "        if sms > 1000.0 :\n",
    "            cost_message = 0.01 * (sms-1000)\n",
    "        else :\n",
    "            cost_message = 0.0        \n",
    "        if GB > 30.0 :\n",
    "            cost_GB = 7.0 * (GB-30)\n",
    "        else :\n",
    "            cost_GB = 0.0    \n",
    "    return monthly_charge+cost_minutes+cost_message+cost_GB      \n",
    "\n",
    "#Using apply() method to use the find_rev funtion\n",
    "final_data['revenue'] = final_data.apply(find_rev, axis=1)"
   ]
  },
  {
   "cell_type": "code",
   "execution_count": 86,
   "id": "8d26f6f9",
   "metadata": {},
   "outputs": [
    {
     "data": {
      "text/html": [
       "<div>\n",
       "<style scoped>\n",
       "    .dataframe tbody tr th:only-of-type {\n",
       "        vertical-align: middle;\n",
       "    }\n",
       "\n",
       "    .dataframe tbody tr th {\n",
       "        vertical-align: top;\n",
       "    }\n",
       "\n",
       "    .dataframe thead th {\n",
       "        text-align: right;\n",
       "    }\n",
       "</style>\n",
       "<table border=\"1\" class=\"dataframe\">\n",
       "  <thead>\n",
       "    <tr style=\"text-align: right;\">\n",
       "      <th></th>\n",
       "      <th>user_id</th>\n",
       "      <th>month</th>\n",
       "      <th>num_calls</th>\n",
       "      <th>duration</th>\n",
       "      <th>sms_sent</th>\n",
       "      <th>GB_used</th>\n",
       "      <th>city</th>\n",
       "      <th>plan</th>\n",
       "      <th>months_used</th>\n",
       "      <th>revenue</th>\n",
       "    </tr>\n",
       "  </thead>\n",
       "  <tbody>\n",
       "    <tr>\n",
       "      <td>0</td>\n",
       "      <td>1000</td>\n",
       "      <td>12</td>\n",
       "      <td>16</td>\n",
       "      <td>124</td>\n",
       "      <td>11</td>\n",
       "      <td>2</td>\n",
       "      <td>Atlanta-Sandy Springs-Roswell, GA MSA</td>\n",
       "      <td>ultimate</td>\n",
       "      <td>0.233333</td>\n",
       "      <td>70.00</td>\n",
       "    </tr>\n",
       "    <tr>\n",
       "      <td>1</td>\n",
       "      <td>1001</td>\n",
       "      <td>8</td>\n",
       "      <td>27</td>\n",
       "      <td>182</td>\n",
       "      <td>30</td>\n",
       "      <td>7</td>\n",
       "      <td>Seattle-Tacoma-Bellevue, WA MSA</td>\n",
       "      <td>surf</td>\n",
       "      <td>4.666667</td>\n",
       "      <td>20.00</td>\n",
       "    </tr>\n",
       "    <tr>\n",
       "      <td>2</td>\n",
       "      <td>1001</td>\n",
       "      <td>9</td>\n",
       "      <td>49</td>\n",
       "      <td>315</td>\n",
       "      <td>44</td>\n",
       "      <td>14</td>\n",
       "      <td>Seattle-Tacoma-Bellevue, WA MSA</td>\n",
       "      <td>surf</td>\n",
       "      <td>4.666667</td>\n",
       "      <td>20.00</td>\n",
       "    </tr>\n",
       "    <tr>\n",
       "      <td>3</td>\n",
       "      <td>1001</td>\n",
       "      <td>10</td>\n",
       "      <td>65</td>\n",
       "      <td>393</td>\n",
       "      <td>53</td>\n",
       "      <td>22</td>\n",
       "      <td>Seattle-Tacoma-Bellevue, WA MSA</td>\n",
       "      <td>surf</td>\n",
       "      <td>4.666667</td>\n",
       "      <td>90.09</td>\n",
       "    </tr>\n",
       "    <tr>\n",
       "      <td>4</td>\n",
       "      <td>1001</td>\n",
       "      <td>11</td>\n",
       "      <td>64</td>\n",
       "      <td>426</td>\n",
       "      <td>36</td>\n",
       "      <td>19</td>\n",
       "      <td>Seattle-Tacoma-Bellevue, WA MSA</td>\n",
       "      <td>surf</td>\n",
       "      <td>4.666667</td>\n",
       "      <td>60.00</td>\n",
       "    </tr>\n",
       "  </tbody>\n",
       "</table>\n",
       "</div>"
      ],
      "text/plain": [
       "   user_id  month  num_calls  duration  sms_sent  GB_used  \\\n",
       "0     1000     12         16       124        11        2   \n",
       "1     1001      8         27       182        30        7   \n",
       "2     1001      9         49       315        44       14   \n",
       "3     1001     10         65       393        53       22   \n",
       "4     1001     11         64       426        36       19   \n",
       "\n",
       "                                    city      plan  months_used  revenue  \n",
       "0  Atlanta-Sandy Springs-Roswell, GA MSA  ultimate     0.233333    70.00  \n",
       "1        Seattle-Tacoma-Bellevue, WA MSA      surf     4.666667    20.00  \n",
       "2        Seattle-Tacoma-Bellevue, WA MSA      surf     4.666667    20.00  \n",
       "3        Seattle-Tacoma-Bellevue, WA MSA      surf     4.666667    90.09  \n",
       "4        Seattle-Tacoma-Bellevue, WA MSA      surf     4.666667    60.00  "
      ]
     },
     "execution_count": 86,
     "metadata": {},
     "output_type": "execute_result"
    }
   ],
   "source": [
    "final_data.head()"
   ]
  },
  {
   "cell_type": "markdown",
   "id": "73a7483c",
   "metadata": {},
   "source": [
    "### Data preparetion is over, we now have a table containing each user monthly use and revenue.\n",
    "#### What have we done so far?\n",
    "* **We started by looking at data and understand it and its errors.**\n",
    "* **We dealt with its missing values (churn_date)**\n",
    "* **We converted the dtypes needed(datetime objects in all datasets)**\n",
    "* **Constructed new columns - days_used, months_used and month related to usage for each dataset**\n",
    "* **Combined the datasets into one orgenized dataset**\n",
    "* **Finally we calculated the revenue for each user**"
   ]
  },
  {
   "cell_type": "markdown",
   "id": "d6534554",
   "metadata": {},
   "source": [
    "### Data Analysis: <a class=\"anchor\" id=\"chapter2\">"
   ]
  },
  {
   "cell_type": "markdown",
   "id": "2e3e5d83",
   "metadata": {},
   "source": [
    "#### [Go back to the Table of Contents](#table_of_contents)"
   ]
  },
  {
   "cell_type": "markdown",
   "id": "8d649d81",
   "metadata": {},
   "source": [
    "##### In this part we will describe customer's behavior in the next ways:\n",
    "* Find the minutes, texts, and volume of data the users of each plan require per month.\n",
    "* Find the central tendency of the data.\n",
    "* Plot histograms and describe the distribution."
   ]
  },
  {
   "cell_type": "markdown",
   "id": "899205ea",
   "metadata": {},
   "source": [
    "we will start by creating pivot table to find mean of all parameter by plan and month:"
   ]
  },
  {
   "cell_type": "code",
   "execution_count": 87,
   "id": "f30883d7",
   "metadata": {},
   "outputs": [],
   "source": [
    "mean_per_month = final_data.pivot_table(\n",
    "    index=['plan', 'month'], values=['duration', 'sms_sent', 'GB_used', 'revenue']).reset_index()"
   ]
  },
  {
   "cell_type": "code",
   "execution_count": 88,
   "id": "84324799",
   "metadata": {},
   "outputs": [
    {
     "data": {
      "text/html": [
       "<div>\n",
       "<style scoped>\n",
       "    .dataframe tbody tr th:only-of-type {\n",
       "        vertical-align: middle;\n",
       "    }\n",
       "\n",
       "    .dataframe tbody tr th {\n",
       "        vertical-align: top;\n",
       "    }\n",
       "\n",
       "    .dataframe thead th {\n",
       "        text-align: right;\n",
       "    }\n",
       "</style>\n",
       "<table border=\"1\" class=\"dataframe\">\n",
       "  <thead>\n",
       "    <tr style=\"text-align: right;\">\n",
       "      <th></th>\n",
       "      <th>plan</th>\n",
       "      <th>month</th>\n",
       "      <th>GB_used</th>\n",
       "      <th>duration</th>\n",
       "      <th>revenue</th>\n",
       "      <th>sms_sent</th>\n",
       "    </tr>\n",
       "  </thead>\n",
       "  <tbody>\n",
       "    <tr>\n",
       "      <td>0</td>\n",
       "      <td>surf</td>\n",
       "      <td>1</td>\n",
       "      <td>5.000000</td>\n",
       "      <td>203.000000</td>\n",
       "      <td>20.000000</td>\n",
       "      <td>10.500000</td>\n",
       "    </tr>\n",
       "    <tr>\n",
       "      <td>1</td>\n",
       "      <td>surf</td>\n",
       "      <td>2</td>\n",
       "      <td>12.222222</td>\n",
       "      <td>297.000000</td>\n",
       "      <td>34.396667</td>\n",
       "      <td>12.000000</td>\n",
       "    </tr>\n",
       "    <tr>\n",
       "      <td>2</td>\n",
       "      <td>surf</td>\n",
       "      <td>3</td>\n",
       "      <td>13.565217</td>\n",
       "      <td>330.000000</td>\n",
       "      <td>45.941304</td>\n",
       "      <td>15.260870</td>\n",
       "    </tr>\n",
       "    <tr>\n",
       "      <td>3</td>\n",
       "      <td>surf</td>\n",
       "      <td>4</td>\n",
       "      <td>12.220000</td>\n",
       "      <td>351.540000</td>\n",
       "      <td>40.710600</td>\n",
       "      <td>17.400000</td>\n",
       "    </tr>\n",
       "    <tr>\n",
       "      <td>4</td>\n",
       "      <td>surf</td>\n",
       "      <td>5</td>\n",
       "      <td>14.116883</td>\n",
       "      <td>399.584416</td>\n",
       "      <td>47.628182</td>\n",
       "      <td>24.012987</td>\n",
       "    </tr>\n",
       "  </tbody>\n",
       "</table>\n",
       "</div>"
      ],
      "text/plain": [
       "   plan  month    GB_used    duration    revenue   sms_sent\n",
       "0  surf      1   5.000000  203.000000  20.000000  10.500000\n",
       "1  surf      2  12.222222  297.000000  34.396667  12.000000\n",
       "2  surf      3  13.565217  330.000000  45.941304  15.260870\n",
       "3  surf      4  12.220000  351.540000  40.710600  17.400000\n",
       "4  surf      5  14.116883  399.584416  47.628182  24.012987"
      ]
     },
     "execution_count": 88,
     "metadata": {},
     "output_type": "execute_result"
    }
   ],
   "source": [
    "#let's have a look\n",
    "mean_per_month.head()"
   ]
  },
  {
   "cell_type": "code",
   "execution_count": 89,
   "id": "e66b3393",
   "metadata": {},
   "outputs": [
    {
     "data": {
      "text/html": [
       "<div>\n",
       "<style scoped>\n",
       "    .dataframe tbody tr th:only-of-type {\n",
       "        vertical-align: middle;\n",
       "    }\n",
       "\n",
       "    .dataframe tbody tr th {\n",
       "        vertical-align: top;\n",
       "    }\n",
       "\n",
       "    .dataframe thead th {\n",
       "        text-align: right;\n",
       "    }\n",
       "</style>\n",
       "<table border=\"1\" class=\"dataframe\">\n",
       "  <thead>\n",
       "    <tr style=\"text-align: right;\">\n",
       "      <th></th>\n",
       "      <th>plan</th>\n",
       "      <th>month</th>\n",
       "      <th>GB_used</th>\n",
       "      <th>duration</th>\n",
       "      <th>revenue</th>\n",
       "      <th>sms_sent</th>\n",
       "    </tr>\n",
       "  </thead>\n",
       "  <tbody>\n",
       "    <tr>\n",
       "      <td>12</td>\n",
       "      <td>ultimate</td>\n",
       "      <td>1</td>\n",
       "      <td>7.250000</td>\n",
       "      <td>193.500000</td>\n",
       "      <td>70.000000</td>\n",
       "      <td>15.500000</td>\n",
       "    </tr>\n",
       "    <tr>\n",
       "      <td>13</td>\n",
       "      <td>ultimate</td>\n",
       "      <td>2</td>\n",
       "      <td>17.285714</td>\n",
       "      <td>403.142857</td>\n",
       "      <td>70.000000</td>\n",
       "      <td>21.571429</td>\n",
       "    </tr>\n",
       "    <tr>\n",
       "      <td>14</td>\n",
       "      <td>ultimate</td>\n",
       "      <td>3</td>\n",
       "      <td>18.416667</td>\n",
       "      <td>304.250000</td>\n",
       "      <td>74.666667</td>\n",
       "      <td>20.250000</td>\n",
       "    </tr>\n",
       "    <tr>\n",
       "      <td>15</td>\n",
       "      <td>ultimate</td>\n",
       "      <td>4</td>\n",
       "      <td>16.333333</td>\n",
       "      <td>336.857143</td>\n",
       "      <td>73.000000</td>\n",
       "      <td>22.047619</td>\n",
       "    </tr>\n",
       "    <tr>\n",
       "      <td>16</td>\n",
       "      <td>ultimate</td>\n",
       "      <td>5</td>\n",
       "      <td>16.862069</td>\n",
       "      <td>406.241379</td>\n",
       "      <td>70.724138</td>\n",
       "      <td>32.103448</td>\n",
       "    </tr>\n",
       "    <tr>\n",
       "      <td>17</td>\n",
       "      <td>ultimate</td>\n",
       "      <td>6</td>\n",
       "      <td>15.425532</td>\n",
       "      <td>370.957447</td>\n",
       "      <td>71.638298</td>\n",
       "      <td>29.340426</td>\n",
       "    </tr>\n",
       "    <tr>\n",
       "      <td>18</td>\n",
       "      <td>ultimate</td>\n",
       "      <td>7</td>\n",
       "      <td>16.491525</td>\n",
       "      <td>427.067797</td>\n",
       "      <td>71.898305</td>\n",
       "      <td>32.830508</td>\n",
       "    </tr>\n",
       "    <tr>\n",
       "      <td>19</td>\n",
       "      <td>ultimate</td>\n",
       "      <td>8</td>\n",
       "      <td>17.845070</td>\n",
       "      <td>421.436620</td>\n",
       "      <td>72.859155</td>\n",
       "      <td>38.478873</td>\n",
       "    </tr>\n",
       "    <tr>\n",
       "      <td>20</td>\n",
       "      <td>ultimate</td>\n",
       "      <td>9</td>\n",
       "      <td>17.011628</td>\n",
       "      <td>437.511628</td>\n",
       "      <td>72.034884</td>\n",
       "      <td>37.895349</td>\n",
       "    </tr>\n",
       "    <tr>\n",
       "      <td>21</td>\n",
       "      <td>ultimate</td>\n",
       "      <td>10</td>\n",
       "      <td>17.716981</td>\n",
       "      <td>450.735849</td>\n",
       "      <td>72.311321</td>\n",
       "      <td>39.443396</td>\n",
       "    </tr>\n",
       "    <tr>\n",
       "      <td>22</td>\n",
       "      <td>ultimate</td>\n",
       "      <td>11</td>\n",
       "      <td>17.118110</td>\n",
       "      <td>445.196850</td>\n",
       "      <td>71.708661</td>\n",
       "      <td>38.606299</td>\n",
       "    </tr>\n",
       "    <tr>\n",
       "      <td>23</td>\n",
       "      <td>ultimate</td>\n",
       "      <td>12</td>\n",
       "      <td>18.397351</td>\n",
       "      <td>459.099338</td>\n",
       "      <td>73.291391</td>\n",
       "      <td>45.006623</td>\n",
       "    </tr>\n",
       "  </tbody>\n",
       "</table>\n",
       "</div>"
      ],
      "text/plain": [
       "        plan  month    GB_used    duration    revenue   sms_sent\n",
       "12  ultimate      1   7.250000  193.500000  70.000000  15.500000\n",
       "13  ultimate      2  17.285714  403.142857  70.000000  21.571429\n",
       "14  ultimate      3  18.416667  304.250000  74.666667  20.250000\n",
       "15  ultimate      4  16.333333  336.857143  73.000000  22.047619\n",
       "16  ultimate      5  16.862069  406.241379  70.724138  32.103448\n",
       "17  ultimate      6  15.425532  370.957447  71.638298  29.340426\n",
       "18  ultimate      7  16.491525  427.067797  71.898305  32.830508\n",
       "19  ultimate      8  17.845070  421.436620  72.859155  38.478873\n",
       "20  ultimate      9  17.011628  437.511628  72.034884  37.895349\n",
       "21  ultimate     10  17.716981  450.735849  72.311321  39.443396\n",
       "22  ultimate     11  17.118110  445.196850  71.708661  38.606299\n",
       "23  ultimate     12  18.397351  459.099338  73.291391  45.006623"
      ]
     },
     "execution_count": 89,
     "metadata": {},
     "output_type": "execute_result"
    }
   ],
   "source": [
    "mean_per_month.query('plan==\"ultimate\"')"
   ]
  },
  {
   "cell_type": "markdown",
   "id": "fca533cf",
   "metadata": {},
   "source": [
    "The values semms pretty steady, beside the sms_sent column, it looks like there are no significant rises throughout the year."
   ]
  },
  {
   "cell_type": "code",
   "execution_count": 90,
   "id": "3d1fd7ea",
   "metadata": {},
   "outputs": [
    {
     "data": {
      "text/html": [
       "<div>\n",
       "<style scoped>\n",
       "    .dataframe tbody tr th:only-of-type {\n",
       "        vertical-align: middle;\n",
       "    }\n",
       "\n",
       "    .dataframe tbody tr th {\n",
       "        vertical-align: top;\n",
       "    }\n",
       "\n",
       "    .dataframe thead th {\n",
       "        text-align: right;\n",
       "    }\n",
       "</style>\n",
       "<table border=\"1\" class=\"dataframe\">\n",
       "  <thead>\n",
       "    <tr style=\"text-align: right;\">\n",
       "      <th></th>\n",
       "      <th>plan</th>\n",
       "      <th>month</th>\n",
       "      <th>GB_used</th>\n",
       "      <th>duration</th>\n",
       "      <th>revenue</th>\n",
       "      <th>sms_sent</th>\n",
       "    </tr>\n",
       "  </thead>\n",
       "  <tbody>\n",
       "    <tr>\n",
       "      <td>0</td>\n",
       "      <td>surf</td>\n",
       "      <td>1</td>\n",
       "      <td>5.000000</td>\n",
       "      <td>203.000000</td>\n",
       "      <td>20.000000</td>\n",
       "      <td>10.500000</td>\n",
       "    </tr>\n",
       "    <tr>\n",
       "      <td>1</td>\n",
       "      <td>surf</td>\n",
       "      <td>2</td>\n",
       "      <td>12.222222</td>\n",
       "      <td>297.000000</td>\n",
       "      <td>34.396667</td>\n",
       "      <td>12.000000</td>\n",
       "    </tr>\n",
       "    <tr>\n",
       "      <td>2</td>\n",
       "      <td>surf</td>\n",
       "      <td>3</td>\n",
       "      <td>13.565217</td>\n",
       "      <td>330.000000</td>\n",
       "      <td>45.941304</td>\n",
       "      <td>15.260870</td>\n",
       "    </tr>\n",
       "    <tr>\n",
       "      <td>3</td>\n",
       "      <td>surf</td>\n",
       "      <td>4</td>\n",
       "      <td>12.220000</td>\n",
       "      <td>351.540000</td>\n",
       "      <td>40.710600</td>\n",
       "      <td>17.400000</td>\n",
       "    </tr>\n",
       "    <tr>\n",
       "      <td>4</td>\n",
       "      <td>surf</td>\n",
       "      <td>5</td>\n",
       "      <td>14.116883</td>\n",
       "      <td>399.584416</td>\n",
       "      <td>47.628182</td>\n",
       "      <td>24.012987</td>\n",
       "    </tr>\n",
       "    <tr>\n",
       "      <td>5</td>\n",
       "      <td>surf</td>\n",
       "      <td>6</td>\n",
       "      <td>15.484536</td>\n",
       "      <td>431.298969</td>\n",
       "      <td>49.276289</td>\n",
       "      <td>25.298969</td>\n",
       "    </tr>\n",
       "    <tr>\n",
       "      <td>6</td>\n",
       "      <td>surf</td>\n",
       "      <td>7</td>\n",
       "      <td>16.876033</td>\n",
       "      <td>449.983471</td>\n",
       "      <td>62.674050</td>\n",
       "      <td>27.033058</td>\n",
       "    </tr>\n",
       "    <tr>\n",
       "      <td>7</td>\n",
       "      <td>surf</td>\n",
       "      <td>8</td>\n",
       "      <td>16.882716</td>\n",
       "      <td>410.111111</td>\n",
       "      <td>63.931173</td>\n",
       "      <td>28.777778</td>\n",
       "    </tr>\n",
       "    <tr>\n",
       "      <td>8</td>\n",
       "      <td>surf</td>\n",
       "      <td>9</td>\n",
       "      <td>16.690722</td>\n",
       "      <td>414.226804</td>\n",
       "      <td>58.271495</td>\n",
       "      <td>30.762887</td>\n",
       "    </tr>\n",
       "    <tr>\n",
       "      <td>9</td>\n",
       "      <td>surf</td>\n",
       "      <td>10</td>\n",
       "      <td>17.409283</td>\n",
       "      <td>429.729958</td>\n",
       "      <td>65.421224</td>\n",
       "      <td>33.839662</td>\n",
       "    </tr>\n",
       "    <tr>\n",
       "      <td>10</td>\n",
       "      <td>surf</td>\n",
       "      <td>11</td>\n",
       "      <td>16.431095</td>\n",
       "      <td>423.325088</td>\n",
       "      <td>58.004276</td>\n",
       "      <td>32.385159</td>\n",
       "    </tr>\n",
       "    <tr>\n",
       "      <td>11</td>\n",
       "      <td>surf</td>\n",
       "      <td>12</td>\n",
       "      <td>18.238994</td>\n",
       "      <td>473.836478</td>\n",
       "      <td>70.557044</td>\n",
       "      <td>38.600629</td>\n",
       "    </tr>\n",
       "  </tbody>\n",
       "</table>\n",
       "</div>"
      ],
      "text/plain": [
       "    plan  month    GB_used    duration    revenue   sms_sent\n",
       "0   surf      1   5.000000  203.000000  20.000000  10.500000\n",
       "1   surf      2  12.222222  297.000000  34.396667  12.000000\n",
       "2   surf      3  13.565217  330.000000  45.941304  15.260870\n",
       "3   surf      4  12.220000  351.540000  40.710600  17.400000\n",
       "4   surf      5  14.116883  399.584416  47.628182  24.012987\n",
       "5   surf      6  15.484536  431.298969  49.276289  25.298969\n",
       "6   surf      7  16.876033  449.983471  62.674050  27.033058\n",
       "7   surf      8  16.882716  410.111111  63.931173  28.777778\n",
       "8   surf      9  16.690722  414.226804  58.271495  30.762887\n",
       "9   surf     10  17.409283  429.729958  65.421224  33.839662\n",
       "10  surf     11  16.431095  423.325088  58.004276  32.385159\n",
       "11  surf     12  18.238994  473.836478  70.557044  38.600629"
      ]
     },
     "execution_count": 90,
     "metadata": {},
     "output_type": "execute_result"
    }
   ],
   "source": [
    "mean_per_month.query('plan==\"surf\"')"
   ]
  },
  {
   "cell_type": "markdown",
   "id": "146d0216",
   "metadata": {},
   "source": [
    "**it seems that for surf plan the numbers go up as we advance in the months, i wonder what is the reason.\n",
    "<br>we saw in the preprocess that most customers didnt stopped the service, and there are those that joined, meaning that we probably have more users as we advance. though we are looking at means, so the rise in customers number shouldn't impact our mean that much.**"
   ]
  },
  {
   "cell_type": "code",
   "execution_count": 91,
   "id": "206237fb",
   "metadata": {},
   "outputs": [],
   "source": [
    "monthly_users = final_data.pivot_table(index=['plan', 'month'], values='user_id', aggfunc='count').reset_index()"
   ]
  },
  {
   "cell_type": "code",
   "execution_count": 92,
   "id": "436d8f87",
   "metadata": {},
   "outputs": [
    {
     "data": {
      "text/html": [
       "<div>\n",
       "<style scoped>\n",
       "    .dataframe tbody tr th:only-of-type {\n",
       "        vertical-align: middle;\n",
       "    }\n",
       "\n",
       "    .dataframe tbody tr th {\n",
       "        vertical-align: top;\n",
       "    }\n",
       "\n",
       "    .dataframe thead th {\n",
       "        text-align: right;\n",
       "    }\n",
       "</style>\n",
       "<table border=\"1\" class=\"dataframe\">\n",
       "  <thead>\n",
       "    <tr style=\"text-align: right;\">\n",
       "      <th></th>\n",
       "      <th>plan</th>\n",
       "      <th>month</th>\n",
       "      <th>user_id</th>\n",
       "    </tr>\n",
       "  </thead>\n",
       "  <tbody>\n",
       "    <tr>\n",
       "      <td>0</td>\n",
       "      <td>surf</td>\n",
       "      <td>1</td>\n",
       "      <td>2</td>\n",
       "    </tr>\n",
       "    <tr>\n",
       "      <td>1</td>\n",
       "      <td>surf</td>\n",
       "      <td>2</td>\n",
       "      <td>9</td>\n",
       "    </tr>\n",
       "    <tr>\n",
       "      <td>2</td>\n",
       "      <td>surf</td>\n",
       "      <td>3</td>\n",
       "      <td>23</td>\n",
       "    </tr>\n",
       "    <tr>\n",
       "      <td>3</td>\n",
       "      <td>surf</td>\n",
       "      <td>4</td>\n",
       "      <td>50</td>\n",
       "    </tr>\n",
       "    <tr>\n",
       "      <td>4</td>\n",
       "      <td>surf</td>\n",
       "      <td>5</td>\n",
       "      <td>77</td>\n",
       "    </tr>\n",
       "    <tr>\n",
       "      <td>5</td>\n",
       "      <td>surf</td>\n",
       "      <td>6</td>\n",
       "      <td>97</td>\n",
       "    </tr>\n",
       "    <tr>\n",
       "      <td>6</td>\n",
       "      <td>surf</td>\n",
       "      <td>7</td>\n",
       "      <td>121</td>\n",
       "    </tr>\n",
       "    <tr>\n",
       "      <td>7</td>\n",
       "      <td>surf</td>\n",
       "      <td>8</td>\n",
       "      <td>162</td>\n",
       "    </tr>\n",
       "    <tr>\n",
       "      <td>8</td>\n",
       "      <td>surf</td>\n",
       "      <td>9</td>\n",
       "      <td>194</td>\n",
       "    </tr>\n",
       "    <tr>\n",
       "      <td>9</td>\n",
       "      <td>surf</td>\n",
       "      <td>10</td>\n",
       "      <td>237</td>\n",
       "    </tr>\n",
       "    <tr>\n",
       "      <td>10</td>\n",
       "      <td>surf</td>\n",
       "      <td>11</td>\n",
       "      <td>283</td>\n",
       "    </tr>\n",
       "    <tr>\n",
       "      <td>11</td>\n",
       "      <td>surf</td>\n",
       "      <td>12</td>\n",
       "      <td>318</td>\n",
       "    </tr>\n",
       "    <tr>\n",
       "      <td>12</td>\n",
       "      <td>ultimate</td>\n",
       "      <td>1</td>\n",
       "      <td>4</td>\n",
       "    </tr>\n",
       "    <tr>\n",
       "      <td>13</td>\n",
       "      <td>ultimate</td>\n",
       "      <td>2</td>\n",
       "      <td>7</td>\n",
       "    </tr>\n",
       "    <tr>\n",
       "      <td>14</td>\n",
       "      <td>ultimate</td>\n",
       "      <td>3</td>\n",
       "      <td>12</td>\n",
       "    </tr>\n",
       "    <tr>\n",
       "      <td>15</td>\n",
       "      <td>ultimate</td>\n",
       "      <td>4</td>\n",
       "      <td>21</td>\n",
       "    </tr>\n",
       "    <tr>\n",
       "      <td>16</td>\n",
       "      <td>ultimate</td>\n",
       "      <td>5</td>\n",
       "      <td>29</td>\n",
       "    </tr>\n",
       "    <tr>\n",
       "      <td>17</td>\n",
       "      <td>ultimate</td>\n",
       "      <td>6</td>\n",
       "      <td>47</td>\n",
       "    </tr>\n",
       "    <tr>\n",
       "      <td>18</td>\n",
       "      <td>ultimate</td>\n",
       "      <td>7</td>\n",
       "      <td>59</td>\n",
       "    </tr>\n",
       "    <tr>\n",
       "      <td>19</td>\n",
       "      <td>ultimate</td>\n",
       "      <td>8</td>\n",
       "      <td>71</td>\n",
       "    </tr>\n",
       "    <tr>\n",
       "      <td>20</td>\n",
       "      <td>ultimate</td>\n",
       "      <td>9</td>\n",
       "      <td>86</td>\n",
       "    </tr>\n",
       "    <tr>\n",
       "      <td>21</td>\n",
       "      <td>ultimate</td>\n",
       "      <td>10</td>\n",
       "      <td>106</td>\n",
       "    </tr>\n",
       "    <tr>\n",
       "      <td>22</td>\n",
       "      <td>ultimate</td>\n",
       "      <td>11</td>\n",
       "      <td>127</td>\n",
       "    </tr>\n",
       "    <tr>\n",
       "      <td>23</td>\n",
       "      <td>ultimate</td>\n",
       "      <td>12</td>\n",
       "      <td>151</td>\n",
       "    </tr>\n",
       "  </tbody>\n",
       "</table>\n",
       "</div>"
      ],
      "text/plain": [
       "        plan  month  user_id\n",
       "0       surf      1        2\n",
       "1       surf      2        9\n",
       "2       surf      3       23\n",
       "3       surf      4       50\n",
       "4       surf      5       77\n",
       "5       surf      6       97\n",
       "6       surf      7      121\n",
       "7       surf      8      162\n",
       "8       surf      9      194\n",
       "9       surf     10      237\n",
       "10      surf     11      283\n",
       "11      surf     12      318\n",
       "12  ultimate      1        4\n",
       "13  ultimate      2        7\n",
       "14  ultimate      3       12\n",
       "15  ultimate      4       21\n",
       "16  ultimate      5       29\n",
       "17  ultimate      6       47\n",
       "18  ultimate      7       59\n",
       "19  ultimate      8       71\n",
       "20  ultimate      9       86\n",
       "21  ultimate     10      106\n",
       "22  ultimate     11      127\n",
       "23  ultimate     12      151"
      ]
     },
     "execution_count": 92,
     "metadata": {},
     "output_type": "execute_result"
    }
   ],
   "source": [
    "monthly_users"
   ]
  },
  {
   "cell_type": "markdown",
   "id": "24057f9d",
   "metadata": {},
   "source": [
    "**OK, so for both plans we can see the number of clients going up throughout the year, more noticable for the surf plan.**\n",
    "<br>let's have a look with the help of some graphs"
   ]
  },
  {
   "cell_type": "code",
   "execution_count": 93,
   "id": "6632ea38",
   "metadata": {},
   "outputs": [
    {
     "data": {
      "image/png": "[encoded data removed]",
      "text/plain": [
       "<Figure size 432x288 with 1 Axes>"
      ]
     },
     "metadata": {
      "needs_background": "light"
     },
     "output_type": "display_data"
    },
    {
     "data": {
      "image/png": "[encoded data removed]",
      "text/plain": [
       "<Figure size 432x288 with 1 Axes>"
      ]
     },
     "metadata": {
      "needs_background": "light"
     },
     "output_type": "display_data"
    }
   ],
   "source": [
    "monthly_users.query('plan==\"surf\"').plot(x='month', y='user_id', color='green', ylim=(0,300));\n",
    "plt.title('Monthly User Count For Surf Plan', fontsize=14);\n",
    "monthly_users.query('plan==\"ultimate\"').plot(x='month', y='user_id', color='orange', ylim=(0,300));\n",
    "plt.title('Monthly User Count For Ultimate Plan', fontsize=14);"
   ]
  },
  {
   "cell_type": "markdown",
   "id": "16b05544",
   "metadata": {},
   "source": [
    "##### We can see a definite rise for both plans, as we saw before the rise for surf plan is more steep"
   ]
  },
  {
   "cell_type": "markdown",
   "id": "6d8d0086",
   "metadata": {},
   "source": [
    "So, we can see that more and more people are joining both of the plans, when surf plan is a big winner in that criteria.\n",
    "<br>when looking at the means per month for all parameter we can see that they rise throughout the year, so it doesn't matter that there are more people in the plan, all of the customers also consume more and more usage units (calls, sms and GB).\n",
    "<br>we can see that the means go up for both plans, but for ultimate the revenue is pretty fixed on the monthly charge."
   ]
  },
  {
   "cell_type": "markdown",
   "id": "3f6c0579",
   "metadata": {},
   "source": [
    "### Let's find the central tendency - the mean, dispersion and standard deviation:<a class=\"anchor\" id=\"section_2_1\">"
   ]
  },
  {
   "cell_type": "markdown",
   "id": "f62ef7f0",
   "metadata": {},
   "source": [
    "#### [Go back to the Table of Contents](#table_of_contents)  "
   ]
  },
  {
   "cell_type": "markdown",
   "id": "7c86addf",
   "metadata": {},
   "source": [
    "#### Surf Plan:"
   ]
  },
  {
   "cell_type": "code",
   "execution_count": 94,
   "id": "38f296a8",
   "metadata": {},
   "outputs": [
    {
     "data": {
      "text/html": [
       "<div>\n",
       "<style scoped>\n",
       "    .dataframe tbody tr th:only-of-type {\n",
       "        vertical-align: middle;\n",
       "    }\n",
       "\n",
       "    .dataframe tbody tr th {\n",
       "        vertical-align: top;\n",
       "    }\n",
       "\n",
       "    .dataframe thead th {\n",
       "        text-align: right;\n",
       "    }\n",
       "</style>\n",
       "<table border=\"1\" class=\"dataframe\">\n",
       "  <thead>\n",
       "    <tr style=\"text-align: right;\">\n",
       "      <th></th>\n",
       "      <th>duration</th>\n",
       "      <th>sms_sent</th>\n",
       "      <th>GB_used</th>\n",
       "      <th>revenue</th>\n",
       "    </tr>\n",
       "  </thead>\n",
       "  <tbody>\n",
       "    <tr>\n",
       "      <td>count</td>\n",
       "      <td>1573.000000</td>\n",
       "      <td>1573.000000</td>\n",
       "      <td>1573.000000</td>\n",
       "      <td>1573.000000</td>\n",
       "    </tr>\n",
       "    <tr>\n",
       "      <td>mean</td>\n",
       "      <td>428.749523</td>\n",
       "      <td>31.159568</td>\n",
       "      <td>16.670693</td>\n",
       "      <td>60.706408</td>\n",
       "    </tr>\n",
       "    <tr>\n",
       "      <td>std</td>\n",
       "      <td>234.453150</td>\n",
       "      <td>33.566717</td>\n",
       "      <td>7.847522</td>\n",
       "      <td>55.388042</td>\n",
       "    </tr>\n",
       "    <tr>\n",
       "      <td>min</td>\n",
       "      <td>0.000000</td>\n",
       "      <td>0.000000</td>\n",
       "      <td>0.000000</td>\n",
       "      <td>20.000000</td>\n",
       "    </tr>\n",
       "    <tr>\n",
       "      <td>25%</td>\n",
       "      <td>272.000000</td>\n",
       "      <td>3.000000</td>\n",
       "      <td>12.000000</td>\n",
       "      <td>20.000000</td>\n",
       "    </tr>\n",
       "    <tr>\n",
       "      <td>50%</td>\n",
       "      <td>425.000000</td>\n",
       "      <td>24.000000</td>\n",
       "      <td>17.000000</td>\n",
       "      <td>40.360000</td>\n",
       "    </tr>\n",
       "    <tr>\n",
       "      <td>75%</td>\n",
       "      <td>576.000000</td>\n",
       "      <td>47.000000</td>\n",
       "      <td>21.000000</td>\n",
       "      <td>80.360000</td>\n",
       "    </tr>\n",
       "    <tr>\n",
       "      <td>max</td>\n",
       "      <td>1510.000000</td>\n",
       "      <td>266.000000</td>\n",
       "      <td>70.000000</td>\n",
       "      <td>590.370000</td>\n",
       "    </tr>\n",
       "  </tbody>\n",
       "</table>\n",
       "</div>"
      ],
      "text/plain": [
       "          duration     sms_sent      GB_used      revenue\n",
       "count  1573.000000  1573.000000  1573.000000  1573.000000\n",
       "mean    428.749523    31.159568    16.670693    60.706408\n",
       "std     234.453150    33.566717     7.847522    55.388042\n",
       "min       0.000000     0.000000     0.000000    20.000000\n",
       "25%     272.000000     3.000000    12.000000    20.000000\n",
       "50%     425.000000    24.000000    17.000000    40.360000\n",
       "75%     576.000000    47.000000    21.000000    80.360000\n",
       "max    1510.000000   266.000000    70.000000   590.370000"
      ]
     },
     "execution_count": 94,
     "metadata": {},
     "output_type": "execute_result"
    }
   ],
   "source": [
    "final_data.query('plan==\"surf\"')[['duration','sms_sent','GB_used','revenue']].describe()"
   ]
  },
  {
   "cell_type": "code",
   "execution_count": 95,
   "id": "88b56973",
   "metadata": {},
   "outputs": [
    {
     "data": {
      "text/plain": [
       "'Surf Plan Variance'"
      ]
     },
     "metadata": {},
     "output_type": "display_data"
    },
    {
     "data": {
      "text/plain": [
       "duration    54968.279461\n",
       "sms_sent     1126.724522\n",
       "GB_used        61.583600\n",
       "revenue      3067.835152\n",
       "dtype: float64"
      ]
     },
     "metadata": {},
     "output_type": "display_data"
    }
   ],
   "source": [
    "display('Surf Plan Variance', final_data.query('plan==\"surf\"')[['duration','sms_sent','GB_used','revenue']].var())"
   ]
  },
  {
   "cell_type": "markdown",
   "id": "facb7ab1",
   "metadata": {},
   "source": [
    "### Ultimate Plan:"
   ]
  },
  {
   "cell_type": "code",
   "execution_count": 96,
   "id": "87a7ffe4",
   "metadata": {},
   "outputs": [
    {
     "data": {
      "text/html": [
       "<div>\n",
       "<style scoped>\n",
       "    .dataframe tbody tr th:only-of-type {\n",
       "        vertical-align: middle;\n",
       "    }\n",
       "\n",
       "    .dataframe tbody tr th {\n",
       "        vertical-align: top;\n",
       "    }\n",
       "\n",
       "    .dataframe thead th {\n",
       "        text-align: right;\n",
       "    }\n",
       "</style>\n",
       "<table border=\"1\" class=\"dataframe\">\n",
       "  <thead>\n",
       "    <tr style=\"text-align: right;\">\n",
       "      <th></th>\n",
       "      <th>duration</th>\n",
       "      <th>sms_sent</th>\n",
       "      <th>GB_used</th>\n",
       "      <th>revenue</th>\n",
       "    </tr>\n",
       "  </thead>\n",
       "  <tbody>\n",
       "    <tr>\n",
       "      <td>count</td>\n",
       "      <td>720.000000</td>\n",
       "      <td>720.000000</td>\n",
       "      <td>720.000000</td>\n",
       "      <td>720.000000</td>\n",
       "    </tr>\n",
       "    <tr>\n",
       "      <td>mean</td>\n",
       "      <td>430.450000</td>\n",
       "      <td>37.551389</td>\n",
       "      <td>17.306944</td>\n",
       "      <td>72.313889</td>\n",
       "    </tr>\n",
       "    <tr>\n",
       "      <td>std</td>\n",
       "      <td>240.508762</td>\n",
       "      <td>34.767179</td>\n",
       "      <td>7.670108</td>\n",
       "      <td>11.395108</td>\n",
       "    </tr>\n",
       "    <tr>\n",
       "      <td>min</td>\n",
       "      <td>0.000000</td>\n",
       "      <td>0.000000</td>\n",
       "      <td>0.000000</td>\n",
       "      <td>70.000000</td>\n",
       "    </tr>\n",
       "    <tr>\n",
       "      <td>25%</td>\n",
       "      <td>260.000000</td>\n",
       "      <td>7.000000</td>\n",
       "      <td>13.000000</td>\n",
       "      <td>70.000000</td>\n",
       "    </tr>\n",
       "    <tr>\n",
       "      <td>50%</td>\n",
       "      <td>424.000000</td>\n",
       "      <td>30.000000</td>\n",
       "      <td>17.000000</td>\n",
       "      <td>70.000000</td>\n",
       "    </tr>\n",
       "    <tr>\n",
       "      <td>75%</td>\n",
       "      <td>565.250000</td>\n",
       "      <td>61.000000</td>\n",
       "      <td>21.000000</td>\n",
       "      <td>70.000000</td>\n",
       "    </tr>\n",
       "    <tr>\n",
       "      <td>max</td>\n",
       "      <td>1369.000000</td>\n",
       "      <td>166.000000</td>\n",
       "      <td>46.000000</td>\n",
       "      <td>182.000000</td>\n",
       "    </tr>\n",
       "  </tbody>\n",
       "</table>\n",
       "</div>"
      ],
      "text/plain": [
       "          duration    sms_sent     GB_used     revenue\n",
       "count   720.000000  720.000000  720.000000  720.000000\n",
       "mean    430.450000   37.551389   17.306944   72.313889\n",
       "std     240.508762   34.767179    7.670108   11.395108\n",
       "min       0.000000    0.000000    0.000000   70.000000\n",
       "25%     260.000000    7.000000   13.000000   70.000000\n",
       "50%     424.000000   30.000000   17.000000   70.000000\n",
       "75%     565.250000   61.000000   21.000000   70.000000\n",
       "max    1369.000000  166.000000   46.000000  182.000000"
      ]
     },
     "execution_count": 96,
     "metadata": {},
     "output_type": "execute_result"
    }
   ],
   "source": [
    "final_data.query('plan==\"ultimate\"')[['duration','sms_sent','GB_used','revenue']].describe()"
   ]
  },
  {
   "cell_type": "code",
   "execution_count": 97,
   "id": "a7b388e1",
   "metadata": {},
   "outputs": [
    {
     "data": {
      "text/plain": [
       "'Ultimate Plan Variance'"
      ]
     },
     "metadata": {},
     "output_type": "display_data"
    },
    {
     "data": {
      "text/plain": [
       "duration    57844.464812\n",
       "sms_sent     1208.756744\n",
       "GB_used        58.830550\n",
       "revenue       129.848486\n",
       "dtype: float64"
      ]
     },
     "metadata": {},
     "output_type": "display_data"
    }
   ],
   "source": [
    "display('Ultimate Plan Variance', final_data.query('plan==\"ultimate\"')[['duration','sms_sent','GB_used','revenue']].var())"
   ]
  },
  {
   "cell_type": "markdown",
   "id": "6044cd8d",
   "metadata": {},
   "source": [
    "#### We can see the means for the usage is pretty similar for both plans.\n",
    "#### The mean revenue for ultimate is 10 dollars, or 16% higher than the one of surf plan.\n",
    "#### The variance don't seem very logical for me, but we will find out what that is all about. (I think it's because we have significant outliers)\n",
    "#### We see the variance for all parameters but revenue is very similar and for revenue the variance of the surf plan is much higher, that makes sense, since the revenue vary greatly due to customer exceeding their limits."
   ]
  },
  {
   "cell_type": "code",
   "execution_count": 98,
   "id": "d534caee",
   "metadata": {},
   "outputs": [],
   "source": [
    "#Slice the data by plan\n",
    "final_surf = final_data.query('plan == \"surf\"')\n",
    "final_ultimate = final_data.query('plan == \"ultimate\"')"
   ]
  },
  {
   "cell_type": "markdown",
   "id": "ff439b8c",
   "metadata": {},
   "source": [
    "#### Ploting graphs to describe distribution:"
   ]
  },
  {
   "cell_type": "code",
   "execution_count": 99,
   "id": "079947f4",
   "metadata": {},
   "outputs": [],
   "source": [
    "#building a pivot table with plan and month index and the sum of usage as values:\n",
    "total_per_month = final_data.pivot_table(\n",
    "    index=['plan','month'], \n",
    "    values=['duration', 'sms_sent', 'GB_used', 'revenue'], \n",
    "    aggfunc='sum').reset_index()"
   ]
  },
  {
   "cell_type": "code",
   "execution_count": 100,
   "id": "a20370f8",
   "metadata": {},
   "outputs": [
    {
     "data": {
      "image/png": "[encoded data removed]",
      "text/plain": [
       "<Figure size 720x288 with 1 Axes>"
      ]
     },
     "metadata": {
      "needs_background": "light"
     },
     "output_type": "display_data"
    },
    {
     "data": {
      "image/png": "[encoded data removed]",
      "text/plain": [
       "<Figure size 720x288 with 1 Axes>"
      ]
     },
     "metadata": {
      "needs_background": "light"
     },
     "output_type": "display_data"
    },
    {
     "data": {
      "image/png": "[encoded data removed]",
      "text/plain": [
       "<Figure size 720x288 with 1 Axes>"
      ]
     },
     "metadata": {
      "needs_background": "light"
     },
     "output_type": "display_data"
    },
    {
     "data": {
      "image/png": "[encoded data removed]",
      "text/plain": [
       "<Figure size 720x288 with 1 Axes>"
      ]
     },
     "metadata": {
      "needs_background": "light"
     },
     "output_type": "display_data"
    }
   ],
   "source": [
    "columns = [\"duration\",\"sms_sent\",\"GB_used\",\"revenue\"]\n",
    "for column in columns:\n",
    "    fig, ax = plt.subplots(figsize=(10,4))\n",
    "    x = sns.barplot(x = total_per_month.month, y = total_per_month[column], hue = total_per_month.plan)\n",
    "    plt.title('total '+column.replace('_',' ')+' per month', fontsize=14)\n",
    "    plt.show()   "
   ]
  },
  {
   "cell_type": "markdown",
   "id": "32dbe49a",
   "metadata": {},
   "source": [
    "##### We can see that both plan's parameter's distribution are similar, the surf plan has steepier rise throughout the year, but it is important to remember that we are using the sum of usage, so the number of customer affect the shape and differences greatly. let's see how the distribution looks for the mean of each month."
   ]
  },
  {
   "cell_type": "code",
   "execution_count": 101,
   "id": "5565abc4",
   "metadata": {},
   "outputs": [
    {
     "data": {
      "image/png": "[encoded data removed]",
      "text/plain": [
       "<Figure size 720x288 with 1 Axes>"
      ]
     },
     "metadata": {
      "needs_background": "light"
     },
     "output_type": "display_data"
    },
    {
     "data": {
      "image/png": "[encoded data removed]",
      "text/plain": [
       "<Figure size 720x288 with 1 Axes>"
      ]
     },
     "metadata": {
      "needs_background": "light"
     },
     "output_type": "display_data"
    },
    {
     "data": {
      "image/png": "[encoded data removed]",
      "text/plain": [
       "<Figure size 720x288 with 1 Axes>"
      ]
     },
     "metadata": {
      "needs_background": "light"
     },
     "output_type": "display_data"
    },
    {
     "data": {
      "image/png": "[encoded data removed]",
      "text/plain": [
       "<Figure size 720x288 with 1 Axes>"
      ]
     },
     "metadata": {
      "needs_background": "light"
     },
     "output_type": "display_data"
    }
   ],
   "source": [
    "columns = [\"duration\",\"sms_sent\",\"GB_used\",\"revenue\"]\n",
    "for column in columns:\n",
    "    fig, ax = plt.subplots(figsize=(10,4))\n",
    "    x = sns.barplot(x = mean_per_month.month, y = mean_per_month[column], hue = mean_per_month.plan)\n",
    "    plt.title('mean '+column.replace('_',' ')+' per month', fontsize=14)\n",
    "    plt.show()   "
   ]
  },
  {
   "cell_type": "markdown",
   "id": "033ee442",
   "metadata": {},
   "source": [
    "##### It is much more clear now, that the surf plans usage vary more than the one of ultimate, as do the revenue.\n",
    "##### The ultimate plan revenue stays the same throughout the year, wheras the  surf plan revenue grows each month, but alwys stays lower than the ultimate revenue.\n",
    "##### To sum, i would say that the ultimate plan produce higher revenue than the surf plan. at this point i can suggest maybe increasing the extra usage fares for surf plan because we see that the surf users usually exceed the plans limits but still pay less than ultimate. "
   ]
  },
  {
   "cell_type": "markdown",
   "id": "baab3161",
   "metadata": {},
   "source": [
    "### Let's plot some histogram to continue compare the plans:"
   ]
  },
  {
   "cell_type": "code",
   "execution_count": 2,
   "id": "abd864b1",
   "metadata": {},
   "outputs": [
    {
     "ename": "NameError",
     "evalue": "name 'plt' is not defined",
     "output_type": "error",
     "traceback": [
      "\u001b[1;31m---------------------------------------------------------------------------\u001b[0m",
      "\u001b[1;31mNameError\u001b[0m                                 Traceback (most recent call last)",
      "\u001b[1;32m<ipython-input-2-18cacf5c33b9>\u001b[0m in \u001b[0;36m<module>\u001b[1;34m\u001b[0m\n\u001b[0;32m      3\u001b[0m \u001b[1;32mfor\u001b[0m \u001b[0mx\u001b[0m \u001b[1;32min\u001b[0m \u001b[0mcolumns\u001b[0m\u001b[1;33m:\u001b[0m\u001b[1;33m\u001b[0m\u001b[1;33m\u001b[0m\u001b[0m\n\u001b[0;32m      4\u001b[0m     \u001b[1;31m# Histogram for surf plan\u001b[0m\u001b[1;33m\u001b[0m\u001b[1;33m\u001b[0m\u001b[1;33m\u001b[0m\u001b[0m\n\u001b[1;32m----> 5\u001b[1;33m     \u001b[0mplt\u001b[0m\u001b[1;33m.\u001b[0m\u001b[0mhist\u001b[0m\u001b[1;33m(\u001b[0m\u001b[0mfinal_surf\u001b[0m\u001b[1;33m[\u001b[0m\u001b[0mx\u001b[0m\u001b[1;33m]\u001b[0m\u001b[1;33m,\u001b[0m \u001b[0mcolor\u001b[0m \u001b[1;33m=\u001b[0m \u001b[1;34m'purple'\u001b[0m\u001b[1;33m,\u001b[0m \u001b[0medgecolor\u001b[0m \u001b[1;33m=\u001b[0m \u001b[1;34m'black'\u001b[0m\u001b[1;33m,\u001b[0m \u001b[0mbins\u001b[0m \u001b[1;33m=\u001b[0m\u001b[1;36m12\u001b[0m\u001b[1;33m,\u001b[0m \u001b[0malpha\u001b[0m\u001b[1;33m=\u001b[0m\u001b[1;36m0.8\u001b[0m\u001b[1;33m)\u001b[0m\u001b[1;33m\u001b[0m\u001b[1;33m\u001b[0m\u001b[0m\n\u001b[0m\u001b[0;32m      6\u001b[0m     \u001b[1;31m# Histogram for ultimate plan\u001b[0m\u001b[1;33m\u001b[0m\u001b[1;33m\u001b[0m\u001b[1;33m\u001b[0m\u001b[0m\n\u001b[0;32m      7\u001b[0m     \u001b[0mplt\u001b[0m\u001b[1;33m.\u001b[0m\u001b[0mhist\u001b[0m\u001b[1;33m(\u001b[0m\u001b[0mfinal_ultimate\u001b[0m\u001b[1;33m[\u001b[0m\u001b[0mx\u001b[0m\u001b[1;33m]\u001b[0m\u001b[1;33m,\u001b[0m \u001b[0mcolor\u001b[0m \u001b[1;33m=\u001b[0m \u001b[1;34m'orange'\u001b[0m\u001b[1;33m,\u001b[0m \u001b[0medgecolor\u001b[0m \u001b[1;33m=\u001b[0m \u001b[1;34m'black'\u001b[0m\u001b[1;33m,\u001b[0m \u001b[0mbins\u001b[0m \u001b[1;33m=\u001b[0m \u001b[1;36m12\u001b[0m\u001b[1;33m,\u001b[0m \u001b[0malpha\u001b[0m\u001b[1;33m=\u001b[0m\u001b[1;36m0.6\u001b[0m\u001b[1;33m)\u001b[0m\u001b[1;33m\u001b[0m\u001b[1;33m\u001b[0m\u001b[0m\n",
      "\u001b[1;31mNameError\u001b[0m: name 'plt' is not defined"
     ]
    }
   ],
   "source": [
    "columns=[\"duration\",\"sms_sent\",\"GB_used\", 'revenue']\n",
    "\n",
    "for x in columns:\n",
    "    # Histogram for surf plan\n",
    "    plt.hist(final_surf[x], color = 'purple', edgecolor = 'black', bins =12, alpha=0.8)        \n",
    "    # Histogram for ultimate plan\n",
    "    plt.hist(final_ultimate[x], color = 'orange', edgecolor = 'black', bins = 12, alpha=0.6)         \n",
    "    # Add labels\n",
    "    plt.title('Distribution of ' +x.replace('_', ' '),fontsize=14)\n",
    "    plt.ylabel('Counts') \n",
    "    # Plot the histograms \n",
    "    plt.show()"
   ]
  },
  {
   "cell_type": "markdown",
   "id": "11817d3c",
   "metadata": {},
   "source": [
    "**We see that the parameters of usage acts similar for both plans.<br> Surf users actually use more units (higher calls duration, more sms, more GB used) than the unltimate plan. <br>The revenue vary for the surf and not vary at all for ultimate, as all of ultimate users pays 70 dollar give or take a couple of bucks.<br> as we stated before, the conclusion the company might want to get to is revise their surf fares to increase revenue from surf users, as they are also the bigger portion (if the data we got is a random sample of users).**"
   ]
  },
  {
   "cell_type": "markdown",
   "id": "3cef1232",
   "metadata": {},
   "source": [
    "#### [Go back to the Table of Contents](#table_of_contents)  "
   ]
  },
  {
   "cell_type": "markdown",
   "id": "b288b95a",
   "metadata": {},
   "source": [
    "### Test The Hypotheses: <a class=\"anchor\" id=\"section_2_2\">"
   ]
  },
  {
   "cell_type": "markdown",
   "id": "0ea51b56",
   "metadata": {},
   "source": [
    "#### Hypothesis no.1:\n",
    "##### H0: The average revenue from users of Ultimate and Surf calling plans not differs.\n",
    "##### H1: The average revenue from users of Ultimate and Surf calling plans differs."
   ]
  },
  {
   "cell_type": "code",
   "execution_count": 103,
   "id": "abd8cb49",
   "metadata": {},
   "outputs": [
    {
     "data": {
      "image/png": "[encoded data removed]",
      "text/plain": [
       "<Figure size 432x288 with 1 Axes>"
      ]
     },
     "metadata": {
      "needs_background": "light"
     },
     "output_type": "display_data"
    },
    {
     "data": {
      "image/png": "[encoded data removed]",
      "text/plain": [
       "<Figure size 432x288 with 1 Axes>"
      ]
     },
     "metadata": {
      "needs_background": "light"
     },
     "output_type": "display_data"
    }
   ],
   "source": [
    "plt.hist(final_surf['revenue'],bins=10, color='purple', histtype='bar', edgecolor='black');\n",
    "plt.title('Revenue Distribution of Surf Plan:', fontsize=16)\n",
    "plt.ylabel('Counts')\n",
    "plt.xlabel('Revenue')\n",
    "plt.show()\n",
    "\n",
    "plt.hist(final_ultimate['revenue'],bins=10, color='orange', histtype='bar', edgecolor='black');\n",
    "plt.title('Revenue Distribution of Ultimate Plan:', fontsize=16)\n",
    "plt.ylabel('Counts')\n",
    "plt.xlabel('Revenue')\n",
    "plt.show()"
   ]
  },
  {
   "cell_type": "markdown",
   "id": "905e9163",
   "metadata": {},
   "source": [
    "**The distribution we have is not normal, we have un-paired smaples. for that reason we will use the Mann-Whitney U test**\n",
    "\n",
    "Mann-Whitney U test is the non-parametric alternative test to the independent sample t-test.  It is a non-parametric test that is used to compare two sample means that come from the same population, and used to test whether two sample means are equal or not.  Usually, the Mann-Whitney U test is used when the data is ordinal or when the assumptions of the t-test are not met."
   ]
  },
  {
   "cell_type": "code",
   "execution_count": 104,
   "id": "0ef6d194",
   "metadata": {},
   "outputs": [
    {
     "name": "stdout",
     "output_type": "stream",
     "text": [
      "Statistics=355086.000, p=0.000\n",
      "Different distribution ( We reject the null hypothesis )\n"
     ]
    }
   ],
   "source": [
    "# Define the two samples:\n",
    "ultimate = final_ultimate['revenue']\n",
    "surf = final_surf['revenue']\n",
    "\n",
    "# compare samples\n",
    "stat, p = mannwhitneyu(surf, ultimate)\n",
    "print('Statistics=%.3f, p=%.3f' % (stat, p))\n",
    "\n",
    "# interpret\n",
    "alpha = 0.05\n",
    "if p > alpha:\n",
    "    print('Same distribution ( We cant reject the null hypothesis )')\n",
    "else:\n",
    "    print('Different distribution ( We reject the null hypothesis )')\n",
    "alpha = 0.05"
   ]
  },
  {
   "cell_type": "markdown",
   "id": "3e0b5e86",
   "metadata": {},
   "source": [
    "**Well, there we go, just as suspected, the distribution differs between the two plans**\n",
    "* We respectively reject the null hypothesis, therefore we accept the alternative"
   ]
  },
  {
   "cell_type": "markdown",
   "id": "13c7dc35",
   "metadata": {},
   "source": [
    "#### Hypothsis no.2:"
   ]
  },
  {
   "cell_type": "markdown",
   "id": "43374834",
   "metadata": {},
   "source": [
    "##### H0 : The average revenue from users in NY-NJ area is **not** different from that of the users from other regions.\n",
    "##### H1: The average revenue from users in NY-NJ area is different from that of the users from other regions."
   ]
  },
  {
   "cell_type": "markdown",
   "id": "b573ae0e",
   "metadata": {},
   "source": [
    "first we will locate the users from NY-NJ area."
   ]
  },
  {
   "cell_type": "code",
   "execution_count": 105,
   "id": "a3c21254",
   "metadata": {},
   "outputs": [
    {
     "data": {
      "text/plain": [
       "New York-Newark-Jersey City, NY-NJ-PA MSA          377\n",
       "Los Angeles-Long Beach-Anaheim, CA MSA             132\n",
       "Chicago-Naperville-Elgin, IL-IN-WI MSA              94\n",
       "Dallas-Fort Worth-Arlington, TX MSA                 88\n",
       "Philadelphia-Camden-Wilmington, PA-NJ-DE-MD MSA     82\n",
       "                                                  ... \n",
       "Omaha-Council Bluffs, NE-IA MSA                      3\n",
       "Jacksonville, FL MSA                                 2\n",
       "Raleigh-Cary, NC MSA                                 2\n",
       "El Paso, TX MSA                                      2\n",
       "Cape Coral-Fort Myers, FL MSA                        1\n",
       "Name: city, Length: 73, dtype: int64"
      ]
     },
     "metadata": {},
     "output_type": "display_data"
    }
   ],
   "source": [
    "display(final_data['city'].value_counts())"
   ]
  },
  {
   "cell_type": "code",
   "execution_count": 106,
   "id": "fb031b21",
   "metadata": {},
   "outputs": [],
   "source": [
    "#slicing the data to the two samples we have\n",
    "NY_NJ = ['New York', 'Jersey City']\n",
    "NY_NJ_users = final_data.loc[final_data['city'].str.contains(\"New York|Jersey|Philadelphia\", case=False)].reset_index()\n",
    "rest_users = final_data.loc[~final_data['city'].str.contains(\"New York|Jersey|Philadelphia\")].reset_index()"
   ]
  },
  {
   "cell_type": "code",
   "execution_count": 107,
   "id": "1a1d9dfe",
   "metadata": {},
   "outputs": [
    {
     "data": {
      "text/plain": [
       "New York-Newark-Jersey City, NY-NJ-PA MSA          377\n",
       "Philadelphia-Camden-Wilmington, PA-NJ-DE-MD MSA     82\n",
       "Name: city, dtype: int64"
      ]
     },
     "execution_count": 107,
     "metadata": {},
     "output_type": "execute_result"
    }
   ],
   "source": [
    "NY_NJ_users['city'].value_counts()"
   ]
  },
  {
   "cell_type": "code",
   "execution_count": 108,
   "id": "f687aba0",
   "metadata": {},
   "outputs": [
    {
     "data": {
      "text/plain": [
       "Los Angeles-Long Beach-Anaheim, CA MSA              132\n",
       "Chicago-Naperville-Elgin, IL-IN-WI MSA               94\n",
       "Dallas-Fort Worth-Arlington, TX MSA                  88\n",
       "Boston-Cambridge-Newton, MA-NH MSA                   70\n",
       "Washington-Arlington-Alexandria, DC-VA-MD-WV MSA     62\n",
       "                                                   ... \n",
       "Omaha-Council Bluffs, NE-IA MSA                       3\n",
       "Jacksonville, FL MSA                                  2\n",
       "Raleigh-Cary, NC MSA                                  2\n",
       "El Paso, TX MSA                                       2\n",
       "Cape Coral-Fort Myers, FL MSA                         1\n",
       "Name: city, Length: 71, dtype: int64"
      ]
     },
     "execution_count": 108,
     "metadata": {},
     "output_type": "execute_result"
    }
   ],
   "source": [
    "rest_users['city'].value_counts()"
   ]
  },
  {
   "cell_type": "code",
   "execution_count": 109,
   "id": "4bce8820",
   "metadata": {},
   "outputs": [
    {
     "data": {
      "text/plain": [
       "count    459.000000\n",
       "mean      60.580196\n",
       "std       45.111623\n",
       "min       20.000000\n",
       "25%       20.000000\n",
       "50%       52.550000\n",
       "75%       70.570000\n",
       "max      280.000000\n",
       "Name: revenue, dtype: float64"
      ]
     },
     "execution_count": 109,
     "metadata": {},
     "output_type": "execute_result"
    }
   ],
   "source": [
    "NY_NJ_users['revenue'].describe()"
   ]
  },
  {
   "cell_type": "code",
   "execution_count": 110,
   "id": "21bfa4fe",
   "metadata": {},
   "outputs": [
    {
     "data": {
      "text/plain": [
       "count    1834.000000\n",
       "mean       65.294913\n",
       "std        46.960700\n",
       "min        20.000000\n",
       "25%        26.442500\n",
       "50%        70.000000\n",
       "75%        70.000000\n",
       "max       590.370000\n",
       "Name: revenue, dtype: float64"
      ]
     },
     "execution_count": 110,
     "metadata": {},
     "output_type": "execute_result"
    }
   ],
   "source": [
    "rest_users['revenue'].describe()"
   ]
  },
  {
   "cell_type": "markdown",
   "id": "a88b7cf3",
   "metadata": {},
   "source": [
    "**We have our smaples, let plot some graphs to help us decide which test to use**"
   ]
  },
  {
   "cell_type": "code",
   "execution_count": 111,
   "id": "2fe7844b",
   "metadata": {},
   "outputs": [
    {
     "data": {
      "image/png": "[encoded data removed]",
      "text/plain": [
       "<Figure size 432x288 with 1 Axes>"
      ]
     },
     "metadata": {
      "needs_background": "light"
     },
     "output_type": "display_data"
    },
    {
     "data": {
      "image/png": "[encoded data removed]",
      "text/plain": [
       "<Figure size 432x288 with 1 Axes>"
      ]
     },
     "metadata": {
      "needs_background": "light"
     },
     "output_type": "display_data"
    }
   ],
   "source": [
    "plt.hist(NY_NJ_users['revenue'],bins=10, color='maroon', edgecolor='black');\n",
    "plt.title('Revenue Distribution of NY-NJ area:', fontsize=16)\n",
    "plt.xlim(0,600)\n",
    "plt.ylabel('Counts')\n",
    "plt.xlabel('Revenue')\n",
    "plt.show()\n",
    "\n",
    "plt.hist(rest_users['revenue'],bins=10, color='c', edgecolor='black');\n",
    "plt.title('Revenue Distribution of the rest:', fontsize=16)\n",
    "plt.ylabel('Counts')\n",
    "plt.xlabel('Revenue')\n",
    "plt.show()"
   ]
  },
  {
   "cell_type": "markdown",
   "id": "c9508649",
   "metadata": {},
   "source": [
    "**Again we have distribution that is not normal, we will use the Mann Whitney U test**"
   ]
  },
  {
   "cell_type": "code",
   "execution_count": 112,
   "id": "4a824556",
   "metadata": {},
   "outputs": [
    {
     "name": "stdout",
     "output_type": "stream",
     "text": [
      "Statistics=379583.500, p=0.000\n",
      "Different distribution ( We reject the null hypothesis )\n"
     ]
    }
   ],
   "source": [
    "# Define the two samples:\n",
    "NY_NJ = NY_NJ_users['revenue']\n",
    "rest = rest_users['revenue']\n",
    "\n",
    "# compare samples\n",
    "stat, p = mannwhitneyu(NY_NJ, rest)\n",
    "print('Statistics=%.3f, p=%.3f' % (stat, p))\n",
    "\n",
    "# interpret\n",
    "alpha = 0.05\n",
    "if p > alpha:\n",
    "    print('Same distribution ( We cant reject the null hypothesis )')\n",
    "else:\n",
    "    print('Different distribution ( We reject the null hypothesis )')\n",
    "alpha = 0.05"
   ]
  },
  {
   "cell_type": "markdown",
   "id": "04f5954b",
   "metadata": {},
   "source": [
    "**What we saw in the graph is now a fact - The distributions are not the same**\n",
    "* **We reject the null hypothesis**"
   ]
  },
  {
   "cell_type": "markdown",
   "id": "1377ad05",
   "metadata": {},
   "source": [
    "we can understand by the graphs that the majority in NY-NJ area are in the surf plan. let's have a check before moving to final conclusions."
   ]
  },
  {
   "cell_type": "code",
   "execution_count": 113,
   "id": "0ad332d8",
   "metadata": {},
   "outputs": [
    {
     "data": {
      "text/plain": [
       "'The portion of surf plan in NY-NJ area users: '"
      ]
     },
     "metadata": {},
     "output_type": "display_data"
    },
    {
     "data": {
      "text/plain": [
       "0.7886710239651417"
      ]
     },
     "metadata": {},
     "output_type": "display_data"
    },
    {
     "data": {
      "text/plain": [
       "'The portion of surf plan in the rest area users: '"
      ]
     },
     "metadata": {},
     "output_type": "display_data"
    },
    {
     "data": {
      "text/plain": [
       "0.6603053435114504"
      ]
     },
     "metadata": {},
     "output_type": "display_data"
    }
   ],
   "source": [
    "display('The portion of surf plan in NY-NJ area users: ',len(NY_NJ_users.query('plan==\"surf\"'))/len(NY_NJ_users))\n",
    "display('The portion of surf plan in the rest area users: ',len(rest_users.query('plan==\"surf\"'))/len(rest_users))"
   ]
  },
  {
   "cell_type": "markdown",
   "id": "6eacd7e8",
   "metadata": {},
   "source": [
    "We were not wrong-\n",
    "* The portion of surf plan in the NY-NJ area users is 78% \n",
    "* in the rest of the areas that portion is 64%."
   ]
  },
  {
   "cell_type": "markdown",
   "id": "3ca2e947",
   "metadata": {},
   "source": [
    "#### [Go back to the Table of Contents](#table_of_contents)  "
   ]
  },
  {
   "cell_type": "markdown",
   "id": "e85739e9",
   "metadata": {},
   "source": [
    "### Overall Conclusion: <a class=\"anchor\" id=\"chapter3\">"
   ]
  },
  {
   "cell_type": "markdown",
   "id": "20f21af0",
   "metadata": {},
   "source": [
    "* We started with 5 different data sets that contained different information about the same customers.\n",
    "* We then prepared the data, identified errors in the data, dealt with missing values and converted dtypes.\n",
    "* We moved on to constructing some new columns such as month of usage, then we combined the relevant data.\n",
    "* After calculating revenue per user and users per months we started analyzing the data and here is the final conclusion:\n",
    " * surf users use more units of usage than ultimate even though their limit is lower.\n",
    " * the ultimate plan users brings in more revenue than the surf.\n",
    " * both of the above leads to the suggestion to revise the fare for surf plan, i believe that if the users will pay a bit more for extra usage they will bring more revenue to the company.\n",
    " * We can see that when checking the NY-NJ area in relation to the rest of the areas, the revenue was lower, and our hypothsis that the majority of NY-NJ area users are in the surf was correct, only supporting the clame above.\n",
    " \n",
    "**Bottom line is, ultimate plan brings in more revenue**\n",
    "the usage is similar for both plan but surf pays a lot less than ultimate."
   ]
  }
 ],
 "metadata": {
  "ExecuteTimeLog": [
   {
    "duration": 1104,
    "start_time": "2021-07-14T11:29:09.130Z"
   },
   {
    "duration": 514,
    "start_time": "2021-07-14T11:29:10.611Z"
   },
   {
    "duration": 12,
    "start_time": "2021-07-14T11:29:12.199Z"
   },
   {
    "duration": 6,
    "start_time": "2021-07-14T11:29:12.695Z"
   },
   {
    "duration": 11,
    "start_time": "2021-07-14T11:29:14.257Z"
   },
   {
    "duration": 18,
    "start_time": "2021-07-14T11:29:14.611Z"
   },
   {
    "duration": 15,
    "start_time": "2021-07-14T11:29:15.267Z"
   },
   {
    "duration": 10,
    "start_time": "2021-07-14T11:29:16.667Z"
   },
   {
    "duration": 26,
    "start_time": "2021-07-14T11:29:16.937Z"
   },
   {
    "duration": 12,
    "start_time": "2021-07-14T11:29:17.241Z"
   },
   {
    "duration": 9,
    "start_time": "2021-07-14T11:29:18.073Z"
   },
   {
    "duration": 11,
    "start_time": "2021-07-14T11:29:18.462Z"
   },
   {
    "duration": 11,
    "start_time": "2021-07-14T11:29:18.783Z"
   },
   {
    "duration": 7,
    "start_time": "2021-07-14T11:29:22.466Z"
   },
   {
    "duration": 5,
    "start_time": "2021-07-14T11:29:22.855Z"
   },
   {
    "duration": 3,
    "start_time": "2021-07-14T11:29:34.445Z"
   },
   {
    "duration": 6,
    "start_time": "2021-07-14T11:29:35.201Z"
   },
   {
    "duration": 4,
    "start_time": "2021-07-14T11:29:36.766Z"
   },
   {
    "duration": 5,
    "start_time": "2021-07-14T11:29:37.031Z"
   },
   {
    "duration": 6,
    "start_time": "2021-07-14T11:29:37.350Z"
   },
   {
    "duration": 20,
    "start_time": "2021-07-14T11:29:37.671Z"
   },
   {
    "duration": 11,
    "start_time": "2021-07-14T11:29:38.084Z"
   },
   {
    "duration": 16,
    "start_time": "2021-07-14T11:29:38.345Z"
   },
   {
    "duration": 11,
    "start_time": "2021-07-14T11:29:38.656Z"
   },
   {
    "duration": 13,
    "start_time": "2021-07-14T11:29:38.936Z"
   },
   {
    "duration": 9,
    "start_time": "2021-07-14T11:29:39.236Z"
   },
   {
    "duration": 4,
    "start_time": "2021-07-14T11:29:42.345Z"
   },
   {
    "duration": 10,
    "start_time": "2021-07-14T11:29:42.769Z"
   },
   {
    "duration": 7,
    "start_time": "2021-07-14T11:29:43.143Z"
   },
   {
    "duration": 10,
    "start_time": "2021-07-14T11:29:43.724Z"
   },
   {
    "duration": 6,
    "start_time": "2021-07-14T11:29:44.056Z"
   },
   {
    "duration": 15,
    "start_time": "2021-07-14T11:29:48.121Z"
   },
   {
    "duration": 10,
    "start_time": "2021-07-14T11:29:48.429Z"
   },
   {
    "duration": 12,
    "start_time": "2021-07-14T11:29:48.719Z"
   },
   {
    "duration": 9,
    "start_time": "2021-07-14T11:29:49.049Z"
   },
   {
    "duration": 8,
    "start_time": "2021-07-14T11:29:49.337Z"
   },
   {
    "duration": 8,
    "start_time": "2021-07-14T11:29:49.882Z"
   },
   {
    "duration": 5,
    "start_time": "2021-07-14T11:29:51.972Z"
   },
   {
    "duration": 9,
    "start_time": "2021-07-14T11:29:56.922Z"
   },
   {
    "duration": 16,
    "start_time": "2021-07-14T11:29:58.179Z"
   },
   {
    "duration": 3,
    "start_time": "2021-07-14T11:29:58.512Z"
   },
   {
    "duration": 17,
    "start_time": "2021-07-14T11:29:58.908Z"
   },
   {
    "duration": 4,
    "start_time": "2021-07-14T11:29:59.284Z"
   },
   {
    "duration": 4,
    "start_time": "2021-07-14T11:29:59.841Z"
   },
   {
    "duration": 12,
    "start_time": "2021-07-14T11:30:01.062Z"
   },
   {
    "duration": 11,
    "start_time": "2021-07-14T11:30:02.226Z"
   },
   {
    "duration": 3,
    "start_time": "2021-07-14T11:30:02.746Z"
   },
   {
    "duration": 2,
    "start_time": "2021-07-14T11:30:03.281Z"
   },
   {
    "duration": 10,
    "start_time": "2021-07-14T11:30:04.335Z"
   },
   {
    "duration": 10,
    "start_time": "2021-07-14T11:30:05.924Z"
   },
   {
    "duration": 3,
    "start_time": "2021-07-14T11:30:06.296Z"
   },
   {
    "duration": 4,
    "start_time": "2021-07-14T11:30:06.674Z"
   },
   {
    "duration": 3,
    "start_time": "2021-07-14T11:30:07.111Z"
   },
   {
    "duration": 13,
    "start_time": "2021-07-14T11:30:08.068Z"
   },
   {
    "duration": 7,
    "start_time": "2021-07-14T11:30:09.047Z"
   },
   {
    "duration": 7,
    "start_time": "2021-07-14T11:30:09.854Z"
   },
   {
    "duration": 8,
    "start_time": "2021-07-14T11:30:10.642Z"
   },
   {
    "duration": 5,
    "start_time": "2021-07-14T11:30:11.487Z"
   },
   {
    "duration": 7,
    "start_time": "2021-07-14T11:30:11.861Z"
   },
   {
    "duration": 11,
    "start_time": "2021-07-14T11:30:12.317Z"
   },
   {
    "duration": 4,
    "start_time": "2021-07-14T11:30:13.581Z"
   },
   {
    "duration": 8,
    "start_time": "2021-07-14T11:30:14.627Z"
   },
   {
    "duration": 11,
    "start_time": "2021-07-14T11:30:16.744Z"
   },
   {
    "duration": 8,
    "start_time": "2021-07-14T11:30:17.149Z"
   },
   {
    "duration": 8,
    "start_time": "2021-07-14T11:30:17.627Z"
   },
   {
    "duration": 9,
    "start_time": "2021-07-14T11:30:18.109Z"
   },
   {
    "duration": 7,
    "start_time": "2021-07-14T11:30:18.468Z"
   },
   {
    "duration": 10,
    "start_time": "2021-07-14T11:30:18.982Z"
   },
   {
    "duration": 8,
    "start_time": "2021-07-14T11:30:19.442Z"
   },
   {
    "duration": 7,
    "start_time": "2021-07-14T11:30:20.668Z"
   },
   {
    "duration": 5,
    "start_time": "2021-07-14T11:30:21.109Z"
   },
   {
    "duration": 6,
    "start_time": "2021-07-14T11:30:22.501Z"
   },
   {
    "duration": 4,
    "start_time": "2021-07-14T11:30:23.047Z"
   },
   {
    "duration": 3,
    "start_time": "2021-07-14T11:30:23.879Z"
   },
   {
    "duration": 3,
    "start_time": "2021-07-14T11:30:24.378Z"
   },
   {
    "duration": 3,
    "start_time": "2021-07-14T11:30:24.864Z"
   },
   {
    "duration": 8,
    "start_time": "2021-07-14T11:30:25.393Z"
   },
   {
    "duration": 24,
    "start_time": "2021-07-14T11:30:25.943Z"
   },
   {
    "duration": 7,
    "start_time": "2021-07-14T11:30:26.541Z"
   },
   {
    "duration": 66,
    "start_time": "2021-07-14T11:30:40.555Z"
   },
   {
    "duration": 10,
    "start_time": "2021-07-14T11:30:41.455Z"
   },
   {
    "duration": 13,
    "start_time": "2021-07-14T11:30:46.625Z"
   },
   {
    "duration": 8,
    "start_time": "2021-07-14T11:30:51.937Z"
   },
   {
    "duration": 11,
    "start_time": "2021-07-14T11:30:52.736Z"
   },
   {
    "duration": 11,
    "start_time": "2021-07-14T11:30:53.540Z"
   },
   {
    "duration": 11,
    "start_time": "2021-07-14T11:30:54.648Z"
   },
   {
    "duration": 7,
    "start_time": "2021-07-14T11:30:55.191Z"
   },
   {
    "duration": 302,
    "start_time": "2021-07-14T11:30:56.510Z"
   },
   {
    "duration": 21,
    "start_time": "2021-07-14T11:30:59.249Z"
   },
   {
    "duration": 9,
    "start_time": "2021-07-14T11:30:59.740Z"
   },
   {
    "duration": 20,
    "start_time": "2021-07-14T11:31:00.706Z"
   },
   {
    "duration": 10,
    "start_time": "2021-07-14T11:31:01.242Z"
   },
   {
    "duration": 8,
    "start_time": "2021-07-14T11:31:02.878Z"
   },
   {
    "duration": 54,
    "start_time": "2021-07-14T11:31:03.757Z"
   },
   {
    "duration": 10,
    "start_time": "2021-07-14T11:31:04.921Z"
   },
   {
    "duration": 6,
    "start_time": "2021-07-14T11:31:08.796Z"
   },
   {
    "duration": 12,
    "start_time": "2021-07-14T11:31:10.381Z"
   },
   {
    "duration": 991,
    "start_time": "2021-07-14T11:31:10.894Z"
   },
   {
    "duration": 1089,
    "start_time": "2021-07-14T11:31:11.887Z"
   },
   {
    "duration": 704,
    "start_time": "2021-07-14T11:31:13.024Z"
   },
   {
    "duration": 319,
    "start_time": "2021-07-14T11:31:15.195Z"
   },
   {
    "duration": 6,
    "start_time": "2021-07-14T11:31:15.974Z"
   },
   {
    "duration": 6,
    "start_time": "2021-07-14T11:31:17.939Z"
   },
   {
    "duration": 11,
    "start_time": "2021-07-14T11:31:18.519Z"
   },
   {
    "duration": 6,
    "start_time": "2021-07-14T11:31:19.055Z"
   },
   {
    "duration": 8,
    "start_time": "2021-07-14T11:31:19.505Z"
   },
   {
    "duration": 7,
    "start_time": "2021-07-14T11:31:20.135Z"
   },
   {
    "duration": 7,
    "start_time": "2021-07-14T11:31:20.746Z"
   },
   {
    "duration": 411,
    "start_time": "2021-07-14T11:31:21.838Z"
   },
   {
    "duration": 55,
    "start_time": "2021-07-14T11:31:38.976Z"
   },
   {
    "duration": 312,
    "start_time": "2021-07-14T11:31:40.564Z"
   },
   {
    "duration": 6,
    "start_time": "2021-07-14T11:31:43.468Z"
   },
   {
    "duration": 11,
    "start_time": "2021-07-14T11:31:46.112Z"
   },
   {
    "duration": 1609,
    "start_time": "2021-07-14T14:51:20.987Z"
   },
   {
    "duration": 591,
    "start_time": "2021-07-14T14:51:22.602Z"
   },
   {
    "duration": 21,
    "start_time": "2021-07-14T14:51:23.197Z"
   },
   {
    "duration": 9,
    "start_time": "2021-07-14T14:51:23.220Z"
   },
   {
    "duration": 20,
    "start_time": "2021-07-14T14:51:23.231Z"
   },
   {
    "duration": 25,
    "start_time": "2021-07-14T14:51:23.254Z"
   },
   {
    "duration": 22,
    "start_time": "2021-07-14T14:51:23.310Z"
   },
   {
    "duration": 15,
    "start_time": "2021-07-14T14:51:23.337Z"
   },
   {
    "duration": 69,
    "start_time": "2021-07-14T14:51:23.354Z"
   },
   {
    "duration": 21,
    "start_time": "2021-07-14T14:51:23.425Z"
   },
   {
    "duration": 12,
    "start_time": "2021-07-14T14:51:23.448Z"
   },
   {
    "duration": 16,
    "start_time": "2021-07-14T14:51:23.463Z"
   },
   {
    "duration": 16,
    "start_time": "2021-07-14T14:51:23.510Z"
   },
   {
    "duration": 16,
    "start_time": "2021-07-14T14:51:23.528Z"
   },
   {
    "duration": 12,
    "start_time": "2021-07-14T14:51:23.548Z"
   },
   {
    "duration": 48,
    "start_time": "2021-07-14T14:51:23.563Z"
   },
   {
    "duration": 11,
    "start_time": "2021-07-14T14:51:23.614Z"
   },
   {
    "duration": 7,
    "start_time": "2021-07-14T14:51:23.627Z"
   },
   {
    "duration": 9,
    "start_time": "2021-07-14T14:51:23.636Z"
   },
   {
    "duration": 14,
    "start_time": "2021-07-14T14:51:23.648Z"
   },
   {
    "duration": 59,
    "start_time": "2021-07-14T14:51:23.665Z"
   },
   {
    "duration": 16,
    "start_time": "2021-07-14T14:51:23.727Z"
   },
   {
    "duration": 24,
    "start_time": "2021-07-14T14:51:23.745Z"
   },
   {
    "duration": 44,
    "start_time": "2021-07-14T14:51:23.771Z"
   },
   {
    "duration": 18,
    "start_time": "2021-07-14T14:51:23.817Z"
   },
   {
    "duration": 12,
    "start_time": "2021-07-14T14:51:23.841Z"
   },
   {
    "duration": 7,
    "start_time": "2021-07-14T14:51:23.858Z"
   },
   {
    "duration": 50,
    "start_time": "2021-07-14T14:51:23.867Z"
   },
   {
    "duration": 10,
    "start_time": "2021-07-14T14:51:23.920Z"
   },
   {
    "duration": 25,
    "start_time": "2021-07-14T14:51:23.933Z"
   },
   {
    "duration": 10,
    "start_time": "2021-07-14T14:51:23.962Z"
   },
   {
    "duration": 55,
    "start_time": "2021-07-14T14:51:23.975Z"
   },
   {
    "duration": 17,
    "start_time": "2021-07-14T14:51:24.033Z"
   },
   {
    "duration": 20,
    "start_time": "2021-07-14T14:51:24.053Z"
   },
   {
    "duration": 44,
    "start_time": "2021-07-14T14:51:24.076Z"
   },
   {
    "duration": 14,
    "start_time": "2021-07-14T14:51:24.123Z"
   },
   {
    "duration": 16,
    "start_time": "2021-07-14T14:51:24.140Z"
   },
   {
    "duration": 50,
    "start_time": "2021-07-14T14:51:24.159Z"
   },
   {
    "duration": 11,
    "start_time": "2021-07-14T14:51:24.212Z"
   },
   {
    "duration": 20,
    "start_time": "2021-07-14T14:51:24.225Z"
   },
   {
    "duration": 4,
    "start_time": "2021-07-14T14:51:24.247Z"
   },
   {
    "duration": 56,
    "start_time": "2021-07-14T14:51:24.253Z"
   },
   {
    "duration": 4,
    "start_time": "2021-07-14T14:51:24.311Z"
   },
   {
    "duration": 9,
    "start_time": "2021-07-14T14:51:24.318Z"
   },
   {
    "duration": 19,
    "start_time": "2021-07-14T14:51:24.330Z"
   },
   {
    "duration": 15,
    "start_time": "2021-07-14T14:51:24.352Z"
   },
   {
    "duration": 4,
    "start_time": "2021-07-14T14:51:24.370Z"
   },
   {
    "duration": 40,
    "start_time": "2021-07-14T14:51:24.376Z"
   },
   {
    "duration": 20,
    "start_time": "2021-07-14T14:51:24.419Z"
   },
   {
    "duration": 17,
    "start_time": "2021-07-14T14:51:24.441Z"
   },
   {
    "duration": 4,
    "start_time": "2021-07-14T14:51:24.460Z"
   },
   {
    "duration": 8,
    "start_time": "2021-07-14T14:51:24.466Z"
   },
   {
    "duration": 34,
    "start_time": "2021-07-14T14:51:24.477Z"
   },
   {
    "duration": 25,
    "start_time": "2021-07-14T14:51:24.513Z"
   },
   {
    "duration": 17,
    "start_time": "2021-07-14T14:51:24.540Z"
   },
   {
    "duration": 10,
    "start_time": "2021-07-14T14:51:24.560Z"
   },
   {
    "duration": 44,
    "start_time": "2021-07-14T14:51:24.573Z"
   },
   {
    "duration": 6,
    "start_time": "2021-07-14T14:51:24.619Z"
   },
   {
    "duration": 15,
    "start_time": "2021-07-14T14:51:24.627Z"
   },
   {
    "duration": 27,
    "start_time": "2021-07-14T14:51:24.644Z"
   },
   {
    "duration": 35,
    "start_time": "2021-07-14T14:51:24.674Z"
   },
   {
    "duration": 20,
    "start_time": "2021-07-14T14:51:24.711Z"
   },
   {
    "duration": 24,
    "start_time": "2021-07-14T14:51:24.734Z"
   },
   {
    "duration": 13,
    "start_time": "2021-07-14T14:51:24.760Z"
   },
   {
    "duration": 33,
    "start_time": "2021-07-14T14:51:24.776Z"
   },
   {
    "duration": 14,
    "start_time": "2021-07-14T14:51:24.812Z"
   },
   {
    "duration": 24,
    "start_time": "2021-07-14T14:51:24.828Z"
   },
   {
    "duration": 21,
    "start_time": "2021-07-14T14:51:24.854Z"
   },
   {
    "duration": 16,
    "start_time": "2021-07-14T14:51:24.877Z"
   },
   {
    "duration": 8,
    "start_time": "2021-07-14T14:51:24.910Z"
   },
   {
    "duration": 16,
    "start_time": "2021-07-14T14:51:24.920Z"
   },
   {
    "duration": 14,
    "start_time": "2021-07-14T14:51:24.938Z"
   },
   {
    "duration": 6,
    "start_time": "2021-07-14T14:51:24.954Z"
   },
   {
    "duration": 11,
    "start_time": "2021-07-14T14:51:24.962Z"
   },
   {
    "duration": 7,
    "start_time": "2021-07-14T14:51:24.975Z"
   },
   {
    "duration": 5,
    "start_time": "2021-07-14T14:51:25.009Z"
   },
   {
    "duration": 13,
    "start_time": "2021-07-14T14:51:25.016Z"
   },
   {
    "duration": 44,
    "start_time": "2021-07-14T14:51:25.032Z"
   },
   {
    "duration": 135,
    "start_time": "2021-07-14T14:51:25.109Z"
   },
   {
    "duration": 15,
    "start_time": "2021-07-14T14:51:25.255Z"
   },
   {
    "duration": 44,
    "start_time": "2021-07-14T14:51:25.273Z"
   },
   {
    "duration": 14,
    "start_time": "2021-07-14T14:51:25.319Z"
   },
   {
    "duration": 19,
    "start_time": "2021-07-14T14:51:25.335Z"
   },
   {
    "duration": 17,
    "start_time": "2021-07-14T14:51:25.357Z"
   },
   {
    "duration": 51,
    "start_time": "2021-07-14T14:51:25.376Z"
   },
   {
    "duration": 11,
    "start_time": "2021-07-14T14:51:25.429Z"
   },
   {
    "duration": 646,
    "start_time": "2021-07-14T14:51:25.442Z"
   },
   {
    "duration": 43,
    "start_time": "2021-07-14T14:51:26.091Z"
   },
   {
    "duration": 13,
    "start_time": "2021-07-14T14:51:26.137Z"
   },
   {
    "duration": 60,
    "start_time": "2021-07-14T14:51:26.152Z"
   },
   {
    "duration": 14,
    "start_time": "2021-07-14T14:51:26.214Z"
   },
   {
    "duration": 11,
    "start_time": "2021-07-14T14:51:26.230Z"
   },
   {
    "duration": 128,
    "start_time": "2021-07-14T14:51:26.243Z"
   },
   {
    "duration": 42,
    "start_time": "2021-07-14T14:51:26.373Z"
   },
   {
    "duration": 10,
    "start_time": "2021-07-14T14:51:26.417Z"
   },
   {
    "duration": 24,
    "start_time": "2021-07-14T14:51:26.430Z"
   },
   {
    "duration": 2084,
    "start_time": "2021-07-14T14:51:26.457Z"
   },
   {
    "duration": 2284,
    "start_time": "2021-07-14T14:51:28.544Z"
   },
   {
    "duration": 1412,
    "start_time": "2021-07-14T14:51:30.830Z"
   },
   {
    "duration": 636,
    "start_time": "2021-07-14T14:51:32.244Z"
   },
   {
    "duration": 8,
    "start_time": "2021-07-14T14:51:32.882Z"
   },
   {
    "duration": 10,
    "start_time": "2021-07-14T14:51:32.909Z"
   },
   {
    "duration": 25,
    "start_time": "2021-07-14T14:51:32.921Z"
   },
   {
    "duration": 22,
    "start_time": "2021-07-14T14:51:32.948Z"
   },
   {
    "duration": 18,
    "start_time": "2021-07-14T14:51:32.973Z"
   },
   {
    "duration": 21,
    "start_time": "2021-07-14T14:51:32.994Z"
   },
   {
    "duration": 11,
    "start_time": "2021-07-14T14:51:33.018Z"
   },
   {
    "duration": 734,
    "start_time": "2021-07-14T14:51:33.032Z"
   },
   {
    "duration": 111,
    "start_time": "2021-07-14T14:51:33.768Z"
   },
   {
    "duration": 642,
    "start_time": "2021-07-14T14:51:33.881Z"
   },
   {
    "duration": 8,
    "start_time": "2021-07-14T14:51:34.526Z"
   },
   {
    "duration": 21,
    "start_time": "2021-07-14T14:51:34.537Z"
   },
   {
    "duration": 1846,
    "start_time": "2021-07-15T08:27:09.397Z"
   },
   {
    "duration": 585,
    "start_time": "2021-07-15T08:27:11.246Z"
   },
   {
    "duration": 23,
    "start_time": "2021-07-15T08:27:11.834Z"
   },
   {
    "duration": 14,
    "start_time": "2021-07-15T08:27:11.859Z"
   },
   {
    "duration": 16,
    "start_time": "2021-07-15T08:27:11.876Z"
   },
   {
    "duration": 19,
    "start_time": "2021-07-15T08:27:11.895Z"
   },
   {
    "duration": 52,
    "start_time": "2021-07-15T08:27:11.916Z"
   },
   {
    "duration": 21,
    "start_time": "2021-07-15T08:27:11.972Z"
   },
   {
    "duration": 15,
    "start_time": "2021-07-15T08:27:11.996Z"
   },
   {
    "duration": 68,
    "start_time": "2021-07-15T08:27:12.013Z"
   },
   {
    "duration": 24,
    "start_time": "2021-07-15T08:27:12.083Z"
   },
   {
    "duration": 13,
    "start_time": "2021-07-15T08:27:12.109Z"
   },
   {
    "duration": 49,
    "start_time": "2021-07-15T08:27:12.124Z"
   },
   {
    "duration": 25,
    "start_time": "2021-07-15T08:27:12.176Z"
   },
   {
    "duration": 14,
    "start_time": "2021-07-15T08:27:12.204Z"
   },
   {
    "duration": 10,
    "start_time": "2021-07-15T08:27:12.220Z"
   },
   {
    "duration": 26,
    "start_time": "2021-07-15T08:27:12.232Z"
   },
   {
    "duration": 11,
    "start_time": "2021-07-15T08:27:12.267Z"
   },
   {
    "duration": 11,
    "start_time": "2021-07-15T08:27:12.281Z"
   },
   {
    "duration": 22,
    "start_time": "2021-07-15T08:27:12.294Z"
   },
   {
    "duration": 18,
    "start_time": "2021-07-15T08:27:12.318Z"
   },
   {
    "duration": 41,
    "start_time": "2021-07-15T08:27:12.339Z"
   },
   {
    "duration": 16,
    "start_time": "2021-07-15T08:27:12.386Z"
   },
   {
    "duration": 24,
    "start_time": "2021-07-15T08:27:12.406Z"
   },
   {
    "duration": 39,
    "start_time": "2021-07-15T08:27:12.432Z"
   },
   {
    "duration": 17,
    "start_time": "2021-07-15T08:27:12.473Z"
   },
   {
    "duration": 13,
    "start_time": "2021-07-15T08:27:12.492Z"
   },
   {
    "duration": 8,
    "start_time": "2021-07-15T08:27:12.508Z"
   },
   {
    "duration": 59,
    "start_time": "2021-07-15T08:27:12.518Z"
   },
   {
    "duration": 8,
    "start_time": "2021-07-15T08:27:12.579Z"
   },
   {
    "duration": 26,
    "start_time": "2021-07-15T08:27:12.589Z"
   },
   {
    "duration": 15,
    "start_time": "2021-07-15T08:27:12.617Z"
   },
   {
    "duration": 40,
    "start_time": "2021-07-15T08:27:12.635Z"
   },
   {
    "duration": 14,
    "start_time": "2021-07-15T08:27:12.678Z"
   },
   {
    "duration": 18,
    "start_time": "2021-07-15T08:27:12.694Z"
   },
   {
    "duration": 12,
    "start_time": "2021-07-15T08:27:12.714Z"
   },
   {
    "duration": 46,
    "start_time": "2021-07-15T08:27:12.729Z"
   },
   {
    "duration": 17,
    "start_time": "2021-07-15T08:27:12.777Z"
   },
   {
    "duration": 7,
    "start_time": "2021-07-15T08:27:12.797Z"
   },
   {
    "duration": 15,
    "start_time": "2021-07-15T08:27:12.806Z"
   },
   {
    "duration": 46,
    "start_time": "2021-07-15T08:27:12.823Z"
   },
   {
    "duration": 14,
    "start_time": "2021-07-15T08:27:12.871Z"
   },
   {
    "duration": 13,
    "start_time": "2021-07-15T08:27:12.887Z"
   },
   {
    "duration": 14,
    "start_time": "2021-07-15T08:27:12.903Z"
   },
   {
    "duration": 58,
    "start_time": "2021-07-15T08:27:12.920Z"
   },
   {
    "duration": 14,
    "start_time": "2021-07-15T08:27:12.980Z"
   },
   {
    "duration": 95,
    "start_time": "2021-07-15T08:27:12.997Z"
   },
   {
    "duration": 3,
    "start_time": "2021-07-15T08:27:13.095Z"
   },
   {
    "duration": 24,
    "start_time": "2021-07-15T08:27:13.100Z"
   },
   {
    "duration": 17,
    "start_time": "2021-07-15T08:27:13.126Z"
   },
   {
    "duration": 4,
    "start_time": "2021-07-15T08:27:13.145Z"
   },
   {
    "duration": 4,
    "start_time": "2021-07-15T08:27:13.166Z"
   },
   {
    "duration": 22,
    "start_time": "2021-07-15T08:27:13.172Z"
   },
   {
    "duration": 14,
    "start_time": "2021-07-15T08:27:13.196Z"
   },
   {
    "duration": 4,
    "start_time": "2021-07-15T08:27:13.212Z"
   },
   {
    "duration": 17,
    "start_time": "2021-07-15T08:27:13.218Z"
   },
   {
    "duration": 30,
    "start_time": "2021-07-15T08:27:13.237Z"
   },
   {
    "duration": 28,
    "start_time": "2021-07-15T08:27:13.269Z"
   },
   {
    "duration": 13,
    "start_time": "2021-07-15T08:27:13.299Z"
   },
   {
    "duration": 15,
    "start_time": "2021-07-15T08:27:13.315Z"
   },
   {
    "duration": 39,
    "start_time": "2021-07-15T08:27:13.332Z"
   },
   {
    "duration": 8,
    "start_time": "2021-07-15T08:27:13.374Z"
   },
   {
    "duration": 14,
    "start_time": "2021-07-15T08:27:13.384Z"
   },
   {
    "duration": 19,
    "start_time": "2021-07-15T08:27:13.401Z"
   },
   {
    "duration": 7,
    "start_time": "2021-07-15T08:27:13.422Z"
   },
   {
    "duration": 43,
    "start_time": "2021-07-15T08:27:13.431Z"
   },
   {
    "duration": 14,
    "start_time": "2021-07-15T08:27:13.477Z"
   },
   {
    "duration": 13,
    "start_time": "2021-07-15T08:27:13.501Z"
   },
   {
    "duration": 13,
    "start_time": "2021-07-15T08:27:13.517Z"
   },
   {
    "duration": 15,
    "start_time": "2021-07-15T08:27:13.568Z"
   },
   {
    "duration": 18,
    "start_time": "2021-07-15T08:27:13.585Z"
   },
   {
    "duration": 29,
    "start_time": "2021-07-15T08:27:13.605Z"
   },
   {
    "duration": 11,
    "start_time": "2021-07-15T08:27:13.636Z"
   },
   {
    "duration": 23,
    "start_time": "2021-07-15T08:27:13.649Z"
   },
   {
    "duration": 8,
    "start_time": "2021-07-15T08:27:13.674Z"
   },
   {
    "duration": 13,
    "start_time": "2021-07-15T08:27:13.684Z"
   },
   {
    "duration": 8,
    "start_time": "2021-07-15T08:27:13.700Z"
   },
   {
    "duration": 17,
    "start_time": "2021-07-15T08:27:13.710Z"
   },
   {
    "duration": 15,
    "start_time": "2021-07-15T08:27:13.729Z"
   },
   {
    "duration": 24,
    "start_time": "2021-07-15T08:27:13.746Z"
   },
   {
    "duration": 16,
    "start_time": "2021-07-15T08:27:13.772Z"
   },
   {
    "duration": 12,
    "start_time": "2021-07-15T08:27:13.790Z"
   },
   {
    "duration": 26,
    "start_time": "2021-07-15T08:27:13.805Z"
   },
   {
    "duration": 53,
    "start_time": "2021-07-15T08:27:13.834Z"
   },
   {
    "duration": 135,
    "start_time": "2021-07-15T08:27:13.890Z"
   },
   {
    "duration": 17,
    "start_time": "2021-07-15T08:27:14.027Z"
   },
   {
    "duration": 39,
    "start_time": "2021-07-15T08:27:14.047Z"
   },
   {
    "duration": 13,
    "start_time": "2021-07-15T08:27:14.088Z"
   },
   {
    "duration": 21,
    "start_time": "2021-07-15T08:27:14.104Z"
   },
   {
    "duration": 51,
    "start_time": "2021-07-15T08:27:14.128Z"
   },
   {
    "duration": 19,
    "start_time": "2021-07-15T08:27:14.182Z"
   },
   {
    "duration": 11,
    "start_time": "2021-07-15T08:27:14.204Z"
   },
   {
    "duration": 606,
    "start_time": "2021-07-15T08:27:14.217Z"
   },
   {
    "duration": 54,
    "start_time": "2021-07-15T08:27:14.826Z"
   },
   {
    "duration": 14,
    "start_time": "2021-07-15T08:27:14.883Z"
   },
   {
    "duration": 46,
    "start_time": "2021-07-15T08:27:14.900Z"
   },
   {
    "duration": 30,
    "start_time": "2021-07-15T08:27:14.948Z"
   },
   {
    "duration": 14,
    "start_time": "2021-07-15T08:27:14.981Z"
   },
   {
    "duration": 19,
    "start_time": "2021-07-15T08:27:14.998Z"
   },
   {
    "duration": 1950,
    "start_time": "2021-07-15T08:27:15.020Z"
   },
   {
    "duration": 2165,
    "start_time": "2021-07-15T08:27:16.972Z"
   },
   {
    "duration": 1386,
    "start_time": "2021-07-15T08:27:19.139Z"
   },
   {
    "duration": 617,
    "start_time": "2021-07-15T08:27:20.527Z"
   },
   {
    "duration": 8,
    "start_time": "2021-07-15T08:27:21.146Z"
   },
   {
    "duration": 9,
    "start_time": "2021-07-15T08:27:21.168Z"
   },
   {
    "duration": 22,
    "start_time": "2021-07-15T08:27:21.179Z"
   },
   {
    "duration": 12,
    "start_time": "2021-07-15T08:27:21.203Z"
   },
   {
    "duration": 13,
    "start_time": "2021-07-15T08:27:21.218Z"
   },
   {
    "duration": 39,
    "start_time": "2021-07-15T08:27:21.233Z"
   },
   {
    "duration": 22,
    "start_time": "2021-07-15T08:27:21.274Z"
   },
   {
    "duration": 853,
    "start_time": "2021-07-15T08:27:21.298Z"
   },
   {
    "duration": 14,
    "start_time": "2021-07-15T08:27:22.153Z"
   },
   {
    "duration": 19,
    "start_time": "2021-07-15T08:27:22.169Z"
   }
  ],
  "kernelspec": {
   "display_name": "Python 3",
   "language": "python",
   "name": "python3"
  },
  "language_info": {
   "codemirror_mode": {
    "name": "ipython",
    "version": 3
   },
   "file_extension": ".py",
   "mimetype": "text/x-python",
   "name": "python",
   "nbconvert_exporter": "python",
   "pygments_lexer": "ipython3",
   "version": "3.8.8"
  },
  "toc": {
   "base_numbering": 1,
   "nav_menu": {},
   "number_sections": true,
   "sideBar": true,
   "skip_h1_title": true,
   "title_cell": "Table of Contents",
   "title_sidebar": "Contents",
   "toc_cell": false,
   "toc_position": {},
   "toc_section_display": true,
   "toc_window_display": false
  }
 },
 "nbformat": 4,
 "nbformat_minor": 5
}
